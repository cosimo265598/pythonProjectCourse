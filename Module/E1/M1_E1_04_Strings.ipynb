{
 "cells": [
  {
   "cell_type": "code",
   "execution_count": 30,
   "id": "cb837501",
   "metadata": {
    "jupyter": {
     "source_hidden": true
    },
    "scrolled": true,
    "tags": []
   },
   "outputs": [
    {
     "data": {
      "text/html": [
       "\n",
       "<style>\n",
       ".advanced-cell {\n",
       "    background-color: #e84c2250;\n",
       "}\n",
       ".advanced-cell::after {\n",
       "    position: absolute;\n",
       "    display: block;\n",
       "    top: -2px;\n",
       "    right: -2px;\n",
       "    width: 5px;\n",
       "    height: calc(100% + 3px);\n",
       "    content: '';\n",
       "    background: #e84c22;\n",
       "}\n",
       ".advanced-label-row {\n",
       "    border-bottom: 1px solid #e84c22;\n",
       "    display: flex;\n",
       "    font-weight: bold;\n",
       "}\n",
       ".advanced-label {\n",
       "    margin-left: auto;\n",
       "    background-color: #e84c22;\n",
       "    padding: 5px 8px;\n",
       "    color: white;\n",
       "    margin-right: -2px;\n",
       "}\n",
       "</style>\n",
       "<script>\n",
       "\n",
       "// A function to hide/show highlight advanced topics in the notebook\n",
       "var highlighted = false;\n",
       "function highlight_advanced_topics() {\n",
       "    $(\".advanced-cell\").removeClass(\"advanced-cell\");\n",
       "    $(\".advanced-label-row\").remove();\n",
       "    if(highlighted) {\n",
       "        highlighted = false;\n",
       "        return;\n",
       "    }\n",
       "    var advanced = false;\n",
       "    $(\".jp-Cell.jp-MarkdownCell,.jp-Cell.jp-CodeCell\").each(function(){\n",
       "        if(!advanced) {\n",
       "            if($(this).find(\".advanced-start\").length > 0) {\n",
       "                $(this).before(\"<div class='advanced-label-row'><span class='advanced-label'>Advanced Topic</span></div>\");\n",
       "                $(this).addClass(\"advanced-cell\");\n",
       "                advanced = true;\n",
       "            }        \n",
       "        } else {\n",
       "            if($(this).find(\".advanced-stop\").length > 0) {\n",
       "                if($(this).find(\".advanced-start\").length > 0) {\n",
       "                    $(this).before(\"<div class='advanced-label-row' style='margin-top: 10px;'><span class='advanced-label'>Advanced Topic</span></div>\");\n",
       "                    $(this).addClass(\"advanced-cell\");\n",
       "                } else {\n",
       "                    advanced = false;\n",
       "                }\n",
       "            } else {\n",
       "                $(this).addClass(\"advanced-cell\");\n",
       "            }\n",
       "        }\n",
       "    });\n",
       "    highlighted = true\n",
       "}\n",
       "\n",
       "(function() {\n",
       "  // Load the script\n",
       "  const script = document.createElement(\"script\");\n",
       "  script.src = 'https://ajax.googleapis.com/ajax/libs/jquery/3.6.0/jquery.min.js';\n",
       "  script.type = 'text/javascript';\n",
       "  script.addEventListener('load', () => {\n",
       "    $(document).ready(highlight_advanced_topics);\n",
       "  });\n",
       "  document.head.appendChild(script);\n",
       "})();\n",
       "</script>\n",
       "<div class=\"m-5 p-5\"><span class=\"alert alert-block alert-danger\">Advanced topics in notebook are highlighted!</span></div>"
      ],
      "text/plain": [
       "<IPython.core.display.HTML object>"
      ]
     },
     "metadata": {},
     "output_type": "display_data"
    }
   ],
   "source": [
    "from IPython.display import HTML\n",
    "from IPython.display import display\n",
    "\n",
    "tag = HTML('''\n",
    "<style>\n",
    ".advanced-cell {\n",
    "    background-color: #e84c2250;\n",
    "}\n",
    ".advanced-cell::after {\n",
    "    position: absolute;\n",
    "    display: block;\n",
    "    top: -2px;\n",
    "    right: -2px;\n",
    "    width: 5px;\n",
    "    height: calc(100% + 3px);\n",
    "    content: '';\n",
    "    background: #e84c22;\n",
    "}\n",
    ".advanced-label-row {\n",
    "    border-bottom: 1px solid #e84c22;\n",
    "    display: flex;\n",
    "    font-weight: bold;\n",
    "}\n",
    ".advanced-label {\n",
    "    margin-left: auto;\n",
    "    background-color: #e84c22;\n",
    "    padding: 5px 8px;\n",
    "    color: white;\n",
    "    margin-right: -2px;\n",
    "}\n",
    "</style>\n",
    "<script>\n",
    "\n",
    "// A function to hide/show highlight advanced topics in the notebook\n",
    "var highlighted = false;\n",
    "function highlight_advanced_topics() {\n",
    "    $(\".advanced-cell\").removeClass(\"advanced-cell\");\n",
    "    $(\".advanced-label-row\").remove();\n",
    "    if(highlighted) {\n",
    "        highlighted = false;\n",
    "        return;\n",
    "    }\n",
    "    var advanced = false;\n",
    "    $(\".jp-Cell.jp-MarkdownCell,.jp-Cell.jp-CodeCell\").each(function(){\n",
    "        if(!advanced) {\n",
    "            if($(this).find(\".advanced-start\").length > 0) {\n",
    "                $(this).before(\"<div class='advanced-label-row'><span class='advanced-label'>Advanced Topic</span></div>\");\n",
    "                $(this).addClass(\"advanced-cell\");\n",
    "                advanced = true;\n",
    "            }        \n",
    "        } else {\n",
    "            if($(this).find(\".advanced-stop\").length > 0) {\n",
    "                if($(this).find(\".advanced-start\").length > 0) {\n",
    "                    $(this).before(\"<div class='advanced-label-row' style='margin-top: 10px;'><span class='advanced-label'>Advanced Topic</span></div>\");\n",
    "                    $(this).addClass(\"advanced-cell\");\n",
    "                } else {\n",
    "                    advanced = false;\n",
    "                }\n",
    "            } else {\n",
    "                $(this).addClass(\"advanced-cell\");\n",
    "            }\n",
    "        }\n",
    "    });\n",
    "    highlighted = true\n",
    "}\n",
    "\n",
    "(function() {\n",
    "  // Load the script\n",
    "  const script = document.createElement(\"script\");\n",
    "  script.src = 'https://ajax.googleapis.com/ajax/libs/jquery/3.6.0/jquery.min.js';\n",
    "  script.type = 'text/javascript';\n",
    "  script.addEventListener('load', () => {\n",
    "    $(document).ready(highlight_advanced_topics);\n",
    "  });\n",
    "  document.head.appendChild(script);\n",
    "})();\n",
    "</script>\n",
    "<div class=\"m-5 p-5\"><span class=\"alert alert-block alert-danger\">Advanced topics in notebook are highlighted!</span></div>''')\n",
    "display(tag)"
   ]
  },
  {
   "cell_type": "markdown",
   "id": "de95fa25",
   "metadata": {},
   "source": [
    "# Strings in Python\n",
    "\n",
    "Strings are sequences of characters. Whichever our application may be, more often than not we end up processing strings at least to some extent in our programs. In Python, strings are objects of type `str` and a rich set of operators, functions, and methods is available for working with them.\n",
    "\n",
    "Strings are a fundamental data type but they also have some quirks you should know about. Let's have a closer look."
   ]
  },
  {
   "cell_type": "markdown",
   "id": "e1b4de2b",
   "metadata": {},
   "source": [
    "## String literals\n",
    "A **string literal** is an expression that we can use to represent a specific string value. String literals can be defined by enclosing a sequence of characters using either single or double quotes."
   ]
  },
  {
   "cell_type": "code",
   "execution_count": 56,
   "id": "612602f1",
   "metadata": {
    "tags": []
   },
   "outputs": [
    {
     "name": "stdout",
     "output_type": "stream",
     "text": [
      "<class 'str'> <class 'str'>\n",
      "True\n",
      "True\n"
     ]
    }
   ],
   "source": [
    "str1 = \"StringLiteral\"\n",
    "str2 = 'StringLiteral'\n",
    "print(type(str1), type(str2))\n",
    "print(str1 == str2)"
   ]
  },
  {
   "cell_type": "markdown",
   "id": "b7331cdd",
   "metadata": {},
   "source": [
    "A string in Python can contain as many characters as our memory allows and can also be empty. We can use the built-in function `len()` to get the length of a string."
   ]
  },
  {
   "cell_type": "code",
   "execution_count": 119,
   "id": "e1009ffb",
   "metadata": {},
   "outputs": [
    {
     "name": "stdout",
     "output_type": "stream",
     "text": [
      "\n",
      "0\n"
     ]
    }
   ],
   "source": [
    "empty = \"\"\n",
    "print(empty)\n",
    "print(len(empty))"
   ]
  },
  {
   "cell_type": "markdown",
   "id": "6155f72e",
   "metadata": {},
   "source": [
    "We can use a backslash (`\\`) to suppress or apply a special interpretation of certain characters within a string. A backslash followed by one of more characters is referred to an escape sequence. For instance we can suppress the special interpretation of the single quote in a string literal defined using single quotes:"
   ]
  },
  {
   "cell_type": "code",
   "execution_count": 53,
   "id": "eab5398b",
   "metadata": {},
   "outputs": [
    {
     "name": "stdout",
     "output_type": "stream",
     "text": [
      "I'm a string that's not afraid to use quotes!\n"
     ]
    }
   ],
   "source": [
    "string_with_quotes = 'I\\'m a string that\\'s not afraid to use quotes!'\n",
    "print(string_with_quotes)"
   ]
  },
  {
   "cell_type": "markdown",
   "id": "24b661af",
   "metadata": {},
   "source": [
    "Alternatively we can use escape sequences to apply a special meaning to the characters `t` adn `n`, so that they are interpreted as a tab and newline characters respectively instead of as a lowercase T and a lowercase N."
   ]
  },
  {
   "cell_type": "code",
   "execution_count": 54,
   "id": "e4da8b57",
   "metadata": {},
   "outputs": [
    {
     "name": "stdout",
     "output_type": "stream",
     "text": [
      "Item\t\tPrice\n",
      "Apples\t\t2.56€\n",
      "Bread\t\t1.86€\n",
      "Cola\t\t1.99€\n"
     ]
    }
   ],
   "source": [
    "print(\"Item\\t\\tPrice\\nApples\\t\\t2.56€\\nBread\\t\\t1.86€\\nCola\\t\\t1.99€\")"
   ]
  },
  {
   "cell_type": "markdown",
   "id": "55751c57",
   "metadata": {},
   "source": [
    "When we want to have strings in which sequences of characters starting with a backslash are not intrepreted as escape sequences, we can use **raw string literals**. To define a raw string literal, simply prepend an `r` or `R`:"
   ]
  },
  {
   "cell_type": "code",
   "execution_count": 23,
   "id": "deb02445",
   "metadata": {},
   "outputs": [
    {
     "name": "stdout",
     "output_type": "stream",
     "text": [
      "Item\\t\\tPrice\\nApples\\t\\t2.56€\\nBread\\t\\t1.86€\\nCola\\t\\t1.99€\n"
     ]
    }
   ],
   "source": [
    "print(r\"Item\\t\\tPrice\\nApples\\t\\t2.56€\\nBread\\t\\t1.86€\\nCola\\t\\t1.99€\")"
   ]
  },
  {
   "cell_type": "markdown",
   "id": "81167aca",
   "metadata": {},
   "source": [
    "## Immutability of strings\n",
    "\n",
    "Since strings are immutable, when we combine two strings together we are actually creating a new string."
   ]
  },
  {
   "cell_type": "code",
   "execution_count": 64,
   "id": "95e88e56",
   "metadata": {
    "scrolled": true,
    "tags": []
   },
   "outputs": [
    {
     "name": "stdout",
     "output_type": "stream",
     "text": [
      "unhelpful\n",
      "False\n",
      "False\n",
      "140123375706032 140123375994224 140123375993904\n"
     ]
    }
   ],
   "source": [
    "prefix = \"un\"\n",
    "suffix = \"helpful\"\n",
    "word = prefix + suffix\n",
    "print(word)\n",
    "print(word is prefix)\n",
    "print(word is suffix)\n",
    "print(id(word), id(prefix), id(suffix))"
   ]
  },
  {
   "cell_type": "markdown",
   "id": "b8042563",
   "metadata": {},
   "source": [
    "<span class=\"advanced-start\"></span>\n",
    "As for objects of numeric types, since strings are immutable, Python saves computing resources by having all string literals with the same value refer to the same object in memory.\n"
   ]
  },
  {
   "cell_type": "code",
   "execution_count": 65,
   "id": "f1ac73bd",
   "metadata": {},
   "outputs": [
    {
     "name": "stdout",
     "output_type": "stream",
     "text": [
      "True\n"
     ]
    }
   ],
   "source": [
    "same = \"helpful\"\n",
    "print(suffix is same)"
   ]
  },
  {
   "cell_type": "markdown",
   "id": "09dc4423",
   "metadata": {},
   "source": [
    "<span class=\"advanced-stop\"></span>\n",
    "## Python Strings are Unicode\n",
    "\n",
    "So, strings are sequences of characters, but what exactly is a **character**? Starting from Python 3, all characters in strings are actually [Unicode](https://en.wikipedia.org/wiki/Unicode) characters. Unicode is a standard that attempts to provide a numeric code for every possible character, in every possible language, on every possible platform. In practice, this means that we can have strings in Python that contains all kinds of interesting characters:"
   ]
  },
  {
   "cell_type": "code",
   "execution_count": 71,
   "id": "044ed7f0",
   "metadata": {},
   "outputs": [
    {
     "name": "stdout",
     "output_type": "stream",
     "text": [
      "ൠᴥ❽❋✈﷽🤣A☣✌東京\n",
      "🔨✈️📰🧬🛏️🐜⚙️ = ❓\n"
     ]
    }
   ],
   "source": [
    "silly_string = \"ൠᴥ❽❋✈﷽🤣A☣✌東京\"\n",
    "quiz = \"🔨✈️📰🧬🛏️🐜⚙️ = ❓\"\n",
    "print(silly_string)\n",
    "print(quiz)"
   ]
  },
  {
   "cell_type": "markdown",
   "id": "36ad7441",
   "metadata": {},
   "source": [
    "<span class=\"advanced-start\"></span>\n",
    "The Unicode standard explicitly separates the identity of characters from their specific representation in bytes. The identity of characters is represented by a **code point**, which is just a number assigned to any specific symbol in the Unicode standard. Code points are usually expressed using 4-6 hex digits  with a \"U+\" prefix. For instance the letter \"A\" and the \"rolling on the floor laughing\" emoji have code points U+0041 and U+1F923, respectively. We can use the `ord()` and `chr()` built-in functions to convert from character to code point and viceversa."
   ]
  },
  {
   "cell_type": "code",
   "execution_count": 69,
   "id": "76e1d16b",
   "metadata": {},
   "outputs": [
    {
     "name": "stdout",
     "output_type": "stream",
     "text": [
      "0x0041\n",
      "0x1f923\n",
      "A\n",
      "🤣\n"
     ]
    }
   ],
   "source": [
    "print(f\"0x{ord('A'):04x}\")\n",
    "print(f\"0x{ord('🤣'):04x}\")\n",
    "print(f\"{chr(0x0041)}\")\n",
    "print(f\"{chr(0x1f923)}\")"
   ]
  },
  {
   "cell_type": "markdown",
   "id": "23082ce4",
   "metadata": {},
   "source": [
    "The actual byte representation of a character depend of the **encoding** in use. Encoding is the process that converts code points into a sequence of bytes, *decoding* is the opposite process. The Unicode stardard defines different encoding/decoding algorithms. Encoding and decoding of strings is a huge topic on its own and we're not going to get into it here. We will just point out that, depending on the encoding used, a code point may require a different number of bytes to be represented. \n",
    "\n",
    "Internally, Python stores strings as a sequence of code points. When we define a string literal we don't need to bother with its actual representation in bytes, we are just defining a sequence of code points. We need to take into account encoding only when dealing with input/output of text data. In that case, the rule of thumb is: on input, decode bytes into a Python `str` as early as possible, do all processing exclusively on the `str` objects and, on output, encode them to bytes as late as possible."
   ]
  },
  {
   "cell_type": "markdown",
   "id": "a2f7a7f9",
   "metadata": {},
   "source": [
    "### A pesky problem with Unicode strings\n",
    "\n",
    "Consider the following strings:"
   ]
  },
  {
   "cell_type": "code",
   "execution_count": 82,
   "id": "6f3f28da",
   "metadata": {
    "scrolled": true
   },
   "outputs": [
    {
     "name": "stdout",
     "output_type": "stream",
     "text": [
      "Khazad-dûm\n",
      "Khazad-dûm\n"
     ]
    }
   ],
   "source": [
    "moria1 = \"Khazad-dûm\"\n",
    "moria2 = \"Khazad-dûm\"\n",
    "print(moria1)\n",
    "print(moria2)"
   ]
  },
  {
   "cell_type": "markdown",
   "id": "55261d9e",
   "metadata": {},
   "source": [
    "If we compare them, they should compare the same, right?"
   ]
  },
  {
   "cell_type": "code",
   "execution_count": 83,
   "id": "bc0f1ec8",
   "metadata": {
    "tags": []
   },
   "outputs": [
    {
     "name": "stdout",
     "output_type": "stream",
     "text": [
      "False\n",
      "10 11\n",
      "['K', 'h', 'a', 'z', 'a', 'd', '-', 'd', 'û', 'm']\n",
      "['K', 'h', 'a', 'z', 'a', 'd', '-', 'd', 'u', '̂', 'm']\n"
     ]
    }
   ],
   "source": [
    "print(moria1 == moria2)\n",
    "print(len(moria1), len(moria2))\n",
    "print(list(moria1))\n",
    "print(list(moria2))"
   ]
  },
  {
   "cell_type": "markdown",
   "id": "a708027f",
   "metadata": {},
   "source": [
    "Turns out there may be multiple ways of representing the same character in Unicode. This may complicates things when making comparisons. For instance, Unicode has *combining characters*: diacritis or other marks that attach to the preceding character, appearing as one when printed. In the example above, the character '^' in `moria2` adds a circumflex accent to the preceding character 'u', rendering as the single 'û' character when the string is printed. Despite printing the same, the two strings have a different number of code points and therefore do not compare the same.\n",
    "\n",
    "The solution to this problem is to use Unicode normalization. We will not address normalization here, but it is useful for you to know that it may be needed if you end up processing text that allows for these kind of characters to appear."
   ]
  },
  {
   "cell_type": "markdown",
   "id": "54e9ecfe",
   "metadata": {},
   "source": [
    "<span class=\"advanced-stop\"></span>\n",
    "## Convert objects to strings\n",
    "\n",
    "The built-in functions `str()`, `repr()` and `ascii()` allow us to retrieve the string representation of an object. The purpose of `str()` is to provide a printable and nicely readable string representation of an object. The purpose of `repr()` is to provide a printable and unambiguous string representation of an object."
   ]
  },
  {
   "cell_type": "code",
   "execution_count": 116,
   "id": "4f6f050f",
   "metadata": {},
   "outputs": [
    {
     "name": "stdout",
     "output_type": "stream",
     "text": [
      "42 42\n",
      "42 '42'\n",
      "True\n",
      "False\n"
     ]
    }
   ],
   "source": [
    "print(str(42), repr(42))\n",
    "print(str(\"42\"), repr(\"42\"))\n",
    "print(str(42)==str(\"42\"))\n",
    "print(repr(42)==repr(\"42\"))"
   ]
  },
  {
   "cell_type": "markdown",
   "id": "9d161aaf",
   "metadata": {},
   "source": [
    "`ascii()` is the same as `repr()` but escapes all non-ASCII characters in the string."
   ]
  },
  {
   "cell_type": "code",
   "execution_count": 117,
   "id": "f2c51510",
   "metadata": {},
   "outputs": [
    {
     "name": "stdout",
     "output_type": "stream",
     "text": [
      "'\\u0d60\\u1d25\\u277d\\u274b\\u2708\\uf8ff\\ufdfd\\U0001f923A\\u2623\\u270c\\u6771\\u4eac'\n"
     ]
    }
   ],
   "source": [
    "print(ascii(silly_string))"
   ]
  },
  {
   "cell_type": "markdown",
   "id": "5551eebd",
   "metadata": {},
   "source": [
    "<span class=\"advanced-start\"></span>\n",
    "We will see in Module 3 how these functions are tied to the magic methods `__str__` and `__repr__`."
   ]
  },
  {
   "cell_type": "markdown",
   "id": "33326d21",
   "metadata": {},
   "source": [
    "<span class=\"advanced-stop\"></span>\n",
    "## String interpolation\n",
    "\n",
    "**String interpolation** is the process of evaluating a string literal containing one or more placeholders, yielding a result in which the placeholders are replaced with their corresponding values (from [wikipedia](https://en.wikipedia.org/wiki/String_interpolation)).\n",
    "\n",
    "Python provides different ways to perform string interpolation:\n",
    "- Formatted String Literals\n",
    "- str.format()\n",
    "- %-formatting\n",
    "- string.Template"
   ]
  },
  {
   "cell_type": "code",
   "execution_count": 112,
   "id": "39ab8355",
   "metadata": {},
   "outputs": [
    {
     "name": "stdout",
     "output_type": "stream",
     "text": [
      "Passing students: 42/129 (32.55813953488372%)\n",
      "Passing students: 42/129 (32.55813953488372%)\n",
      "Passing students: 42/129 (32.558140)%\n"
     ]
    }
   ],
   "source": [
    "passing = 42\n",
    "tot = 129\n",
    "print(f\"Passing students: {passing}/{tot} ({passing/tot*100}%)\")\n",
    "print(\"Passing students: {}/{} ({}%)\".format(passing, tot, passing/tot*100))\n",
    "print(\"Passing students: %d/%d (%f)%%\" % (passing, tot, passing/tot*100))"
   ]
  },
  {
   "cell_type": "markdown",
   "id": "b8e7f897",
   "metadata": {},
   "source": [
    "Among these methods the currently preferred way is to use *Formatted String Literals* (also known as **f-strings**). We have already used f-strings extensively in this course. Everytime we prepend `f` to a string and use curly braces to insert the value of a variable or expression at a particular place inside the string, we are defining a formatted string literal."
   ]
  },
  {
   "cell_type": "code",
   "execution_count": 93,
   "id": "5b32205a",
   "metadata": {},
   "outputs": [
    {
     "name": "stdout",
     "output_type": "stream",
     "text": [
      "Passing students:  42 / 129  ( 32.55813953488372 %)\n",
      "Passing students: 42/129 (32.55813953488372%)\n"
     ]
    }
   ],
   "source": [
    "passing = 42\n",
    "tot = 129\n",
    "print(f\"Passing students: {passing}/{tot} ({passing/tot*100}%)\")"
   ]
  },
  {
   "cell_type": "markdown",
   "id": "e88a21e3",
   "metadata": {},
   "source": [
    "<span class=\"advanced-start\"></span>\n",
    "f-strings allows us to add explicit *type conversions* and *format specifiers*. Expressions we put inside curly braces will be implicitly converted to string using `str()`. We can force f-string to use a different function to convert the expression to string by adding a trailing `!r`, `!a` or `!s` to the expression."
   ]
  },
  {
   "cell_type": "code",
   "execution_count": 96,
   "id": "b4372445",
   "metadata": {},
   "outputs": [
    {
     "name": "stdout",
     "output_type": "stream",
     "text": [
      "Doug : ROFL 🤣\n",
      "Doug : 'ROFL 🤣'\n",
      "Doug : 'ROFL \\U0001f923'\n"
     ]
    }
   ],
   "source": [
    "msg = \"ROFL 🤣\"\n",
    "sender = \"Doug\"\n",
    "print(f\"{sender} : {msg}\")\n",
    "print(f\"{sender} : {msg!r}\")\n",
    "print(f\"{sender} : {msg!a}\")"
   ]
  },
  {
   "cell_type": "markdown",
   "id": "4550c1b9",
   "metadata": {},
   "source": [
    "Format specifiers allows us to further define how the value of the expressions that we want to substitute in the string will be presented. The syntax of these format identifiers defines its own [mini-language](https://docs.python.org/3/library/string.html#formatspec)."
   ]
  },
  {
   "cell_type": "code",
   "execution_count": 101,
   "id": "7c399354",
   "metadata": {},
   "outputs": [
    {
     "name": "stdout",
     "output_type": "stream",
     "text": [
      "Passing students: 42/129 (32.56%)\n"
     ]
    }
   ],
   "source": [
    "print(f\"Passing students: {passing}/{tot} ({passing/tot*100:>.2f}%)\")"
   ]
  },
  {
   "cell_type": "markdown",
   "id": "5e8f3a9e",
   "metadata": {},
   "source": [
    "A format specifier that is very useful for debugging purposes is `=`, if we put it after an expression it inserts both the expression string and its value separated by \"=\" in the string literal."
   ]
  },
  {
   "cell_type": "code",
   "execution_count": 122,
   "id": "e41c93d0",
   "metadata": {},
   "outputs": [
    {
     "name": "stdout",
     "output_type": "stream",
     "text": [
      "msg='ROFL 🤣'\n",
      "passing/tot*100=32.56\n"
     ]
    }
   ],
   "source": [
    "print(f\"{msg=}\")\n",
    "print(f\"{passing/tot*100=:.2f}\")"
   ]
  },
  {
   "cell_type": "markdown",
   "id": "88b066af",
   "metadata": {},
   "source": [
    "<span class=\"advanced-stop\"></span>\n",
    "# Type-specific methods\n",
    "\n",
    "The `str` type defines [many useful methods](https://docs.python.org/3/library/stdtypes.html#text-sequence-type-str) to manipulate strings. We will not see each of these methods individually here. Instead we will see how to use some of them in the context of an exercise. Suppose to have a list of email addresses in which the *local-part* (all characters that precede the symbol `@`) of the address contains the full name of a person using the character `.` as a separator. We want to write a function that extracts a capitalized list of names from these addresses, possibly also filtering them on the base of a given domain."
   ]
  },
  {
   "cell_type": "code",
   "execution_count": 6,
   "id": "4c733b5d",
   "metadata": {},
   "outputs": [
    {
     "name": "stdout",
     "output_type": "stream",
     "text": [
      "All names: Sheev Palpatine, Count Dooku, Padme Amidala, Bail Organa, Nute Gunray\n",
      "Only senators: Sheev Palpatine, Padme Amidala, Bail Organa\n"
     ]
    }
   ],
   "source": [
    "emails = \"sheev.palpatine@senate.republic.gov,  count.dooku@council.separatists.gov, padme.amidala@senate.republic.gov,bail.organa@senate.republic.gov, nute.gunray@trade.federation.com\"\n",
    "\n",
    "def get_names(emails, domain=None):\n",
    "    names = []\n",
    "    for email in emails.split(\",\"):\n",
    "        temp = email.strip()\n",
    "        if not domain or temp.endswith(f\"@{domain}\"):\n",
    "            components = temp[:temp.find(\"@\")].split(\".\")\n",
    "            names.append(\" \".join([comp.capitalize() for comp in components]))\n",
    "    return \", \".join(names)\n",
    "\n",
    "print(f\"All names: {get_names(emails)}\")\n",
    "print(f\"Only senators: {get_names(emails, 'senate.republic.gov')}\")"
   ]
  }
 ],
 "metadata": {
  "kernelspec": {
   "display_name": "Python 3 (ipykernel)",
   "language": "python",
   "name": "python3"
  },
  "language_info": {
   "codemirror_mode": {
    "name": "ipython",
    "version": 3
   },
   "file_extension": ".py",
   "mimetype": "text/x-python",
   "name": "python",
   "nbconvert_exporter": "python",
   "pygments_lexer": "ipython3",
   "version": "3.9.7"
  }
 },
 "nbformat": 4,
 "nbformat_minor": 5
}
