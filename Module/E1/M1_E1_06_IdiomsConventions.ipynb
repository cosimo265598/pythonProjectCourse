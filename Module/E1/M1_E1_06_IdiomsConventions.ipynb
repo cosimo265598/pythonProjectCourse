{
 "cells": [
  {
   "cell_type": "code",
   "execution_count": 25,
   "id": "31221b49-47dc-49a1-9fd4-998570e88ccd",
   "metadata": {
    "jupyter": {
     "source_hidden": true
    },
    "tags": []
   },
   "outputs": [
    {
     "data": {
      "text/html": [
       "\n",
       "<style>\n",
       ".advanced-cell {\n",
       "    background-color: #e84c2250;\n",
       "}\n",
       ".advanced-cell::after {\n",
       "    position: absolute;\n",
       "    display: block;\n",
       "    top: -2px;\n",
       "    right: -2px;\n",
       "    width: 5px;\n",
       "    height: calc(100% + 3px);\n",
       "    content: '';\n",
       "    background: #e84c22;\n",
       "}\n",
       ".advanced-label-row {\n",
       "    border-bottom: 1px solid #e84c22;\n",
       "    display: flex;\n",
       "    font-weight: bold;\n",
       "}\n",
       ".advanced-label {\n",
       "    margin-left: auto;\n",
       "    background-color: #e84c22;\n",
       "    padding: 5px 8px;\n",
       "    color: white;\n",
       "    margin-right: -2px;\n",
       "}\n",
       "</style>\n",
       "<script>\n",
       "\n",
       "// A function to hide/show highlight advanced topics in the notebook\n",
       "var highlighted = false;\n",
       "function highlight_advanced_topics() {\n",
       "    $(\".advanced-cell\").removeClass(\"advanced-cell\");\n",
       "    $(\".advanced-label-row\").remove();\n",
       "    if(highlighted) {\n",
       "        highlighted = false;\n",
       "        return;\n",
       "    }\n",
       "    var advanced = false;\n",
       "    $(\".jp-Cell.jp-MarkdownCell,.jp-Cell.jp-CodeCell\").each(function(){\n",
       "        if(!advanced) {\n",
       "            if($(this).find(\".advanced-start\").length > 0) {\n",
       "                $(this).before(\"<div class='advanced-label-row'><span class='advanced-label'>Advanced Topic</span></div>\");\n",
       "                $(this).addClass(\"advanced-cell\");\n",
       "                advanced = true;\n",
       "            }        \n",
       "        } else {\n",
       "            if($(this).find(\".advanced-stop\").length > 0) {\n",
       "                if($(this).find(\".advanced-start\").length > 0) {\n",
       "                    $(this).before(\"<div class='advanced-label-row' style='margin-top: 10px;'><span class='advanced-label'>Advanced Topic</span></div>\");\n",
       "                    $(this).addClass(\"advanced-cell\");\n",
       "                } else {\n",
       "                    advanced = false;\n",
       "                }\n",
       "            } else {\n",
       "                $(this).addClass(\"advanced-cell\");\n",
       "            }\n",
       "        }\n",
       "    });\n",
       "    highlighted = true\n",
       "}\n",
       "\n",
       "(function() {\n",
       "  // Load the script\n",
       "  const script = document.createElement(\"script\");\n",
       "  script.src = 'https://ajax.googleapis.com/ajax/libs/jquery/3.6.0/jquery.min.js';\n",
       "  script.type = 'text/javascript';\n",
       "  script.addEventListener('load', () => {\n",
       "    $(document).ready(highlight_advanced_topics);\n",
       "  });\n",
       "  document.head.appendChild(script);\n",
       "})();\n",
       "</script>\n",
       "<div class=\"m-5 p-5\"><span class=\"alert alert-block alert-danger\">Advanced topics in notebook are highlighted!</span></div>"
      ],
      "text/plain": [
       "<IPython.core.display.HTML object>"
      ]
     },
     "metadata": {},
     "output_type": "display_data"
    }
   ],
   "source": [
    "from IPython.display import HTML\n",
    "from IPython.display import display\n",
    "\n",
    "tag = HTML('''\n",
    "<style>\n",
    ".advanced-cell {\n",
    "    background-color: #e84c2250;\n",
    "}\n",
    ".advanced-cell::after {\n",
    "    position: absolute;\n",
    "    display: block;\n",
    "    top: -2px;\n",
    "    right: -2px;\n",
    "    width: 5px;\n",
    "    height: calc(100% + 3px);\n",
    "    content: '';\n",
    "    background: #e84c22;\n",
    "}\n",
    ".advanced-label-row {\n",
    "    border-bottom: 1px solid #e84c22;\n",
    "    display: flex;\n",
    "    font-weight: bold;\n",
    "}\n",
    ".advanced-label {\n",
    "    margin-left: auto;\n",
    "    background-color: #e84c22;\n",
    "    padding: 5px 8px;\n",
    "    color: white;\n",
    "    margin-right: -2px;\n",
    "}\n",
    "</style>\n",
    "<script>\n",
    "\n",
    "// A function to hide/show highlight advanced topics in the notebook\n",
    "var highlighted = false;\n",
    "function highlight_advanced_topics() {\n",
    "    $(\".advanced-cell\").removeClass(\"advanced-cell\");\n",
    "    $(\".advanced-label-row\").remove();\n",
    "    if(highlighted) {\n",
    "        highlighted = false;\n",
    "        return;\n",
    "    }\n",
    "    var advanced = false;\n",
    "    $(\".jp-Cell.jp-MarkdownCell,.jp-Cell.jp-CodeCell\").each(function(){\n",
    "        if(!advanced) {\n",
    "            if($(this).find(\".advanced-start\").length > 0) {\n",
    "                $(this).before(\"<div class='advanced-label-row'><span class='advanced-label'>Advanced Topic</span></div>\");\n",
    "                $(this).addClass(\"advanced-cell\");\n",
    "                advanced = true;\n",
    "            }        \n",
    "        } else {\n",
    "            if($(this).find(\".advanced-stop\").length > 0) {\n",
    "                if($(this).find(\".advanced-start\").length > 0) {\n",
    "                    $(this).before(\"<div class='advanced-label-row' style='margin-top: 10px;'><span class='advanced-label'>Advanced Topic</span></div>\");\n",
    "                    $(this).addClass(\"advanced-cell\");\n",
    "                } else {\n",
    "                    advanced = false;\n",
    "                }\n",
    "            } else {\n",
    "                $(this).addClass(\"advanced-cell\");\n",
    "            }\n",
    "        }\n",
    "    });\n",
    "    highlighted = true\n",
    "}\n",
    "\n",
    "(function() {\n",
    "  // Load the script\n",
    "  const script = document.createElement(\"script\");\n",
    "  script.src = 'https://ajax.googleapis.com/ajax/libs/jquery/3.6.0/jquery.min.js';\n",
    "  script.type = 'text/javascript';\n",
    "  script.addEventListener('load', () => {\n",
    "    $(document).ready(highlight_advanced_topics);\n",
    "  });\n",
    "  document.head.appendChild(script);\n",
    "})();\n",
    "</script>\n",
    "<div class=\"m-5 p-5\"><span class=\"alert alert-block alert-danger\">Advanced topics in notebook are highlighted!</span></div>''')\n",
    "display(tag)"
   ]
  },
  {
   "cell_type": "markdown",
   "id": "30546bf1-ee70-4fe7-bd5b-041f309bab85",
   "metadata": {},
   "source": [
    "# Python idioms and conventions"
   ]
  },
  {
   "cell_type": "markdown",
   "id": "0c19aaf8-83be-4905-82b0-045d8c66850b",
   "metadata": {
    "tags": []
   },
   "source": [
    "As any other programming language, Python has a set of peculiarities and patterns to *express* a certain idea. \n",
    "Some tasks you may be already familiar with, may have a particular syntax or feature specifically dedicated to them within the Python language.\n",
    "\n",
    "Generaly speaking, in programming an *idiom* is a particular way of writing code in order to perform a specific task, and it consistently follows always the same structure. \n",
    "\n",
    "If you are already familiar with the concept *design patterns*, note that idioms are different. Design patterns are high-level ideas, independent from the language, but they do not (usually) translate immediately into code. On the other hand, idioms are about code. It is the way things should be written when we want to perform a particular task in a given language.\n",
    "\n",
    "As idioms are code, they are language dependent. Every language will have its own idioms to perform a given task. When the code follows these idioms, it is known as being idiomatic. In Python, the code *becomes* Pythonic.\n",
    "\n",
    "Writing code in an idiomatic way usually performs better, make it more compact, easier to understand and consistent."
   ]
  },
  {
   "cell_type": "markdown",
   "id": "2e9995a3-1b91-4c32-b8e6-e96930a6d38a",
   "metadata": {
    "tags": []
   },
   "source": [
    "## Indexes and slices"
   ]
  },
  {
   "cell_type": "markdown",
   "id": "f27d731d-11a1-4ff6-8e63-be41f77b738d",
   "metadata": {
    "tags": []
   },
   "source": [
    "Let's start with data structures or types that support accessing its elements by index. Like in many other programming languages, the first element is indexed `0`. \n",
    "\n",
    "For example, how would you access the last element of a sequence? One way would be to access the element in the position of the length of the sequence minus one. This works in Python as well, but we can exploit negative indexes to start counting from the *end* of the data structure."
   ]
  },
  {
   "cell_type": "code",
   "execution_count": 3,
   "id": "b04e414c-a6ff-4b74-8161-7d0c03cd7967",
   "metadata": {
    "tags": []
   },
   "outputs": [
    {
     "data": {
      "text/plain": [
       "10"
      ]
     },
     "execution_count": 3,
     "metadata": {},
     "output_type": "execute_result"
    }
   ],
   "source": [
    "even = [0, 2, 4, 6, 8, 10]\n",
    "even[len(even)-1] # OK\n",
    "even[-1] # Pythonic"
   ]
  },
  {
   "cell_type": "markdown",
   "id": "26e11dd7-990e-47cd-a525-d458d107d6bf",
   "metadata": {
    "tags": []
   },
   "source": [
    "Python provides extra features when we want to access the elements in a different order than usual.\n",
    "We can access multiple elements using slicing `[start:stop:step]`.\n",
    "This way we get all of the elements of the sequence, starting from the index `start` (included), up to the index `end` (excluded) using strides of length `step`. \n",
    "Omitting either one of the intervals, `start` or `stop`, will return all elements from the beginning or up to the end of the sequence, respectively."
   ]
  },
  {
   "cell_type": "code",
   "execution_count": 5,
   "id": "957c5eb7-34e9-4641-bdd0-e1a8da8780a2",
   "metadata": {},
   "outputs": [
    {
     "name": "stdout",
     "output_type": "stream",
     "text": [
      "[0, 2, 4]\n",
      "[6, 8, 10]\n",
      "[0, 2, 4, 6, 8, 10]\n",
      "[0, 4]\n"
     ]
    }
   ],
   "source": [
    "print(even[:3])\n",
    "print(even[3:])\n",
    "print(even[::])\n",
    "print(even[0:4:2])"
   ]
  },
  {
   "cell_type": "markdown",
   "id": "0d049988-e161-4593-bfa3-ceb4949b80cd",
   "metadata": {},
   "source": [
    "If possible, we should always prefer to use this built-in syntax for slices, as opposed to manually trying to iterate over our sequences explicitly inside a loop, excluding the elements by hand.\n",
    "\n",
    "We will see more details on this when will tackle `Sequences` as a topic. "
   ]
  },
  {
   "cell_type": "markdown",
   "id": "6126155f-6a57-476b-a8f6-6758b63f6e15",
   "metadata": {},
   "source": [
    "## Comprehensions and assignment expressions"
   ]
  },
  {
   "cell_type": "markdown",
   "id": "f70c6f1a-6761-46af-8930-3904bb680a0e",
   "metadata": {},
   "source": [
    "Comprehension expressions are a concise way of writing code, and in general, code written this way tends to be easier to read. The exception being when we have to handle some heavy-weight transformation on the data we're collecting, as comprehension might lead to some more complicated, or more difficult to read, code. \n",
    "\n",
    "The use of comprehensions is recommended to create data structures in a single operation, instead of multiple ones."
   ]
  },
  {
   "cell_type": "code",
   "execution_count": 11,
   "id": "894f4e9c-1c75-44d8-9e50-7a9256e19ca4",
   "metadata": {},
   "outputs": [],
   "source": [
    "# Without comprehension\n",
    "numbers = []\n",
    "for i in range(10):\n",
    "    numbers.append(pow(i, 3))\n",
    "    \n",
    "# With comprehension\n",
    "numbers = [pow(i, 3) for i in range(10)]"
   ]
  },
  {
   "cell_type": "markdown",
   "id": "73cf8e10-0b2a-4829-a8d9-c5f4956f53d1",
   "metadata": {},
   "source": [
    "Code written in this form usually performs better because it uses a single Python operation, instead of calling `list.append()` repeatedly."
   ]
  },
  {
   "cell_type": "markdown",
   "id": "91f33bc6-ebcc-4a84-a606-8c2bac754155",
   "metadata": {},
   "source": [
    "<span class=\"advanced-start\"></span>\n",
    "### Example - Collecting usernames from email addresses"
   ]
  },
  {
   "cell_type": "code",
   "execution_count": 4,
   "id": "0f2af07e-7c25-4f46-84ea-9eb0109ec553",
   "metadata": {},
   "outputs": [],
   "source": [
    "from typing import Iterable, Set\n",
    "import re\n",
    "\n",
    "def collect_usernames_v1(emails: Iterable[str]) -> Set[str]:\n",
    "    \"\"\"\n",
    "    Iterate over a collection of email addresses and store usernames in a set\n",
    "    \"\"\"\n",
    "    usernames = set()\n",
    "    for email in emails:\n",
    "        matched = re.match(r'(?P<username>[\\w\\.]+)@((?P<website>\\w+)\\.)+(?P<domain>\\w+)', email)\n",
    "        if matched is not None:\n",
    "            username = matched.groupdict()[\"username\"]\n",
    "            usernames.add(username)\n",
    "    return usernames"
   ]
  },
  {
   "cell_type": "code",
   "execution_count": 14,
   "id": "1be5f2ff-9f3c-43f0-b7b7-571ffa4da436",
   "metadata": {},
   "outputs": [
    {
     "data": {
      "text/plain": [
       "{'bail.organa',\n",
       " 'count.dooku',\n",
       " 'nute.gunray',\n",
       " 'padme.amidala',\n",
       " 'sheev.palpatine'}"
      ]
     },
     "execution_count": 14,
     "metadata": {},
     "output_type": "execute_result"
    }
   ],
   "source": [
    "emails = [\"sheev.palpatine@senate.republic.gov\", \"count.dooku@council.separatists.gov\", \"obi.wan@jedi\", \"padme.amidala@senate.republic.gov\", \"bail.organa@senate.republic.gov\", \"nute.gunray@trade.federation.com\"]\n",
    "collect_usernames_v1(emails)"
   ]
  },
  {
   "cell_type": "markdown",
   "id": "e80825e5-7a29-4aca-b420-5afca8d8c386",
   "metadata": {},
   "source": [
    "We can achieve the same functionality in fewer lines by using comprehension expressions in a way that resembles functional programming."
   ]
  },
  {
   "cell_type": "code",
   "execution_count": 20,
   "id": "8a8eb000-6215-4790-a786-976d68962579",
   "metadata": {},
   "outputs": [],
   "source": [
    "def collect_usernames_v2(emails: Iterable[str]) -> Set[str]:\n",
    "    usernames = filter(None, (re.match(r'(?P<username>[\\w\\.]+)@((?P<website>\\w+)\\.)+(?P<domain>\\w+)', email) \\\n",
    "                              for email in emails))\n",
    "    return {username.groupdict()[\"username\"] for username in usernames}"
   ]
  },
  {
   "cell_type": "code",
   "execution_count": 21,
   "id": "b05f69ef-3402-42e9-af4a-f54333db7fc8",
   "metadata": {},
   "outputs": [
    {
     "data": {
      "text/plain": [
       "{'bail.organa',\n",
       " 'count.dooku',\n",
       " 'nute.gunray',\n",
       " 'padme.amidala',\n",
       " 'sheev.palpatine'}"
      ]
     },
     "execution_count": 21,
     "metadata": {},
     "output_type": "execute_result"
    }
   ],
   "source": [
    "collect_usernames_v2(emails)"
   ]
  },
  {
   "cell_type": "markdown",
   "id": "ba7ec00e-cb00-48e6-a708-dfdb1252ff21",
   "metadata": {},
   "source": [
    "First, we apply the result of trying to match the regular expression to all the strings provided, and we filter those that are not producing a match. The result is an iterator that we will later use to extract the username in a set comprehension expression."
   ]
  },
  {
   "cell_type": "markdown",
   "id": "3b3296e9-f2ea-452c-928c-fe5948aed583",
   "metadata": {},
   "source": [
    "Since Python 3.8 and the introduction of assignment expressions, we can refactor `collect_usernames_v2` and such a rewrite actually make the code far easier to understand."
   ]
  },
  {
   "cell_type": "code",
   "execution_count": 8,
   "id": "049edf41-27da-409a-8f62-a9ee5d0f1a49",
   "metadata": {},
   "outputs": [],
   "source": [
    "def collect_usernames_v3(emails: Iterable[str]) -> Set[str]:\n",
    "    return {\n",
    "        username.groupdict()[\"username\"] \n",
    "        for email in emails\n",
    "        if (username := re.match(r'(?P<username>[\\w\\.]+)@((?P<website>\\w+)\\.)+(?P<domain>\\w+)', email)) is not None\n",
    "    }"
   ]
  },
  {
   "cell_type": "code",
   "execution_count": 9,
   "id": "c9851146-ee09-48ec-9ff1-898f01583380",
   "metadata": {},
   "outputs": [
    {
     "data": {
      "text/plain": [
       "{'bail.organa',\n",
       " 'count.dooku',\n",
       " 'nute.gunray',\n",
       " 'padme.amidala',\n",
       " 'sheev.palpatine'}"
      ]
     },
     "execution_count": 9,
     "metadata": {},
     "output_type": "execute_result"
    }
   ],
   "source": [
    "collect_usernames_v3(emails)"
   ]
  },
  {
   "cell_type": "markdown",
   "id": "a97bc327-3cb1-443a-8b3f-17fd83a1cc0f",
   "metadata": {},
   "source": [
    "On the third line of the comprehension we set a temporary name bound to the result of applying the regular expression to the string. That name can be reused elsewhere within the scope of the set comprehension.\n",
    "\n",
    "All in all, when we have to decide in which way to write a piece of code, there is always a trade-off between compactness and adherence to conventions with respect to readability. If your code is an unreadable one-liner, the point is moot. Always keep in mind the *KISS* principle ([Keep It Simple, Stupid](https://en.wikipedia.org/wiki/KISS_principle)).\n",
    "\n",
    "Circling back to assignment expressions, beside comprehension, they may be very useful if we take into account performance considerations. If we have to use a function as part of our transformation logic, we don't want to call that function more times than stricly necessary. Assigning the result of the function to a temporary identifier can be an optimization technique that also make the code more readable."
   ]
  },
  {
   "cell_type": "markdown",
   "id": "8fee2872-d0ce-4fd6-bfe9-ea4587bfa3ed",
   "metadata": {},
   "source": [
    "<span class=\"advanced-stop\"></span>\n",
    "## Underscores in Python\n",
    "Single and double underscores have special meanings in Python variable and method names. Some of those meanings are merely related to conventions and intended as a hint to programmers. Others are enforced by the Python interpreter. We may encounter one of the following instances:\n",
    "- Single leading underscore: `_x`\n",
    "- Single trailing underscore: `x_`\n",
    "- Double leading underscore: `__x`\n",
    "- Double leading and trailing underscore: `__x__`\n",
    "- Single underscore: `_`\n",
    "\n",
    "When it comes to variable and method names, the single underscore prefix has a meaning by convention only. It's a hint to programmers that the Python community agrees upon, indicating that such an object is meant to be private. It does not affect the behavior of your programs.\n",
    "Consider that Python does not have strong distinctions between *private* and *public* (like C++, Java etc.) so consider it as a mere suggestion. It does have repercussions when taking into account the `import` statement, but we will see more about it later on in this module.\n",
    "\n",
    "A single trailing underscore is used by convention to avoid naming conflicts with Python keywords or symbols already defined in the current namespace."
   ]
  },
  {
   "cell_type": "code",
   "execution_count": 34,
   "id": "16d70894-d044-4696-9d58-faccde3300f7",
   "metadata": {
    "slideshow": {
     "slide_type": "slide"
    },
    "tags": []
   },
   "outputs": [
    {
     "name": "stdout",
     "output_type": "stream",
     "text": [
      "Mario Rossi 01/01/1980\n"
     ]
    }
   ],
   "source": [
    "name, surname, _, _ = ('Mario', 'Rossi', 'Torino', '01/01/1980')\n",
    "print(name, surname, _)"
   ]
  },
  {
   "cell_type": "markdown",
   "id": "3b541fd3-20d2-45a7-aaeb-272656245871",
   "metadata": {},
   "source": [
    "<span class=\"advanced-start\"></span>\n",
    "A double underscore prefix causes the Python interpreter to rewrite the name in order to avoid naming conflicts and collisions in subclasses. This is called *name mangling*. We will revisit more in depth this concept during the third module.\n",
    "\n",
    ">Double underscores are often referred to as *dunders* in the Python community. Since they are ubiquitous in the language, dunders is just a convenience name.\n",
    "\n",
    "Names that have both leading and trailing dunders are reserved for special use in the language. In this case, name mangling is not applied. Methods with these names are often referred to as *magic methods* (or *dunder methods*). They're a core feature in Python and are related to some of the language interal aspects. We will tackle magic methods at a later stage during this module, whilst talking about the Python data model."
   ]
  },
  {
   "cell_type": "markdown",
   "id": "9d3c8f92-97a7-425e-ac67-e09b9ccaa6e5",
   "metadata": {},
   "source": [
    "<span class=\"advanced-stop\"></span>\n",
    "By convention, a single stand-alone underscore is sometimes used as a name to indicate that a variable is temporary or insignificant. It can also be used as a *don't care* variable in unpacking expressions."
   ]
  },
  {
   "cell_type": "markdown",
   "id": "31103a87-6d32-406b-939e-02c54e01d2b4",
   "metadata": {},
   "source": [
    "## A few examples of non-Pythonic vs. Pythonc code\n",
    "One reason for the high readability of Python code is its relatively complete set of code style guidelines and idioms. When say that some code is not Pythonic, we mean that it does not follow the common guidelines and fails to express its intent in what is considered the best (usually, most readable) way.\n",
    "\n",
    "Do not stress (too much) about this, but take into account these guidelines and try to stick with them if possible."
   ]
  },
  {
   "cell_type": "markdown",
   "id": "2ce6ae3a-ef39-4343-a15d-5f6d148a3ab7",
   "metadata": {},
   "source": [
    "### Variables definitions"
   ]
  },
  {
   "cell_type": "code",
   "execution_count": 24,
   "id": "fa398419-1fc3-4117-97a0-af6f4fb7b0a7",
   "metadata": {},
   "outputs": [],
   "source": [
    "notPythonicVarName = \"lowerCamelCase is not the right choice for variables\"\n",
    "\n",
    "pythonic_var_name = \"this is a preferred way to name variables\"\n",
    "a, b = 0, 1\n",
    "c = \"single variable\"\n",
    "name:str = \"variable with type, only work with python 3\""
   ]
  },
  {
   "cell_type": "markdown",
   "id": "d68e76f0-8dcd-4823-83ba-44b9867c25fd",
   "metadata": {},
   "source": [
    "### Variable exchange"
   ]
  },
  {
   "cell_type": "code",
   "execution_count": 40,
   "id": "7773103f-bc40-436f-8979-38b3d6d85467",
   "metadata": {},
   "outputs": [],
   "source": [
    "# Rather than this...\n",
    "tmp = a\n",
    "a = b\n",
    "b = tmp\n",
    "# ...do this\n",
    "a, b = b, a"
   ]
  },
  {
   "cell_type": "markdown",
   "id": "992c6773-433c-4713-9fcc-897eb8439559",
   "metadata": {},
   "source": [
    "### Looping\n",
    "Try to exploit features of the language rather than manually handle looping over something."
   ]
  },
  {
   "cell_type": "code",
   "execution_count": null,
   "id": "5dc2545f-b9f8-4f55-9ad1-046e6c197894",
   "metadata": {},
   "outputs": [],
   "source": [
    "numbers = [1,2,3,4,5]\n",
    "# Rather than this...\n",
    "for i in range(0, len(numbers)):\n",
    "    print(numbers[i])\n",
    "# ...do this\n",
    "for n in numbers:\n",
    "    print(n)"
   ]
  },
  {
   "cell_type": "code",
   "execution_count": null,
   "id": "f38f3b0a-c54f-4b66-9f45-7180bec064f1",
   "metadata": {},
   "outputs": [],
   "source": [
    "numbers = [1,2,3,4,5]\n",
    "# Rather than this...\n",
    "for i in range(len(numbers)):\n",
    "    print(f'{i}:{numbers[i]}')\n",
    "# ...do this\n",
    "for i, n in enumerate(numbers):\n",
    "    print(f'{i}:{n}')"
   ]
  },
  {
   "cell_type": "code",
   "execution_count": null,
   "id": "dbbb7f60-9a5e-4b94-b542-bce59220977f",
   "metadata": {},
   "outputs": [],
   "source": [
    "numbers = [1,2,3,4,5]\n",
    "# Rather than this...\n",
    "for i in range(len(numbers)-1, -1, -1):\n",
    "    print(numbers[i])\n",
    "# ...do this\n",
    "for n in reversed(numbers):\n",
    "    print(n)"
   ]
  },
  {
   "cell_type": "code",
   "execution_count": null,
   "id": "0f51094f-ff26-4e1e-a96d-f45185abccb3",
   "metadata": {},
   "outputs": [],
   "source": [
    "x = [1,2,3]\n",
    "y = ['a', 'b', 'c', 'd']\n",
    "# Rather than this...\n",
    "n = min(len(x), len(y))\n",
    "for i in range(n):\n",
    "    print(f'{x[i]} --- {y[i]}')\n",
    "# ...do this\n",
    "for i, j in zip(x, y):\n",
    "    print(f'{i} --- {j}')"
   ]
  },
  {
   "cell_type": "markdown",
   "id": "c27c6ec2-3d48-4837-85a7-c0969019aff2",
   "metadata": {
    "tags": []
   },
   "source": [
    "### Create a homogeneous list of a given length"
   ]
  },
  {
   "cell_type": "code",
   "execution_count": 1,
   "id": "36f24198-f013-4575-bd46-23ffc9d43737",
   "metadata": {},
   "outputs": [],
   "source": [
    "N = 10\n",
    "all_zeros = [0] * N"
   ]
  },
  {
   "cell_type": "markdown",
   "id": "3c21b9c2-1f0e-4e7a-b1db-706b7907ab28",
   "metadata": {},
   "source": [
    "### Create a homogeneous list of a given length containing (empty) lists\n",
    "Because lists are mutable, the `*` operator would create a list of `N` references to the same list, which is not likely what you want. Use a list comprehension instead."
   ]
  },
  {
   "cell_type": "code",
   "execution_count": 7,
   "id": "6f3bfc42-ece9-4542-a5b2-5e8fb5b5451f",
   "metadata": {},
   "outputs": [
    {
     "name": "stdout",
     "output_type": "stream",
     "text": [
      "[[], [], [], [], [], [], [], [], [], []]\n"
     ]
    }
   ],
   "source": [
    "N = 10\n",
    "n_lists = [[] for _ in range(N)]"
   ]
  },
  {
   "cell_type": "markdown",
   "id": "5a765b08-1c77-4db2-a80f-117ddfd056f3",
   "metadata": {},
   "source": [
    "### Creating a string from a list"
   ]
  },
  {
   "cell_type": "code",
   "execution_count": 10,
   "id": "cdc77618-c7f8-4cf0-9445-c2dca2c2c626",
   "metadata": {},
   "outputs": [],
   "source": [
    "letters = ['s', 't', 'r', 'i', 'n', 'g']\n",
    "word = ''.join(letters)"
   ]
  },
  {
   "cell_type": "markdown",
   "id": "729e10e4-fe25-4e80-9797-1708614701d0",
   "metadata": {},
   "source": [
    "<span class=\"advanced-start\"></span>\n",
    "### List comprehensions and generators"
   ]
  },
  {
   "cell_type": "code",
   "execution_count": null,
   "id": "fed7f4b9-990a-4eed-943a-74858e1645d0",
   "metadata": {},
   "outputs": [],
   "source": [
    "# This will create the whole list in memory\n",
    "max_distance_from_origin = max([euclidean_distance(p) for p in points])\n",
    "# This will use constant space\n",
    "max_distance_from_origin = max(euclidean_distance(p) for p in points)"
   ]
  },
  {
   "cell_type": "markdown",
   "id": "f29a09b5-cce5-4535-8317-973d6c7be94a",
   "metadata": {},
   "source": [
    "### Filtering a list\n",
    "We should not remove items from a list while iterating on it."
   ]
  },
  {
   "cell_type": "code",
   "execution_count": 23,
   "id": "b9e1e569-37a7-4269-8488-22b889576948",
   "metadata": {},
   "outputs": [
    {
     "name": "stdout",
     "output_type": "stream",
     "text": [
      "[2, 4, 5, 6, 7, 8]\n"
     ]
    }
   ],
   "source": [
    "numbers = [1, 2, 3, 4, 5, 6, 7, 8]\n",
    "for n in numbers:\n",
    "    if n < 4:\n",
    "        numbers.remove(n)\n",
    "        \n",
    "print(numbers) # Wrong result!"
   ]
  },
  {
   "cell_type": "markdown",
   "id": "78d46f63-df3e-4a4b-96e4-517917387375",
   "metadata": {},
   "source": [
    "Once again, use comprehension instead."
   ]
  },
  {
   "cell_type": "code",
   "execution_count": 27,
   "id": "7425e2cd-6786-4e6e-86a5-2169c60c8e35",
   "metadata": {},
   "outputs": [],
   "source": [
    "# Comprehensions create a new list object\n",
    "numbers = [1, 2, 3, 4, 5, 6, 7, 8]\n",
    "filtered_numbers = [n for n in numbers if n < 4]\n",
    "\n",
    "# Generators don't create another list\n",
    "numbers = [1, 2, 3, 4, 5, 6, 7, 8]\n",
    "filtered_numbers = (n for n in numbers if n < 4)"
   ]
  },
  {
   "cell_type": "markdown",
   "id": "87ef47dc-52c3-4c86-93e7-73b9ed0fa851",
   "metadata": {},
   "source": [
    "<span class=\"advanced-stop\"></span>\n",
    "### Modifying the values of a list\n",
    "Assignments never create a new object. If two or more variables refer to the same list, changing one of them changes them all."
   ]
  },
  {
   "cell_type": "code",
   "execution_count": 30,
   "id": "6d9b5a9c-9b67-488a-a5af-cce8f1ffbd0b",
   "metadata": {},
   "outputs": [
    {
     "name": "stdout",
     "output_type": "stream",
     "text": [
      "[2, 4, 6, 8, 10, 12, 14, 16] [2, 4, 6, 8, 10, 12, 14, 16]\n"
     ]
    }
   ],
   "source": [
    "numbers = [1, 2, 3, 4, 5, 6, 7, 8]\n",
    "numbers_yet_again = numbers               \n",
    "for i, v in enumerate(numbers):\n",
    "    numbers[i] *= 2\n",
    "print(numbers, numbers_yet_again)"
   ]
  },
  {
   "cell_type": "code",
   "execution_count": 31,
   "id": "238d425f-e6a3-4648-a0d3-94940e0a69bd",
   "metadata": {},
   "outputs": [
    {
     "name": "stdout",
     "output_type": "stream",
     "text": [
      "[2, 4, 6, 8, 10, 12, 14, 16] [1, 2, 3, 4, 5, 6, 7, 8]\n"
     ]
    }
   ],
   "source": [
    "numbers = [1, 2, 3, 4, 5, 6, 7, 8]\n",
    "a_different_copy_of_numbers = numbers[:]              \n",
    "for i, v in enumerate(numbers):\n",
    "    numbers[i] *= 2\n",
    "print(numbers, a_different_copy_of_numbers)"
   ]
  },
  {
   "cell_type": "markdown",
   "id": "9e2a9b70-a16b-42e5-b4ab-186395caaa9d",
   "metadata": {},
   "source": [
    "### Dictionaries"
   ]
  },
  {
   "cell_type": "code",
   "execution_count": null,
   "id": "9036e72d-7c2b-4ef3-8918-e3574706c975",
   "metadata": {},
   "outputs": [],
   "source": [
    "gems = {'shappire':'blue', 'emerald':'green', 'ruby':'red'}\n",
    "# This is ok\n",
    "for key in gems:\n",
    "    print(f'{key} -> {gems[key]}')\n",
    "# This is better\n",
    "for key, val in gems.items():\n",
    "    print(f'{key} -> {val}')"
   ]
  },
  {
   "cell_type": "code",
   "execution_count": 56,
   "id": "7e716969-3fae-4822-aaff-bcbe6bccdcb5",
   "metadata": {},
   "outputs": [],
   "source": [
    "names = ['shappire', 'emerald', 'ruby']\n",
    "colors = ['blue', 'green', 'red']\n",
    "# This is ok\n",
    "gems = {}\n",
    "for name, color in zip(names, colors):\n",
    "    gems[name] = color\n",
    "# This is better\n",
    "gems = dict(zip(names, colors))"
   ]
  },
  {
   "cell_type": "code",
   "execution_count": 14,
   "id": "cd8041f4-523b-48c9-b6fb-45c7ece546ed",
   "metadata": {},
   "outputs": [],
   "source": [
    "def lookup_collection(item, coll):\n",
    "    return item in coll\n",
    "\n",
    "my_list = ['a', 'b', 'c', 'd']\n",
    "my_set = set(my_list)"
   ]
  },
  {
   "cell_type": "markdown",
   "id": "d7270eb3-681b-4ba8-9d45-fc904c4d232d",
   "metadata": {},
   "source": [
    "### Lookup in a collection"
   ]
  },
  {
   "cell_type": "code",
   "execution_count": 15,
   "id": "d8d91f08-18e2-45a6-94c1-9ded6cf59c0f",
   "metadata": {},
   "outputs": [
    {
     "data": {
      "text/plain": [
       "False"
      ]
     },
     "execution_count": 15,
     "metadata": {},
     "output_type": "execute_result"
    }
   ],
   "source": [
    "lookup_collection('s', my_set) # This happens in constant time"
   ]
  },
  {
   "cell_type": "code",
   "execution_count": 16,
   "id": "c8dd1909-98f3-46c6-a5a6-a60d0e12f84e",
   "metadata": {},
   "outputs": [
    {
     "data": {
      "text/plain": [
       "False"
      ]
     },
     "execution_count": 16,
     "metadata": {},
     "output_type": "execute_result"
    }
   ],
   "source": [
    "lookup_collection('s', my_list) # This happens in linear time"
   ]
  },
  {
   "cell_type": "markdown",
   "id": "e15c6924-40d4-4562-89c9-4d797337b299",
   "metadata": {},
   "source": [
    "### Explicit code\n",
    "The most explicit and straightforward manner is usually preferred. Favour readability over *cleverness*."
   ]
  },
  {
   "cell_type": "code",
   "execution_count": 61,
   "id": "303f493f-aa7e-4377-a1e3-1fe978fe0173",
   "metadata": {},
   "outputs": [],
   "source": [
    "# Rather than this...\n",
    "def coordinates(*args):\n",
    "    x, y = args\n",
    "    return dict(**locals())\n",
    "# ...do this\n",
    "def coordinates(x, y):\n",
    "    return {'x': x, 'y': y}"
   ]
  },
  {
   "cell_type": "markdown",
   "id": "c4c82371-bcf0-4c77-97de-27613dc1b164",
   "metadata": {},
   "source": [
    "### One statement per line"
   ]
  },
  {
   "cell_type": "code",
   "execution_count": null,
   "id": "d87a67ea-58fb-40a8-9ef0-0a63d5a14ab0",
   "metadata": {},
   "outputs": [],
   "source": [
    "# Rather than this...\n",
    "print('one'); print('two')\n",
    "if x == 1: print('one')\n",
    "if __some__complex__comparison__ and __some__other__complex__comparison__:\n",
    "    pass\n",
    "# ...do this\n",
    "print('one')\n",
    "print('two')\n",
    "if x == 1:\n",
    "    print('one')\n",
    "cond1 = __some__complex__comparison__\n",
    "cond2 = __some__other__complex__comparison__\n",
    "if cond1 and cond2:\n",
    "    pass"
   ]
  },
  {
   "cell_type": "markdown",
   "id": "c9d86d7e-1c9f-484d-b6fc-a2ac09cbd89c",
   "metadata": {},
   "source": [
    "### Check if a variable equals a constant\n",
    "There is no need to explicitly compare a value to `True`, or `None`, or `0`. Just make sure to remember what evaluates to either `True` or `False` in the language."
   ]
  },
  {
   "cell_type": "code",
   "execution_count": null,
   "id": "48232fe0-73e6-44a7-86d3-3c79317361e2",
   "metadata": {},
   "outputs": [],
   "source": [
    "# Just check the value...\n",
    "if x:\n",
    "    print('x is truthy!')\n",
    "# ...or check for the opposite...\n",
    "if not x:\n",
    "    print('x is falsy!')\n",
    "# ...or, since None evaluates to False, explicitly check for it\n",
    "if x is None:\n",
    "    print('x is None!')"
   ]
  },
  {
   "cell_type": "markdown",
   "id": "25345017-3bd1-400e-b555-f9ab3f2e9e48",
   "metadata": {},
   "source": [
    "### Line continuations\n",
    "When a logical line of code is longer than the accepted limit, you need to split it over multiple physical lines. The Python interpreter will join consecutive lines if the last character of the line is a backslash. Remember that a white space added to the end of the line after the backslash, though, will break the code and may have unexpected results.\n",
    "\n",
    "A better solution is to use parentheses around your elements. The Python interpreter will join the next line until the parentheses are closed. The same behavior holds for curly and square braces."
   ]
  },
  {
   "cell_type": "code",
   "execution_count": 32,
   "id": "ab9024b8-7521-4999-9479-9669d56cfbf2",
   "metadata": {},
   "outputs": [],
   "source": [
    "a_very_long_string = \"Lorem ipsum dolor sit amet, consectetur adipiscing elit, \\\n",
    "sed do eiusmod tempor incididunt ut labore et dolore magna aliqua. Ut enim ad minim veniam, \\\n",
    "quis nostrud exercitation ullamco laboris nisi ut aliquip ex ea commodo consequat.\""
   ]
  },
  {
   "cell_type": "code",
   "execution_count": 33,
   "id": "98f7ac38-ab9f-4c9b-bbc4-bb14a25c9d19",
   "metadata": {},
   "outputs": [],
   "source": [
    "a_better_very_long_string = (\n",
    "\"Lorem ipsum dolor sit amet, consectetur adipiscing elit,\"\n",
    "\"sed do eiusmod tempor incididunt ut labore et dolore magna aliqua. Ut enim ad minim veniam,\"\n",
    "\"quis nostrud exercitation ullamco laboris nisi ut aliquip ex ea commodo consequat.\"\n",
    ")"
   ]
  },
  {
   "cell_type": "markdown",
   "id": "136e4d35-c90a-4cbb-b967-2767e8f56e9a",
   "metadata": {},
   "source": [
    "Be aware of this feature in case it is not your intended purpose!"
   ]
  },
  {
   "cell_type": "code",
   "execution_count": 35,
   "id": "ccc008c7-017a-4315-b9ad-ac744cf5162a",
   "metadata": {},
   "outputs": [
    {
     "name": "stdout",
     "output_type": "stream",
     "text": [
      "a first string\n",
      "a second stringI missed a comma\n",
      "not the fourth string\n"
     ]
    }
   ],
   "source": [
    "my_list_of_strings = ['a first string', 'a second string' 'I missed a comma', 'not the fourth string']\n",
    "for s in my_list_of_strings:\n",
    "    print(s)"
   ]
  },
  {
   "cell_type": "markdown",
   "id": "a73cb036-5c06-4a90-8635-f1b2c2cae091",
   "metadata": {
    "tags": []
   },
   "source": [
    "### More and more examples...\n",
    "This list of examples could go on and on and on... We will see additional ones in the following lessons and modules, in the proper context and with the proper timing."
   ]
  }
 ],
 "metadata": {
  "kernelspec": {
   "display_name": "Python 3 (ipykernel)",
   "language": "python",
   "name": "python3"
  },
  "language_info": {
   "codemirror_mode": {
    "name": "ipython",
    "version": 3
   },
   "file_extension": ".py",
   "mimetype": "text/x-python",
   "name": "python",
   "nbconvert_exporter": "python",
   "pygments_lexer": "ipython3",
   "version": "3.9.7"
  }
 },
 "nbformat": 4,
 "nbformat_minor": 5
}
