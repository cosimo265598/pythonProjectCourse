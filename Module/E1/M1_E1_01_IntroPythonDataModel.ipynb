{
 "cells": [
  {
   "cell_type": "code",
   "execution_count": 2,
   "id": "26b28b5b-d70b-4a02-a726-8d68d4a9d45d",
   "metadata": {
    "jupyter": {
     "source_hidden": true
    },
    "tags": []
   },
   "outputs": [
    {
     "data": {
      "text/html": [
       "\n",
       "<style>\n",
       ".advanced-cell {\n",
       "    background-color: #e84c2250;\n",
       "}\n",
       ".advanced-cell::after {\n",
       "    position: absolute;\n",
       "    display: block;\n",
       "    top: -2px;\n",
       "    right: -2px;\n",
       "    width: 5px;\n",
       "    height: calc(100% + 3px);\n",
       "    content: '';\n",
       "    background: #e84c22;\n",
       "}\n",
       ".advanced-label-row {\n",
       "    border-bottom: 1px solid #e84c22;\n",
       "    display: flex;\n",
       "    font-weight: bold;\n",
       "}\n",
       ".advanced-label {\n",
       "    margin-left: auto;\n",
       "    background-color: #e84c22;\n",
       "    padding: 5px 8px;\n",
       "    color: white;\n",
       "    margin-right: -2px;\n",
       "}\n",
       "</style>\n",
       "<script>\n",
       "\n",
       "// A function to hide/show highlight advanced topics in the notebook\n",
       "var highlighted = false;\n",
       "function highlight_advanced_topics() {\n",
       "    $(\".advanced-cell\").removeClass(\"advanced-cell\");\n",
       "    $(\".advanced-label-row\").remove();\n",
       "    if(highlighted) {\n",
       "        highlighted = false;\n",
       "        return;\n",
       "    }\n",
       "    var advanced = false;\n",
       "    $(\".jp-Cell.jp-MarkdownCell,.jp-Cell.jp-CodeCell\").each(function(){\n",
       "        if(!advanced) {\n",
       "            if($(this).find(\".advanced-start\").length > 0) {\n",
       "                $(this).before(\"<div class='advanced-label-row'><span class='advanced-label'>Advanced Topic</span></div>\");\n",
       "                $(this).addClass(\"advanced-cell\");\n",
       "                advanced = true;\n",
       "            }        \n",
       "        } else {\n",
       "            if($(this).find(\".advanced-stop\").length > 0) {\n",
       "                if($(this).find(\".advanced-start\").length > 0) {\n",
       "                    $(this).before(\"<div class='advanced-label-row' style='margin-top: 10px;'><span class='advanced-label'>Advanced Topic</span></div>\");\n",
       "                    $(this).addClass(\"advanced-cell\");\n",
       "                } else {\n",
       "                    advanced = false;\n",
       "                }\n",
       "            } else {\n",
       "                $(this).addClass(\"advanced-cell\");\n",
       "            }\n",
       "        }\n",
       "    });\n",
       "    highlighted = true\n",
       "}\n",
       "\n",
       "(function() {\n",
       "  // Load the script\n",
       "  const script = document.createElement(\"script\");\n",
       "  script.src = 'https://ajax.googleapis.com/ajax/libs/jquery/3.6.0/jquery.min.js';\n",
       "  script.type = 'text/javascript';\n",
       "  script.addEventListener('load', () => {\n",
       "    $(document).ready(highlight_advanced_topics);\n",
       "  });\n",
       "  document.head.appendChild(script);\n",
       "})();\n",
       "</script>\n",
       "<div class=\"m-5 p-5\"><span class=\"alert alert-block alert-danger\">Advanced topics in notebook are highlighted!</span></div>"
      ],
      "text/plain": [
       "<IPython.core.display.HTML object>"
      ]
     },
     "metadata": {},
     "output_type": "display_data"
    }
   ],
   "source": [
    "from IPython.display import HTML\n",
    "from IPython.display import display\n",
    "\n",
    "tag = HTML('''\n",
    "<style>\n",
    ".advanced-cell {\n",
    "    background-color: #e84c2250;\n",
    "}\n",
    ".advanced-cell::after {\n",
    "    position: absolute;\n",
    "    display: block;\n",
    "    top: -2px;\n",
    "    right: -2px;\n",
    "    width: 5px;\n",
    "    height: calc(100% + 3px);\n",
    "    content: '';\n",
    "    background: #e84c22;\n",
    "}\n",
    ".advanced-label-row {\n",
    "    border-bottom: 1px solid #e84c22;\n",
    "    display: flex;\n",
    "    font-weight: bold;\n",
    "}\n",
    ".advanced-label {\n",
    "    margin-left: auto;\n",
    "    background-color: #e84c22;\n",
    "    padding: 5px 8px;\n",
    "    color: white;\n",
    "    margin-right: -2px;\n",
    "}\n",
    "</style>\n",
    "<script>\n",
    "\n",
    "// A function to hide/show highlight advanced topics in the notebook\n",
    "var highlighted = false;\n",
    "function highlight_advanced_topics() {\n",
    "    $(\".advanced-cell\").removeClass(\"advanced-cell\");\n",
    "    $(\".advanced-label-row\").remove();\n",
    "    if(highlighted) {\n",
    "        highlighted = false;\n",
    "        return;\n",
    "    }\n",
    "    var advanced = false;\n",
    "    $(\".jp-Cell.jp-MarkdownCell,.jp-Cell.jp-CodeCell\").each(function(){\n",
    "        if(!advanced) {\n",
    "            if($(this).find(\".advanced-start\").length > 0) {\n",
    "                $(this).before(\"<div class='advanced-label-row'><span class='advanced-label'>Advanced Topic</span></div>\");\n",
    "                $(this).addClass(\"advanced-cell\");\n",
    "                advanced = true;\n",
    "            }        \n",
    "        } else {\n",
    "            if($(this).find(\".advanced-stop\").length > 0) {\n",
    "                if($(this).find(\".advanced-start\").length > 0) {\n",
    "                    $(this).before(\"<div class='advanced-label-row' style='margin-top: 10px;'><span class='advanced-label'>Advanced Topic</span></div>\");\n",
    "                    $(this).addClass(\"advanced-cell\");\n",
    "                } else {\n",
    "                    advanced = false;\n",
    "                }\n",
    "            } else {\n",
    "                $(this).addClass(\"advanced-cell\");\n",
    "            }\n",
    "        }\n",
    "    });\n",
    "    highlighted = true\n",
    "}\n",
    "\n",
    "(function() {\n",
    "  // Load the script\n",
    "  const script = document.createElement(\"script\");\n",
    "  script.src = 'https://ajax.googleapis.com/ajax/libs/jquery/3.6.0/jquery.min.js';\n",
    "  script.type = 'text/javascript';\n",
    "  script.addEventListener('load', () => {\n",
    "    $(document).ready(highlight_advanced_topics);\n",
    "  });\n",
    "  document.head.appendChild(script);\n",
    "})();\n",
    "</script>\n",
    "<div class=\"m-5 p-5\"><span class=\"alert alert-block alert-danger\">Advanced topics in notebook are highlighted!</span></div>''')\n",
    "display(tag)"
   ]
  },
  {
   "cell_type": "markdown",
   "id": "7d0dae01",
   "metadata": {
    "tags": []
   },
   "source": [
    "# Introduction to the Python Data Model\n",
    "Python is an [object-oriented programming](https://en.wikipedia.org/wiki/Object-oriented_programming) language. When learning Python, one of the first things we are told is that everything in Python is an object. Not only primitive data such as numbers and strings, but also collections, functions, modules, etc. are objects. Objects are all over the place. But what exactly is an object? And what are the implications of treating every entity in the language as one? Let's flesh it out. \n",
    "\n",
    "Consider a simple integer number like `42`:"
   ]
  },
  {
   "cell_type": "code",
   "execution_count": 1,
   "id": "ab2e0ef3",
   "metadata": {
    "collapsed": true,
    "jupyter": {
     "outputs_hidden": true
    },
    "scrolled": true,
    "tags": []
   },
   "outputs": [
    {
     "name": "stdout",
     "output_type": "stream",
     "text": [
      "Value: 42\n",
      "Size: 28 bytes\n",
      "Number of attributes: 71\n",
      "Attributes list: ['__abs__', '__add__', '__and__', '__bool__', '__ceil__', '__class__', '__delattr__', '__dir__', '__divmod__', '__doc__', '__eq__', '__float__', '__floor__', '__floordiv__', '__format__', '__ge__', '__getattribute__', '__getnewargs__', '__gt__', '__hash__', '__index__', '__init__', '__init_subclass__', '__int__', '__invert__', '__le__', '__lshift__', '__lt__', '__mod__', '__mul__', '__ne__', '__neg__', '__new__', '__or__', '__pos__', '__pow__', '__radd__', '__rand__', '__rdivmod__', '__reduce__', '__reduce_ex__', '__repr__', '__rfloordiv__', '__rlshift__', '__rmod__', '__rmul__', '__ror__', '__round__', '__rpow__', '__rrshift__', '__rshift__', '__rsub__', '__rtruediv__', '__rxor__', '__setattr__', '__sizeof__', '__str__', '__sub__', '__subclasshook__', '__truediv__', '__trunc__', '__xor__', 'as_integer_ratio', 'bit_length', 'conjugate', 'denominator', 'from_bytes', 'imag', 'numerator', 'real', 'to_bytes']\n"
     ]
    }
   ],
   "source": [
    "import sys\n",
    "\n",
    "answer=42\n",
    "print(f\"Value: {answer}\")\n",
    "print(f\"Size: {sys.getsizeof(answer)} bytes\")\n",
    "print(f\"Number of attributes: {len(dir(answer))}\")\n",
    "print(f\"Attributes list: {dir(answer)}\")"
   ]
  },
  {
   "cell_type": "markdown",
   "id": "339bac60",
   "metadata": {},
   "source": [
    "Simple as it may be, the integer `42` has a rather complex representation in Python. This is because all data in a Python program, even simple integer numbers like `42`, is represented by objects. Different programming languages may define what an \"object\" is in different ways. In Python:\n",
    "> An **object** is any data that has a *state* and a defined *behavior*. \n",
    "\n",
    "The state of an object tells us what information it holds. The behavior of an object tells us what can we do with it. The state of an object is defined by its value and (data) attributes, the behavior of an object is defined by its type and methods (more on all these terms later). In the example above, the state of the object named `answer` is represented by its value `42` and its behavior is defined by the methods whose names appear in the output of `dir(answer)`."
   ]
  },
  {
   "cell_type": "markdown",
   "id": "ae61a845",
   "metadata": {},
   "source": [
    "## Value, type and identity of objects\n",
    "Every object in Python has an *identity*, a *type* and a *value*. The **identity** is a number that uniquely identifies the object. The **type** (or *class*) determines the operations that the object supports and defines its possible values (more on that later). The **value** of an object is the actual data the object contains. We can inspect the identity and type of objects using `id()` and `type()`."
   ]
  },
  {
   "cell_type": "code",
   "execution_count": 36,
   "id": "966e6b78",
   "metadata": {
    "collapsed": true,
    "jupyter": {
     "outputs_hidden": true
    }
   },
   "outputs": [
    {
     "name": "stdout",
     "output_type": "stream",
     "text": [
      "Id: 140041725855248\n",
      "Type: <class 'int'>\n",
      "Value: 42\n"
     ]
    }
   ],
   "source": [
    "print(f\"Id: {id(answer)}\")\n",
    "print(f\"Type: {type(answer)}\")\n",
    "print(f\"Value: {answer}\")"
   ]
  },
  {
   "cell_type": "markdown",
   "id": "6fae4cf8",
   "metadata": {},
   "source": [
    "An object's identity and type never change once it has been created. The value of some objects can change. Objects whose value can change are called **mutable** objects. Object whose value cannot be changed are called **immutable**. An object's mutability is determined by its type; for instance, numbers, strings and tuples are immutable, while dictionaries and lists are mutable."
   ]
  },
  {
   "cell_type": "code",
   "execution_count": 40,
   "id": "806763ac",
   "metadata": {
    "collapsed": true,
    "jupyter": {
     "outputs_hidden": true
    },
    "scrolled": true
   },
   "outputs": [
    {
     "name": "stdout",
     "output_type": "stream",
     "text": [
      "Mutable value: ['you', 'cannot', 'change', 'me']\n",
      "Id: 140041653018368\n",
      "Mutable value: ['you', 'can', 'change', 'me']\n",
      "Id: 140041653018368\n",
      "Immutable value: ('you', 'cannot', 'change', 'me')\n",
      "Id: 140041576381744\n"
     ]
    },
    {
     "ename": "TypeError",
     "evalue": "'tuple' object does not support item assignment",
     "output_type": "error",
     "traceback": [
      "\u001b[0;31m---------------------------------------------------------------------------\u001b[0m",
      "\u001b[0;31mTypeError\u001b[0m                                 Traceback (most recent call last)",
      "\u001b[0;32m/tmp/ipykernel_1034/922576467.py\u001b[0m in \u001b[0;36m<module>\u001b[0;34m\u001b[0m\n\u001b[1;32m      8\u001b[0m \u001b[0mprint\u001b[0m\u001b[0;34m(\u001b[0m\u001b[0;34mf\"Immutable value: {t}\"\u001b[0m\u001b[0;34m)\u001b[0m\u001b[0;34m\u001b[0m\u001b[0;34m\u001b[0m\u001b[0m\n\u001b[1;32m      9\u001b[0m \u001b[0mprint\u001b[0m\u001b[0;34m(\u001b[0m\u001b[0;34mf\"Id: {id(t)}\"\u001b[0m\u001b[0;34m)\u001b[0m\u001b[0;34m\u001b[0m\u001b[0;34m\u001b[0m\u001b[0m\n\u001b[0;32m---> 10\u001b[0;31m \u001b[0mt\u001b[0m\u001b[0;34m[\u001b[0m\u001b[0;36m1\u001b[0m\u001b[0;34m]\u001b[0m \u001b[0;34m=\u001b[0m \u001b[0;34m\"can\"\u001b[0m\u001b[0;34m\u001b[0m\u001b[0;34m\u001b[0m\u001b[0m\n\u001b[0m\u001b[1;32m     11\u001b[0m \u001b[0mprint\u001b[0m\u001b[0;34m(\u001b[0m\u001b[0;34mf\"Immutable value: {t}\"\u001b[0m\u001b[0;34m)\u001b[0m\u001b[0;34m\u001b[0m\u001b[0;34m\u001b[0m\u001b[0m\n\u001b[1;32m     12\u001b[0m \u001b[0mprint\u001b[0m\u001b[0;34m(\u001b[0m\u001b[0;34mf\"Id: {id(t)}\"\u001b[0m\u001b[0;34m)\u001b[0m\u001b[0;34m\u001b[0m\u001b[0;34m\u001b[0m\u001b[0m\n",
      "\u001b[0;31mTypeError\u001b[0m: 'tuple' object does not support item assignment"
     ]
    }
   ],
   "source": [
    "l = [\"you\", \"cannot\", \"change\", \"me\"]\n",
    "print(f\"Mutable value: {l}\")\n",
    "print(f\"Id: {id(l)}\")\n",
    "l[1] = \"can\"\n",
    "print(f\"Mutable value: {l}\")\n",
    "print(f\"Id: {id(l)}\")\n",
    "t = (\"you\", \"cannot\", \"change\", \"me\")\n",
    "print(f\"Immutable value: {t}\")\n",
    "print(f\"Id: {id(t)}\")\n",
    "t[1] = \"can\"\n",
    "print(f\"Immutable value: {t}\")\n",
    "print(f\"Id: {id(t)}\")"
   ]
  },
  {
   "cell_type": "markdown",
   "id": "14feaaf9",
   "metadata": {},
   "source": [
    "When we assign a new value to an immutable object we are actually creating a new object:"
   ]
  },
  {
   "cell_type": "code",
   "execution_count": 83,
   "id": "e65d3fce",
   "metadata": {
    "collapsed": true,
    "jupyter": {
     "outputs_hidden": true
    }
   },
   "outputs": [
    {
     "name": "stdout",
     "output_type": "stream",
     "text": [
      "140041725854992\n",
      "140041725855024\n"
     ]
    }
   ],
   "source": [
    "age = 34\n",
    "print(id(age))\n",
    "age = 35\n",
    "print(id(age))"
   ]
  },
  {
   "cell_type": "markdown",
   "id": "3346dffb",
   "metadata": {},
   "source": [
    "## Attributes and methods\n",
    "Objects also have **attributes**. An attribute is any value (data or function) that is associated with an object through a **name**. Attributes with a data value are called *data attributes* (or sometimes simply *attributes*) while attributes with a function value are called *methods*. We can use the built-in function `dir()` to retrieve a list of valid attributes for an object and  we can access individual object attributes by name using *dot notation*."
   ]
  },
  {
   "cell_type": "code",
   "execution_count": 56,
   "id": "356d339e",
   "metadata": {
    "collapsed": true,
    "jupyter": {
     "outputs_hidden": true
    }
   },
   "outputs": [
    {
     "name": "stdout",
     "output_type": "stream",
     "text": [
      "42 0\n",
      "6\n"
     ]
    }
   ],
   "source": [
    "print(answer.real, answer.imag)\n",
    "print(answer.bit_length())"
   ]
  },
  {
   "cell_type": "markdown",
   "id": "dcb46a5c",
   "metadata": {
    "tags": []
   },
   "source": [
    "## Variables and aliases\n",
    "In many programming languages, variables are best thought of as containers that hold our data. In Python, by contrast, variables are best thought of as pointers or *references* to our data. In Python, variables are just **names** that we use to refer to objects. A variable does not contain the actual object, instead it contains a **reference** to that object. \n",
    "\n",
    "Since a variable always contains a reference, there is no need to declare variables or their types in advance. A variable is created in the moment we first assign a value to it. When we assign an object to a variable, using the `=` operator, what we do is to create a new name and assign it the reference to an object. \n",
    "\n",
    "An object can be referenced by multiple variables at the same time. Multiple variables referencing the same object are known as **aliases**."
   ]
  },
  {
   "cell_type": "markdown",
   "id": "c4b967b1-13c9-44e5-8bef-46297b31fa82",
   "metadata": {},
   "source": [
    "<span class=\"advanced-start\"></span>\n",
    " We can count the number of references to an object with `sys.getrefcount()`."
   ]
  },
  {
   "cell_type": "code",
   "execution_count": 80,
   "id": "20dc5c3f",
   "metadata": {
    "collapsed": true,
    "jupyter": {
     "outputs_hidden": true
    },
    "scrolled": true
   },
   "outputs": [
    {
     "name": "stdout",
     "output_type": "stream",
     "text": [
      "2\n",
      "3\n"
     ]
    }
   ],
   "source": [
    "import sys\n",
    "coord = (35.658581, 139.745438)\n",
    "print(sys.getrefcount(coord))\n",
    "tokyo = coord\n",
    "print(sys.getrefcount(coord))"
   ]
  },
  {
   "cell_type": "markdown",
   "id": "b765e288",
   "metadata": {},
   "source": [
    "<span class=\"advanced-stop\"></span>\n",
    "We must be careful when we alias a mutable object as any change we make to that object using one variable will be visible from its alias as well!"
   ]
  },
  {
   "cell_type": "code",
   "execution_count": 81,
   "id": "a61dc109",
   "metadata": {
    "collapsed": true,
    "jupyter": {
     "outputs_hidden": true
    }
   },
   "outputs": [
    {
     "name": "stdout",
     "output_type": "stream",
     "text": [
      "True\n",
      "140041653213504 140041653213504\n",
      "{'name': 'Anakin', 'surname': 'Skywalker', 'rank': 'Sith Lord'}\n"
     ]
    }
   ],
   "source": [
    "anakin = {\n",
    "    'name' : 'Anakin',\n",
    "    'surname' : 'Skywalker',\n",
    "    'rank' : 'Jedi Knight'\n",
    "}\n",
    "vader = anakin\n",
    "print(vader is anakin)\n",
    "print(id(anakin), id(vader))\n",
    "vader['rank'] = 'Sith Lord'\n",
    "print(anakin)"
   ]
  },
  {
   "cell_type": "markdown",
   "id": "c59bc161",
   "metadata": {},
   "source": [
    "Note that even though `=` is known as the *assignment operator* it may be misleading to think of a statement like `answer=42` as \"the object `42` is assigned to the variable `answer`\". A better way to think about it would be as \"the variable `answer` is bound to the object `42`\"."
   ]
  },
  {
   "cell_type": "markdown",
   "id": "6da155c2",
   "metadata": {},
   "source": [
    "## Identity vs. Equality\n",
    "We use the `==` operator to compare the values of objects, while `is` compares their identities. Usually we care more about values than identities, so most of the times when comparing if two objects are equal we will use `==` and not `is`."
   ]
  },
  {
   "cell_type": "code",
   "execution_count": 43,
   "id": "79dd3223",
   "metadata": {
    "collapsed": true,
    "jupyter": {
     "outputs_hidden": true
    }
   },
   "outputs": [
    {
     "name": "stdout",
     "output_type": "stream",
     "text": [
      "140041653218368 140041576518720\n",
      "True False\n"
     ]
    }
   ],
   "source": [
    "x = []\n",
    "y = []\n",
    "print(id(x), id(y))\n",
    "print(x == y, x is y)"
   ]
  },
  {
   "cell_type": "markdown",
   "id": "359747b3",
   "metadata": {},
   "source": [
    "A common use case of `is` is to compare an object with a a unique object, such as `None`, `True` or `False`. For instance, the recommended way to check if a variable is bound to `None` is by using `is`."
   ]
  },
  {
   "cell_type": "code",
   "execution_count": 49,
   "id": "8d4cb029",
   "metadata": {
    "collapsed": true,
    "jupyter": {
     "outputs_hidden": true
    }
   },
   "outputs": [
    {
     "name": "stdout",
     "output_type": "stream",
     "text": [
      "True\n",
      "21.2 ns ± 0.906 ns per loop (mean ± std. dev. of 7 runs, 10000000 loops each)\n",
      "30 ns ± 1.17 ns per loop (mean ± std. dev. of 7 runs, 10000000 loops each)\n"
     ]
    }
   ],
   "source": [
    "import timeit\n",
    "x = None\n",
    "print(x is None)\n",
    "%timeit x is None\n",
    "%timeit x == None"
   ]
  },
  {
   "cell_type": "markdown",
   "id": "c60df671",
   "metadata": {},
   "source": [
    "Using `==` is about 40% slower."
   ]
  },
  {
   "cell_type": "markdown",
   "id": "6c4ed04e",
   "metadata": {},
   "source": [
    "## Immutability is subtle\n",
    "Immutability is subtle: it is not strictly the same as having an unchangeable value. For instance, an immutable container that contains a mutable object can change its value when the latter's value is changed."
   ]
  },
  {
   "cell_type": "code",
   "execution_count": 4,
   "id": "e59f2128",
   "metadata": {
    "collapsed": true,
    "jupyter": {
     "outputs_hidden": true
    }
   },
   "outputs": [
    {
     "name": "stdout",
     "output_type": "stream",
     "text": [
      "True\n",
      "Value: (1, 2, 3, [4, 5])\n",
      "Value: (1, 2, 3, [4, 5, 6])\n",
      "False\n"
     ]
    }
   ],
   "source": [
    "t1 = (1, 2, 3, [4, 5])\n",
    "t2 = (1, 2, 3, [4, 5])\n",
    "print(t1 == t2)\n",
    "print(f\"Value: {t1}\")\n",
    "t1[3].append(6)\n",
    "print(f\"Value: {t1}\")\n",
    "print(t1 == t2)"
   ]
  },
  {
   "cell_type": "markdown",
   "id": "480109db",
   "metadata": {},
   "source": [
    "That is because immutability of an object really refers to the physical contents of the object's data structure. If an immutable object contains references to other objects, as in the case of a tuple, these references cannot change but this does not extend to the referenced objects."
   ]
  },
  {
   "cell_type": "markdown",
   "id": "83ba9b10",
   "metadata": {},
   "source": [
    "## Everything is an object\n",
    "When we say that in Python everything is an object, we really mean *everything*."
   ]
  },
  {
   "cell_type": "code",
   "execution_count": 63,
   "id": "0f7b788c",
   "metadata": {
    "collapsed": true,
    "jupyter": {
     "outputs_hidden": true
    },
    "scrolled": true,
    "tags": []
   },
   "outputs": [
    {
     "name": "stdout",
     "output_type": "stream",
     "text": [
      "<class 'int'>\n",
      "<class 'list'>\n",
      "<class 'module'>\n",
      "<class 'function'>\n",
      "<class 'type'>\n",
      "<class 'builtin_function_or_method'>\n",
      "<class 'builtin_function_or_method'>\n"
     ]
    }
   ],
   "source": [
    "import sys\n",
    "\n",
    "def print_type(o):\n",
    "    print(type(o))\n",
    "    \n",
    "print_type(42)\n",
    "print_type([])\n",
    "print_type(sys)\n",
    "print_type(print_type)\n",
    "print_type(type)\n",
    "print_type([].append)\n",
    "print_type(len)"
   ]
  },
  {
   "cell_type": "markdown",
   "id": "d9ed3b7e",
   "metadata": {},
   "source": [
    "<span class=\"advanced-start\"></span>\n",
    "This language design choice allows for some very convenient language constructs, but has some costs in terms of performance. For instance when we perform the simple addition of two integers there are a few more steps involved besides retrieving the value of the two operands and performing the addition. The Python interpreter in fact has to check the type of both operands, see if they support the addition operation, call the appropriate addition method extract the values to be added, perform the operation and construct a new object for the result."
   ]
  },
  {
   "cell_type": "markdown",
   "id": "cbd80523-c300-4b51-b55c-3840611c1ff5",
   "metadata": {
    "tags": []
   },
   "source": [
    "<span class=\"advanced-stop\"></span>\n",
    "A practical implication of the fact that everything in Python is an object is that everything can be \n",
    "- Assigned to a variable\n",
    "- Passed as an argument to a function\n",
    "- Returned as the return value of a function\n",
    "- Set as an attribute of another object"
   ]
  },
  {
   "cell_type": "markdown",
   "id": "2cd2dcb6-3ea3-476e-80b2-35a4fb0853b6",
   "metadata": {},
   "source": [
    "<span class=\"advanced-stop\"></span>"
   ]
  }
 ],
 "metadata": {
  "kernelspec": {
   "display_name": "Python 3 (ipykernel)",
   "language": "python",
   "name": "python3"
  },
  "language_info": {
   "codemirror_mode": {
    "name": "ipython",
    "version": 3
   },
   "file_extension": ".py",
   "mimetype": "text/x-python",
   "name": "python",
   "nbconvert_exporter": "python",
   "pygments_lexer": "ipython3",
   "version": "3.9.7"
  }
 },
 "nbformat": 4,
 "nbformat_minor": 5
}
