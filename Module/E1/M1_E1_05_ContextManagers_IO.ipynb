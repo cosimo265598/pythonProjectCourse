{
 "cells": [
  {
   "cell_type": "code",
   "execution_count": 2,
   "id": "dc46801d-b058-41e1-9599-ecef90620fa0",
   "metadata": {
    "jupyter": {
     "source_hidden": true
    },
    "tags": []
   },
   "outputs": [
    {
     "data": {
      "text/html": [
       "\n",
       "<style>\n",
       ".advanced-cell {\n",
       "    background-color: #e84c2250;\n",
       "}\n",
       ".advanced-cell::after {\n",
       "    position: absolute;\n",
       "    display: block;\n",
       "    top: -2px;\n",
       "    right: -2px;\n",
       "    width: 5px;\n",
       "    height: calc(100% + 3px);\n",
       "    content: '';\n",
       "    background: #e84c22;\n",
       "}\n",
       ".advanced-label-row {\n",
       "    border-bottom: 1px solid #e84c22;\n",
       "    display: flex;\n",
       "    font-weight: bold;\n",
       "}\n",
       ".advanced-label {\n",
       "    margin-left: auto;\n",
       "    background-color: #e84c22;\n",
       "    padding: 5px 8px;\n",
       "    color: white;\n",
       "    margin-right: -2px;\n",
       "}\n",
       "</style>\n",
       "<script>\n",
       "\n",
       "// A function to hide/show highlight advanced topics in the notebook\n",
       "var highlighted = false;\n",
       "function highlight_advanced_topics() {\n",
       "    $(\".advanced-cell\").removeClass(\"advanced-cell\");\n",
       "    $(\".advanced-label-row\").remove();\n",
       "    if(highlighted) {\n",
       "        highlighted = false;\n",
       "        return;\n",
       "    }\n",
       "    var advanced = false;\n",
       "    $(\".jp-Cell.jp-MarkdownCell,.jp-Cell.jp-CodeCell\").each(function(){\n",
       "        if(!advanced) {\n",
       "            if($(this).find(\".advanced-start\").length > 0) {\n",
       "                $(this).before(\"<div class='advanced-label-row'><span class='advanced-label'>Advanced Topic</span></div>\");\n",
       "                $(this).addClass(\"advanced-cell\");\n",
       "                advanced = true;\n",
       "            }        \n",
       "        } else {\n",
       "            if($(this).find(\".advanced-stop\").length > 0) {\n",
       "                if($(this).find(\".advanced-start\").length > 0) {\n",
       "                    $(this).before(\"<div class='advanced-label-row' style='margin-top: 10px;'><span class='advanced-label'>Advanced Topic</span></div>\");\n",
       "                    $(this).addClass(\"advanced-cell\");\n",
       "                } else {\n",
       "                    advanced = false;\n",
       "                }\n",
       "            } else {\n",
       "                $(this).addClass(\"advanced-cell\");\n",
       "            }\n",
       "        }\n",
       "    });\n",
       "    highlighted = true\n",
       "}\n",
       "\n",
       "(function() {\n",
       "  // Load the script\n",
       "  const script = document.createElement(\"script\");\n",
       "  script.src = 'https://ajax.googleapis.com/ajax/libs/jquery/3.6.0/jquery.min.js';\n",
       "  script.type = 'text/javascript';\n",
       "  script.addEventListener('load', () => {\n",
       "    $(document).ready(highlight_advanced_topics);\n",
       "  });\n",
       "  document.head.appendChild(script);\n",
       "})();\n",
       "</script>\n",
       "<div class=\"m-5 p-5\"><span class=\"alert alert-block alert-danger\">Advanced topics in notebook are highlighted!</span></div>"
      ],
      "text/plain": [
       "<IPython.core.display.HTML object>"
      ]
     },
     "metadata": {},
     "output_type": "display_data"
    }
   ],
   "source": [
    "from IPython.display import HTML\n",
    "from IPython.display import display\n",
    "\n",
    "tag = HTML('''\n",
    "<style>\n",
    ".advanced-cell {\n",
    "    background-color: #e84c2250;\n",
    "}\n",
    ".advanced-cell::after {\n",
    "    position: absolute;\n",
    "    display: block;\n",
    "    top: -2px;\n",
    "    right: -2px;\n",
    "    width: 5px;\n",
    "    height: calc(100% + 3px);\n",
    "    content: '';\n",
    "    background: #e84c22;\n",
    "}\n",
    ".advanced-label-row {\n",
    "    border-bottom: 1px solid #e84c22;\n",
    "    display: flex;\n",
    "    font-weight: bold;\n",
    "}\n",
    ".advanced-label {\n",
    "    margin-left: auto;\n",
    "    background-color: #e84c22;\n",
    "    padding: 5px 8px;\n",
    "    color: white;\n",
    "    margin-right: -2px;\n",
    "}\n",
    "</style>\n",
    "<script>\n",
    "\n",
    "// A function to hide/show highlight advanced topics in the notebook\n",
    "var highlighted = false;\n",
    "function highlight_advanced_topics() {\n",
    "    $(\".advanced-cell\").removeClass(\"advanced-cell\");\n",
    "    $(\".advanced-label-row\").remove();\n",
    "    if(highlighted) {\n",
    "        highlighted = false;\n",
    "        return;\n",
    "    }\n",
    "    var advanced = false;\n",
    "    $(\".jp-Cell.jp-MarkdownCell,.jp-Cell.jp-CodeCell\").each(function(){\n",
    "        if(!advanced) {\n",
    "            if($(this).find(\".advanced-start\").length > 0) {\n",
    "                $(this).before(\"<div class='advanced-label-row'><span class='advanced-label'>Advanced Topic</span></div>\");\n",
    "                $(this).addClass(\"advanced-cell\");\n",
    "                advanced = true;\n",
    "            }        \n",
    "        } else {\n",
    "            if($(this).find(\".advanced-stop\").length > 0) {\n",
    "                if($(this).find(\".advanced-start\").length > 0) {\n",
    "                    $(this).before(\"<div class='advanced-label-row' style='margin-top: 10px;'><span class='advanced-label'>Advanced Topic</span></div>\");\n",
    "                    $(this).addClass(\"advanced-cell\");\n",
    "                } else {\n",
    "                    advanced = false;\n",
    "                }\n",
    "            } else {\n",
    "                $(this).addClass(\"advanced-cell\");\n",
    "            }\n",
    "        }\n",
    "    });\n",
    "    highlighted = true\n",
    "}\n",
    "\n",
    "(function() {\n",
    "  // Load the script\n",
    "  const script = document.createElement(\"script\");\n",
    "  script.src = 'https://ajax.googleapis.com/ajax/libs/jquery/3.6.0/jquery.min.js';\n",
    "  script.type = 'text/javascript';\n",
    "  script.addEventListener('load', () => {\n",
    "    $(document).ready(highlight_advanced_topics);\n",
    "  });\n",
    "  document.head.appendChild(script);\n",
    "})();\n",
    "</script>\n",
    "<div class=\"m-5 p-5\"><span class=\"alert alert-block alert-danger\">Advanced topics in notebook are highlighted!</span></div>''')\n",
    "display(tag)"
   ]
  },
  {
   "cell_type": "markdown",
   "id": "30546bf1-ee70-4fe7-bd5b-041f309bab85",
   "metadata": {},
   "source": [
    "# Context managers and I/O\n",
    "There are many instances where our code will have to interact with external resources: just think about reading (writing) data from (to) a file. A common\n",
    "issue is retaining these resources for longer than necessary, or worse forever. These are sometimes called memory leaks because each resource requires memory and the available memory is reduced each time, for instance, a new file is opened without closing previously used ones.\n",
    "\n",
    "We would like to isolate each of these *interactions* so that we can be sure that the resources acquired are eventually properly released. Python support us with the concept of *contexts*. At the end of the context, our program is no longer bound to the resource and we want to be guaranteed that the resource is released.\n",
    "\n",
    "We delegate all the responsibilities of managing resources to their respective context managers, relaxing the need of taking care of their lifecycle and the management of exceptions and corner cases."
   ]
  },
  {
   "cell_type": "markdown",
   "id": "db5b48b8-eb20-405c-823b-b1154d3a562a",
   "metadata": {},
   "source": [
    "## Context managers behaviour\n",
    "Let's say we want to read/write data from/to a text file. We are aware that something bad could happen when opening a file, so we encapsulate our code in a `try/finally` block. For the sake of this example, we ignore explicitly handling exceptions. A possible approach to manage such a file would be the following one."
   ]
  },
  {
   "cell_type": "code",
   "execution_count": null,
   "id": "fdac62ef-c869-48bc-89d0-60aad3e77412",
   "metadata": {},
   "outputs": [],
   "source": [
    "filename = 'path/to/file'\n",
    "fd = open(filename)\n",
    "try:\n",
    "    do_domething(fd)\n",
    "finally:\n",
    "    fd.close()"
   ]
  },
  {
   "cell_type": "markdown",
   "id": "f3c93bfd-868f-4c4e-ba56-9c97b23d1e22",
   "metadata": {},
   "source": [
    "A more Pythonic way to obtain the same result, leveraging the benefits of context managers, is instead the following one."
   ]
  },
  {
   "cell_type": "code",
   "execution_count": null,
   "id": "d2fed597-e7c5-4d4f-a4c5-9f462b38fbae",
   "metadata": {},
   "outputs": [],
   "source": [
    "filename = 'path/to/file'\n",
    "with open(filename) as fd:\n",
    "    do_domething(fd)"
   ]
  },
  {
   "cell_type": "markdown",
   "id": "c0e5316c-679d-4907-a517-bc48cc7e585d",
   "metadata": {},
   "source": [
    "The `with` statement enters the context manager. The `open()` function applies the context manager protocol, guaranteeing the file will be automatically closed when the block is finished, even if an exception is thrown."
   ]
  },
  {
   "cell_type": "markdown",
   "id": "897bc86b-6c14-4ade-9eeb-e8a06e5f5c5b",
   "metadata": {},
   "source": [
    "<span class=\"advanced-start\"></span>\n",
    "Context managers rely on two magic methods: `__enter__` and `__exit__`. On the first line of the context manager, the `with` statement will call the first method, `__enter__`, and whatever this method returns will be assigned to the variable labeled after `as`. \n",
    "After this line is executed, the code enters a new context, where any other Python block can be run. After the last statement on that block is finished, the context will be exited, meaning that the interpreter will call the `__exit__` method of the original context manager object we first invoked.\n",
    "If there is an exception or error inside the context manager block, the `__exit__` method will still be called, which makes it convenient for safely managing the cleaning up of conditions. \n",
    "We can implement our own context managers in order to handle the particular logic we need, but this topic is more suitable for a lesson in the future."
   ]
  },
  {
   "cell_type": "markdown",
   "id": "79242b37-0764-42a5-9ab7-1cb35199a67e",
   "metadata": {},
   "source": [
    "<span class=\"advanced-stop\"></span>\n",
    "To recap, a context manager is notified of three significant events:\n",
    "- Entry\n",
    "- Normal exit without an exception\n",
    "- Abnormal exit with an exception pending\n",
    "\n",
    "The context manager will always *detach* our code from external resources. Files will be closed, network connections will be dropped, database transactions will be committed or rolled back, locks will be released and so on and so forth."
   ]
  },
  {
   "cell_type": "markdown",
   "id": "7b533482-584f-409d-a345-b08d034f217b",
   "metadata": {},
   "source": [
    "# Common patterns for I/O"
   ]
  },
  {
   "cell_type": "markdown",
   "id": "5f05aaf9-89d8-4ca2-8ceb-a232cd5c3658",
   "metadata": {},
   "source": [
    "## Reading data from text files\n",
    "When you want to work with the information in a text file, the first step is to read the file into memory. \n",
    "You can read the entire contents of a file, or you can work through the file one line at a time."
   ]
  },
  {
   "cell_type": "code",
   "execution_count": 3,
   "id": "6a9d4653-4ca7-49c8-ab64-ddcc3bd62482",
   "metadata": {},
   "outputs": [],
   "source": [
    "# %load students.txt\n",
    "Mario Rossi s100200\n",
    "Giulia Bianchi s100201\n",
    "Andrea Verdi s100202"
   ]
  },
  {
   "cell_type": "code",
   "execution_count": 7,
   "id": "b7002c1b-ea2f-45e2-90e7-e379976ee4ea",
   "metadata": {},
   "outputs": [
    {
     "name": "stdout",
     "output_type": "stream",
     "text": [
      "Mario Rossi s100200\n",
      "Giulia Bianchi s100201\n",
      "Andrea Verdi s100202\n"
     ]
    }
   ],
   "source": [
    "# Read the whole file in memory\n",
    "with open('students.txt') as file:\n",
    "    students = file.read()\n",
    "print(students)"
   ]
  },
  {
   "cell_type": "code",
   "execution_count": 6,
   "id": "3b623b06-e3f9-4f7f-8d39-ecde8dac5a50",
   "metadata": {},
   "outputs": [
    {
     "name": "stdout",
     "output_type": "stream",
     "text": [
      "Mario Rossi s100200\n",
      "\n",
      "Giulia Bianchi s100201\n",
      "\n",
      "Andrea Verdi s100202\n"
     ]
    }
   ],
   "source": [
    "# Read the file one line at a time\n",
    "with open('students.txt') as file:\n",
    "    for line in file:\n",
    "        print(line)"
   ]
  },
  {
   "cell_type": "markdown",
   "id": "11efc11d-ba2f-4189-847f-2644f0ed04c4",
   "metadata": {},
   "source": [
    "We can see that there are extra blank lines after each line. This is because a newline character is at the end of each line in the text file. \n",
    "The `print` function, in turn, adds its own newline each time we call it, so we end up with two newlines. We can use `rstrip()` on each line to eliminate the additional ones."
   ]
  },
  {
   "cell_type": "code",
   "execution_count": 12,
   "id": "937e6a12-a085-4fa8-a98e-003fc6c8f886",
   "metadata": {},
   "outputs": [
    {
     "name": "stdout",
     "output_type": "stream",
     "text": [
      "Mario Rossi s100200\n",
      "Giulia Bianchi s100201\n",
      "Andrea Verdi s100202\n"
     ]
    }
   ],
   "source": [
    "# Read the file one line at a time, cleaning the input.\n",
    "with open('students.txt') as file:\n",
    "    for line in file:\n",
    "        print(line.rstrip())"
   ]
  },
  {
   "cell_type": "markdown",
   "id": "5bfdc71a-1db5-4adb-86f9-edc7b98107f7",
   "metadata": {},
   "source": [
    "We can also read a file and concurrently create a list with the lines read, in order to make the contents available once we exit from the context scope."
   ]
  },
  {
   "cell_type": "code",
   "execution_count": 11,
   "id": "d3b13503-c79a-4255-844d-66edea1ad4d8",
   "metadata": {},
   "outputs": [
    {
     "name": "stdout",
     "output_type": "stream",
     "text": [
      "['Mario Rossi s100200\\n', 'Giulia Bianchi s100201\\n', 'Andrea Verdi s100202']\n"
     ]
    }
   ],
   "source": [
    "# Read the file, storing data in a list\n",
    "with open('students.txt') as file:\n",
    "    lines = file.readlines()\n",
    "print(lines) # We can explicitly see the newline character we talked about before"
   ]
  },
  {
   "cell_type": "markdown",
   "id": "64eca1d6-0e8a-4455-a548-b63b2231f2ec",
   "metadata": {},
   "source": [
    "## Writing data to text files\n",
    "To write text to a file, we need to call `open()` with a second argument (`w` for write), telling the interpreter what we want to do. We didn't have to specify it in the previous examples because, by defaults, files are opened in read mode. The `write()` function doesn't add newlines to the text we write, we have to include them explicitly."
   ]
  },
  {
   "cell_type": "code",
   "execution_count": 27,
   "id": "64c50860-1511-4eb4-b294-9b66dc0a3ce9",
   "metadata": {},
   "outputs": [],
   "source": [
    "with open('output_file.txt', 'w') as file:\n",
    "    file.write(\"This will be written to file\")\n",
    "    file.write(\"This will also be written to file\\n\")\n",
    "    file.write(\"This line will be second one.\")"
   ]
  },
  {
   "cell_type": "code",
   "execution_count": 29,
   "id": "18ea386a-e1a9-4604-b4c7-a0cb835ce435",
   "metadata": {},
   "outputs": [],
   "source": [
    "# %load output_file.txt\n",
    "This will be written to fileThis will also be written to file\n",
    "This line will be second one."
   ]
  },
  {
   "cell_type": "markdown",
   "id": "cc50950b-d291-44d6-9841-93b3c0b89463",
   "metadata": {},
   "source": [
    "## Reading data from CSV files\n",
    "A CSV file (Comma Separated Values) is a type of plain text file that structurally stores tabular data. \n",
    "Usually, CSV files use a comma to separate each specific data value."
   ]
  },
  {
   "cell_type": "code",
   "execution_count": 31,
   "id": "f9b8e342-2899-4f02-8842-30eeb5d6d33a",
   "metadata": {},
   "outputs": [],
   "source": [
    "# %load students.csv\n",
    "Name,Surname,Student ID\n",
    "Mario,Rossi,s100200\n",
    "Giulia,Bianchi,s100201\n",
    "Andrea,Verdi,s100202"
   ]
  },
  {
   "cell_type": "markdown",
   "id": "549d0af4-2251-4290-889d-68e1b69a0f37",
   "metadata": {},
   "source": [
    "We could read a csv file like any other text file, but the `csv` module come in handy for managing such a format. We can read data using a `reader` object."
   ]
  },
  {
   "cell_type": "code",
   "execution_count": 34,
   "id": "a86e6427-6ff1-4688-b5fb-6b18ce4dbf4e",
   "metadata": {},
   "outputs": [
    {
     "name": "stdout",
     "output_type": "stream",
     "text": [
      "Column names are Name, Surname, Student ID\n",
      "\tRossi Mario student ID is s100200.\n",
      "\tBianchi Giulia student ID is s100201.\n",
      "\tVerdi Andrea student ID is s100202.\n",
      "Processed 4 lines.\n"
     ]
    }
   ],
   "source": [
    "import csv\n",
    "with open('students.csv') as csv_file:\n",
    "    csv_reader = csv.reader(csv_file, delimiter=',')\n",
    "    line_count = 0\n",
    "    for row in csv_reader:\n",
    "        if line_count == 0:\n",
    "            print(f'Column names are {\", \".join(row)}')\n",
    "            line_count += 1\n",
    "        else:\n",
    "            print(f'\\t{row[1]} {row[0]} student ID is {row[2]}.')\n",
    "            line_count += 1\n",
    "    print(f'Processed {line_count} lines.')"
   ]
  },
  {
   "cell_type": "markdown",
   "id": "11cf55d3-0722-4bde-9ee2-fed45e9f6857",
   "metadata": {},
   "source": [
    "## Writing data to CSV files\n",
    "We can also write to a CSV file using a `writer` object and the `writerow()` method. Such an object tries to terminate each line with universal newlines, and such an option may have to be handled explicitly if the outcome does not match the expected results. "
   ]
  },
  {
   "cell_type": "code",
   "execution_count": 41,
   "id": "1896eba1-7ffa-4629-b1bd-9286aa8818dd",
   "metadata": {},
   "outputs": [],
   "source": [
    "import csv\n",
    "with open('students.csv', mode='a', newline='') as csv_file: # Let's append rather than write a new file\n",
    "    csv_writer = csv.writer(csv_file, delimiter=',') \n",
    "    csv_writer.writerow(['Neri', 'Simone', 's100203'])\n",
    "    csv_writer.writerow(['Grigi', 'Maria', 's100204'])"
   ]
  },
  {
   "cell_type": "code",
   "execution_count": 42,
   "id": "e93381de-0ccb-4d0d-a314-9486f34f51e5",
   "metadata": {},
   "outputs": [],
   "source": [
    "# %load students.csv\n",
    "Name,Surname,Student ID\n",
    "Mario,Rossi,s100200\n",
    "Giulia,Bianchi,s100201\n",
    "Andrea,Verdi,s100202\n",
    "Neri,Simone,s100203\n",
    "Grigi,Maria,s100204\n"
   ]
  },
  {
   "cell_type": "markdown",
   "id": "26dac657-8e88-49c3-9d38-f8ae434f0491",
   "metadata": {},
   "source": [
    "More I/O examples will be provided as needed during future lessons."
   ]
  }
 ],
 "metadata": {
  "kernelspec": {
   "display_name": "Python 3 (ipykernel)",
   "language": "python",
   "name": "python3"
  },
  "language_info": {
   "codemirror_mode": {
    "name": "ipython",
    "version": 3
   },
   "file_extension": ".py",
   "mimetype": "text/x-python",
   "name": "python",
   "nbconvert_exporter": "python",
   "pygments_lexer": "ipython3",
   "version": "3.9.7"
  }
 },
 "nbformat": 4,
 "nbformat_minor": 5
}
