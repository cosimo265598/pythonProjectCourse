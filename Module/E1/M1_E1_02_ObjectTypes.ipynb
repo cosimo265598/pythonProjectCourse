{
 "cells": [
  {
   "cell_type": "code",
   "execution_count": 4,
   "id": "86abbd9c-ebfe-4456-9e69-94034e58325a",
   "metadata": {
    "jupyter": {
     "source_hidden": true
    },
    "tags": []
   },
   "outputs": [
    {
     "data": {
      "text/html": [
       "\n",
       "<style>\n",
       ".advanced-cell {\n",
       "    background-color: #e84c2250;\n",
       "}\n",
       ".advanced-cell::after {\n",
       "    position: absolute;\n",
       "    display: block;\n",
       "    top: -2px;\n",
       "    right: -2px;\n",
       "    width: 5px;\n",
       "    height: calc(100% + 3px);\n",
       "    content: '';\n",
       "    background: #e84c22;\n",
       "}\n",
       ".advanced-label-row {\n",
       "    border-bottom: 1px solid #e84c22;\n",
       "    display: flex;\n",
       "    font-weight: bold;\n",
       "}\n",
       ".advanced-label {\n",
       "    margin-left: auto;\n",
       "    background-color: #e84c22;\n",
       "    padding: 5px 8px;\n",
       "    color: white;\n",
       "    margin-right: -2px;\n",
       "}\n",
       "</style>\n",
       "<script>\n",
       "\n",
       "// A function to hide/show highlight advanced topics in the notebook\n",
       "var highlighted = false;\n",
       "function highlight_advanced_topics() {\n",
       "    $(\".advanced-cell\").removeClass(\"advanced-cell\");\n",
       "    $(\".advanced-label-row\").remove();\n",
       "    if(highlighted) {\n",
       "        highlighted = false;\n",
       "        return;\n",
       "    }\n",
       "    var advanced = false;\n",
       "    $(\".jp-Cell.jp-MarkdownCell,.jp-Cell.jp-CodeCell\").each(function(){\n",
       "        if(!advanced) {\n",
       "            if($(this).find(\".advanced-start\").length > 0) {\n",
       "                $(this).before(\"<div class='advanced-label-row'><span class='advanced-label'>Advanced Topic</span></div>\");\n",
       "                $(this).addClass(\"advanced-cell\");\n",
       "                advanced = true;\n",
       "            }        \n",
       "        } else {\n",
       "            if($(this).find(\".advanced-stop\").length > 0) {\n",
       "                if($(this).find(\".advanced-start\").length > 0) {\n",
       "                    $(this).before(\"<div class='advanced-label-row' style='margin-top: 10px;'><span class='advanced-label'>Advanced Topic</span></div>\");\n",
       "                    $(this).addClass(\"advanced-cell\");\n",
       "                } else {\n",
       "                    advanced = false;\n",
       "                }\n",
       "            } else {\n",
       "                $(this).addClass(\"advanced-cell\");\n",
       "            }\n",
       "        }\n",
       "    });\n",
       "    highlighted = true\n",
       "}\n",
       "\n",
       "(function() {\n",
       "  // Load the script\n",
       "  const script = document.createElement(\"script\");\n",
       "  script.src = 'https://ajax.googleapis.com/ajax/libs/jquery/3.6.0/jquery.min.js';\n",
       "  script.type = 'text/javascript';\n",
       "  script.addEventListener('load', () => {\n",
       "    $(document).ready(highlight_advanced_topics);\n",
       "  });\n",
       "  document.head.appendChild(script);\n",
       "})();\n",
       "</script>\n",
       "<div class=\"m-5 p-5\"><span class=\"alert alert-block alert-danger\">Advanced topics in notebook are highlighted!</span></div>"
      ],
      "text/plain": [
       "<IPython.core.display.HTML object>"
      ]
     },
     "metadata": {},
     "output_type": "display_data"
    }
   ],
   "source": [
    "from IPython.display import HTML\n",
    "from IPython.display import display\n",
    "\n",
    "tag = HTML('''\n",
    "<style>\n",
    ".advanced-cell {\n",
    "    background-color: #e84c2250;\n",
    "}\n",
    ".advanced-cell::after {\n",
    "    position: absolute;\n",
    "    display: block;\n",
    "    top: -2px;\n",
    "    right: -2px;\n",
    "    width: 5px;\n",
    "    height: calc(100% + 3px);\n",
    "    content: '';\n",
    "    background: #e84c22;\n",
    "}\n",
    ".advanced-label-row {\n",
    "    border-bottom: 1px solid #e84c22;\n",
    "    display: flex;\n",
    "    font-weight: bold;\n",
    "}\n",
    ".advanced-label {\n",
    "    margin-left: auto;\n",
    "    background-color: #e84c22;\n",
    "    padding: 5px 8px;\n",
    "    color: white;\n",
    "    margin-right: -2px;\n",
    "}\n",
    "</style>\n",
    "<script>\n",
    "\n",
    "// A function to hide/show highlight advanced topics in the notebook\n",
    "var highlighted = false;\n",
    "function highlight_advanced_topics() {\n",
    "    $(\".advanced-cell\").removeClass(\"advanced-cell\");\n",
    "    $(\".advanced-label-row\").remove();\n",
    "    if(highlighted) {\n",
    "        highlighted = false;\n",
    "        return;\n",
    "    }\n",
    "    var advanced = false;\n",
    "    $(\".jp-Cell.jp-MarkdownCell,.jp-Cell.jp-CodeCell\").each(function(){\n",
    "        if(!advanced) {\n",
    "            if($(this).find(\".advanced-start\").length > 0) {\n",
    "                $(this).before(\"<div class='advanced-label-row'><span class='advanced-label'>Advanced Topic</span></div>\");\n",
    "                $(this).addClass(\"advanced-cell\");\n",
    "                advanced = true;\n",
    "            }        \n",
    "        } else {\n",
    "            if($(this).find(\".advanced-stop\").length > 0) {\n",
    "                if($(this).find(\".advanced-start\").length > 0) {\n",
    "                    $(this).before(\"<div class='advanced-label-row' style='margin-top: 10px;'><span class='advanced-label'>Advanced Topic</span></div>\");\n",
    "                    $(this).addClass(\"advanced-cell\");\n",
    "                } else {\n",
    "                    advanced = false;\n",
    "                }\n",
    "            } else {\n",
    "                $(this).addClass(\"advanced-cell\");\n",
    "            }\n",
    "        }\n",
    "    });\n",
    "    highlighted = true\n",
    "}\n",
    "\n",
    "(function() {\n",
    "  // Load the script\n",
    "  const script = document.createElement(\"script\");\n",
    "  script.src = 'https://ajax.googleapis.com/ajax/libs/jquery/3.6.0/jquery.min.js';\n",
    "  script.type = 'text/javascript';\n",
    "  script.addEventListener('load', () => {\n",
    "    $(document).ready(highlight_advanced_topics);\n",
    "  });\n",
    "  document.head.appendChild(script);\n",
    "})();\n",
    "</script>\n",
    "<div class=\"m-5 p-5\"><span class=\"alert alert-block alert-danger\">Advanced topics in notebook are highlighted!</span></div>''')\n",
    "display(tag)"
   ]
  },
  {
   "cell_type": "markdown",
   "id": "9200fa28",
   "metadata": {},
   "source": [
    "# Object Types in Python\n",
    "\n",
    "As all programming languages, Python has a *type system*. We have seen that the **type** (or class) of an object is a property that tells us which kind of data the object can hold and what operations we can perform on it. For instance the type `int` is used to represent integers. Objects of that type can hold any integer value, such as `42`, and support all the conventional arithmetic operations on integers, such as addition, subtraction, multiplication, etc.\n",
    "\n",
    "Python provides some powerful *built-in object types* as an intrinsic part of the language. The main built-in types are used to represent numbers, sequences, mappings, classes, instances and exceptions. Python programmers can define new types, using *classes* and other language constructs. We'll see how to define new object types later in this course (Module 3).\n",
    "\n",
    "Right now we are mainly interested in the following question: how is this type information used in Python? The short answer is that Python is both a strongly and dynamically typed language. Let's see what this means."
   ]
  },
  {
   "cell_type": "markdown",
   "id": "a8d156b8",
   "metadata": {},
   "source": [
    "## Strong Typing\n",
    "*Strong typing* means that each object has a type and that, when performing an operation, the types of the operands must be compatible, otherwise Python will raise a `TypeError`. We have already seen that every object in Python has a type. Let's check what happens when we try to perform an operation between objects with incompatible data types. For instance we cannot add an integer and a string together:"
   ]
  },
  {
   "cell_type": "code",
   "execution_count": 23,
   "id": "79d948f4",
   "metadata": {
    "scrolled": true
   },
   "outputs": [
    {
     "ename": "TypeError",
     "evalue": "unsupported operand type(s) for +: 'int' and 'str'",
     "output_type": "error",
     "traceback": [
      "\u001b[0;31m---------------------------------------------------------------------------\u001b[0m",
      "\u001b[0;31mTypeError\u001b[0m                                 Traceback (most recent call last)",
      "\u001b[0;32m/tmp/ipykernel_1720/352876328.py\u001b[0m in \u001b[0;36m<module>\u001b[0;34m\u001b[0m\n\u001b[0;32m----> 1\u001b[0;31m \u001b[0msize\u001b[0m \u001b[0;34m=\u001b[0m \u001b[0;36m10\u001b[0m \u001b[0;34m+\u001b[0m \u001b[0;34m\"MB\"\u001b[0m\u001b[0;34m\u001b[0m\u001b[0;34m\u001b[0m\u001b[0m\n\u001b[0m\u001b[1;32m      2\u001b[0m \u001b[0mprint\u001b[0m\u001b[0;34m(\u001b[0m\u001b[0msize\u001b[0m\u001b[0;34m)\u001b[0m\u001b[0;34m\u001b[0m\u001b[0;34m\u001b[0m\u001b[0m\n",
      "\u001b[0;31mTypeError\u001b[0m: unsupported operand type(s) for +: 'int' and 'str'"
     ]
    }
   ],
   "source": [
    "size = 10 + \"MB\"\n",
    "print(size)"
   ]
  },
  {
   "cell_type": "markdown",
   "id": "07e43adb",
   "metadata": {},
   "source": [
    "Unless we explicitly perform a type conversion:"
   ]
  },
  {
   "cell_type": "code",
   "execution_count": 24,
   "id": "b8e78276",
   "metadata": {},
   "outputs": [
    {
     "name": "stdout",
     "output_type": "stream",
     "text": [
      "10MB\n"
     ]
    }
   ],
   "source": [
    "size = str(10) + \"MB\"\n",
    "print(size)"
   ]
  },
  {
   "cell_type": "markdown",
   "id": "a58155aa",
   "metadata": {},
   "source": [
    "Why is strong typing useful? Mainly because it provides constraints which help us to catch errors."
   ]
  },
  {
   "cell_type": "markdown",
   "id": "2d752b64",
   "metadata": {},
   "source": [
    "## Dynamic Typing\n",
    "*Dynamic typing* means that the type of an object is only checked at runtime and that a variable is allowed to be bound to objects of different types over its lifetime. \n",
    "\n",
    "The following function would raise a `TypeError` when the addition operation is performed between an integer and a string. However, the interpreter does not complain as long as we provide operands of compatible types every time we perform the addition operation. Statically typed languages would have warned us about this error at compile time instead."
   ]
  },
  {
   "cell_type": "code",
   "execution_count": 3,
   "id": "faebf412",
   "metadata": {
    "scrolled": true
   },
   "outputs": [
    {
     "name": "stdout",
     "output_type": "stream",
     "text": [
      "10\n",
      "10\n",
      "81\n"
     ]
    },
    {
     "ename": "TypeError",
     "evalue": "unsupported operand type(s) for +: 'int' and 'str'",
     "output_type": "error",
     "traceback": [
      "\u001b[1;31m---------------------------------------------------------------------------\u001b[0m",
      "\u001b[1;31mTypeError\u001b[0m                                 Traceback (most recent call last)",
      "\u001b[1;32m~\\AppData\\Local\\Temp/ipykernel_17116/2522323991.py\u001b[0m in \u001b[0;36m<module>\u001b[1;34m\u001b[0m\n\u001b[0;32m      7\u001b[0m \u001b[0mprint\u001b[0m\u001b[1;33m(\u001b[0m\u001b[0mincrement\u001b[0m\u001b[1;33m(\u001b[0m\u001b[1;36m10\u001b[0m\u001b[1;33m,\u001b[0m \u001b[1;36m10\u001b[0m\u001b[1;33m)\u001b[0m\u001b[1;33m)\u001b[0m    \u001b[1;31m# int + str (but addition is skipped)\u001b[0m\u001b[1;33m\u001b[0m\u001b[1;33m\u001b[0m\u001b[0m\n\u001b[0;32m      8\u001b[0m \u001b[0mprint\u001b[0m\u001b[1;33m(\u001b[0m\u001b[0mincrement\u001b[0m\u001b[1;33m(\u001b[0m\u001b[1;34m\"8\"\u001b[0m\u001b[1;33m,\u001b[0m \u001b[1;34m\"9\"\u001b[0m\u001b[1;33m)\u001b[0m\u001b[1;33m)\u001b[0m  \u001b[1;31m# str + str\u001b[0m\u001b[1;33m\u001b[0m\u001b[1;33m\u001b[0m\u001b[0m\n\u001b[1;32m----> 9\u001b[1;33m \u001b[0mprint\u001b[0m\u001b[1;33m(\u001b[0m\u001b[0mincrement\u001b[0m\u001b[1;33m(\u001b[0m\u001b[1;36m9\u001b[0m\u001b[1;33m,\u001b[0m \u001b[1;36m10\u001b[0m\u001b[1;33m)\u001b[0m\u001b[1;33m)\u001b[0m     \u001b[1;31m# int + str\u001b[0m\u001b[1;33m\u001b[0m\u001b[1;33m\u001b[0m\u001b[0m\n\u001b[0m",
      "\u001b[1;32m~\\AppData\\Local\\Temp/ipykernel_17116/2522323991.py\u001b[0m in \u001b[0;36mincrement\u001b[1;34m(value, cap, step)\u001b[0m\n\u001b[0;32m      1\u001b[0m \u001b[1;32mdef\u001b[0m \u001b[0mincrement\u001b[0m\u001b[1;33m(\u001b[0m\u001b[0mvalue\u001b[0m\u001b[1;33m,\u001b[0m \u001b[0mcap\u001b[0m\u001b[1;33m,\u001b[0m \u001b[0mstep\u001b[0m\u001b[1;33m=\u001b[0m\u001b[1;34m\"1\"\u001b[0m\u001b[1;33m)\u001b[0m\u001b[1;33m:\u001b[0m\u001b[1;33m\u001b[0m\u001b[1;33m\u001b[0m\u001b[0m\n\u001b[0;32m      2\u001b[0m     \u001b[1;32mif\u001b[0m \u001b[0mvalue\u001b[0m \u001b[1;33m<\u001b[0m \u001b[0mcap\u001b[0m\u001b[1;33m:\u001b[0m\u001b[1;33m\u001b[0m\u001b[1;33m\u001b[0m\u001b[0m\n\u001b[1;32m----> 3\u001b[1;33m         \u001b[1;32mreturn\u001b[0m \u001b[0mvalue\u001b[0m \u001b[1;33m+\u001b[0m \u001b[0mstep\u001b[0m\u001b[1;33m\u001b[0m\u001b[1;33m\u001b[0m\u001b[0m\n\u001b[0m\u001b[0;32m      4\u001b[0m     \u001b[1;32mreturn\u001b[0m \u001b[0mvalue\u001b[0m\u001b[1;33m\u001b[0m\u001b[1;33m\u001b[0m\u001b[0m\n\u001b[0;32m      5\u001b[0m \u001b[1;33m\u001b[0m\u001b[0m\n",
      "\u001b[1;31mTypeError\u001b[0m: unsupported operand type(s) for +: 'int' and 'str'"
     ]
    }
   ],
   "source": [
    "def increment(value, cap, step=\"1\"):\n",
    "    if value < cap:\n",
    "        return value + step\n",
    "    return value\n",
    "\n",
    "print(increment(9, 10, 1))  # int + int -> addition\n",
    "print(increment(10, 10))    # int + str (but addition is skipped)\n",
    "print(increment(\"8\", \"9\"))  # str + str\n",
    "print(increment(9, 10))     # int + str"
   ]
  },
  {
   "cell_type": "markdown",
   "id": "f7c826a5",
   "metadata": {},
   "source": [
    "Dynamic typing lets us reassign variables to objects of different types. This is possible because variables in Python are just references to objects."
   ]
  },
  {
   "cell_type": "code",
   "execution_count": 22,
   "id": "0f78275a",
   "metadata": {},
   "outputs": [
    {
     "name": "stdout",
     "output_type": "stream",
     "text": [
      "<class 'int'>\n",
      "<class 'str'>\n",
      "<class 'NoneType'>\n"
     ]
    }
   ],
   "source": [
    "age = 42\n",
    "print(type(age))\n",
    "age = \"42\"\n",
    "print(type(age))\n",
    "age = None\n",
    "print(type(age))"
   ]
  },
  {
   "cell_type": "markdown",
   "id": "cd33b148",
   "metadata": {},
   "source": [
    "A typical use case of dynamic typing is to write functions that accept objects of different types of input for a given argument (*polymorphic functions*). For instance, the following function sends a message to either a single or multiple recipients using a single argument that accepts a string or list value:"
   ]
  },
  {
   "cell_type": "code",
   "execution_count": 40,
   "id": "a1f45715",
   "metadata": {},
   "outputs": [
    {
     "name": "stdout",
     "output_type": "stream",
     "text": [
      "Message 'Execute Order 66!' sent from darth-sidious to CT-5385\n",
      "Message 'Execute Order 66!' sent from darth-sidious to CC-2224\n",
      "Message 'Execute Order 66!' sent from darth-sidious to CT-55/11-9009\n",
      "Message 'Execute Order 66!' sent from darth-sidious to CC-5052\n"
     ]
    }
   ],
   "source": [
    "def send_message(msg, sender, recipients):\n",
    "    if isinstance(recipients, str):\n",
    "        recipients = [recipients]\n",
    "    elif not isinstance(recipients, list):\n",
    "        raise TypeError(f'Incompatible recipients argument type: {type(recipients)}, use string or list')\n",
    "    for recipient in recipients:\n",
    "        # Validate recipient\n",
    "        # Send message\n",
    "        print(f\"Message '{msg}' sent from {sender} to {recipient}\")\n",
    "        \n",
    "send_message(\"Execute Order 66!\", \"darth-sidious\", \"CT-5385\")\n",
    "send_message(\"Execute Order 66!\", \"darth-sidious\", [\"CC-2224\", \"CT-55/11-9009\", \"CC-5052\"])"
   ]
  },
  {
   "cell_type": "markdown",
   "id": "1cd7bb4d",
   "metadata": {},
   "source": [
    "Why is dynamic typing useful? Dynamic typing makes the language more flexible, allowing us to easily write code that can work with different types of data (see [polymorphism](https://en.wikipedia.org/wiki/Polymorphism_(computer_science)) or [generic programming](https://en.wikipedia.org/wiki/Generic_programming)). In addition, dynamic typing makes our programs more readable, concise and easier to write by eliminating a lot of boilerplate code such as variable declarations, type casting, etc.\n",
    "\n",
    "In contrast, dynamic typing also has its drawbacks. For instance, it is unable to catch many errors that would be otherwise evident at compile time and that will manifest themselves as runtime failures instead. In addition, since type checking is performed at runtime, dynamic typing languages like Python pay a price in terms of performance."
   ]
  },
  {
   "cell_type": "markdown",
   "id": "e5f35f5b",
   "metadata": {},
   "source": [
    "## Checking the type of an object\n",
    "\n",
    "Since Python is dynamically typed, we cannot be sure which type of object a function will receive as argument or a variable will be bound to unless we check it explicitly. To check the type of an object we can use the `type()` or `isinstance()` built-in functions. What's the difference between them? And when should we use one or the other?\n",
    "\n",
    "The `type()` built-in function returns a *class* object that represents the type of the object we are interested in. We can then compare the class object with the desired type, but should we use `==` or `is`? "
   ]
  },
  {
   "cell_type": "code",
   "execution_count": 57,
   "id": "4a718157",
   "metadata": {},
   "outputs": [
    {
     "name": "stdout",
     "output_type": "stream",
     "text": [
      "<class 'str'>\n",
      "True\n",
      "True\n"
     ]
    }
   ],
   "source": [
    "endpoint = \"192.168.0.1\"\n",
    "print(type(endpoint))\n",
    "print(type(endpoint) is str)\n",
    "print(type(endpoint) == str)"
   ]
  },
  {
   "cell_type": "markdown",
   "id": "ab495907",
   "metadata": {},
   "source": [
    "Both work, but since the class object is unique it is more appropriate to check for identity (using `is`) instead of value. In addition, checking with `is` is also slightly faster."
   ]
  },
  {
   "cell_type": "code",
   "execution_count": 56,
   "id": "5d864548",
   "metadata": {},
   "outputs": [
    {
     "name": "stdout",
     "output_type": "stream",
     "text": [
      "89.4 ns ± 1.82 ns per loop (mean ± std. dev. of 7 runs, 10000000 loops each)\n",
      "95.1 ns ± 1.22 ns per loop (mean ± std. dev. of 7 runs, 10000000 loops each)\n"
     ]
    }
   ],
   "source": [
    "%timeit type(endpoint) is str\n",
    "%timeit type(endpoint) == str"
   ]
  },
  {
   "cell_type": "markdown",
   "id": "70d12fd6",
   "metadata": {},
   "source": [
    "Using the `type()` function we can only check if an object has a specific type. As we will see in Module 3, object types in Python are organized in a hierarchy of classes and subclasses, with `object()` as a root and all subclasses inheriting the behaviour of their parents. \n",
    "\n",
    "Many times when checking the type of an object we are not interested in a specific type but rather in any type that derives from a given type. The built-in function `isinstance()` let us perform this kind of checks. Consider the types `list` and `str`, both are subclasses of the `Sequence` type in module `collections.abc`."
   ]
  },
  {
   "cell_type": "code",
   "execution_count": 59,
   "id": "aecdf766",
   "metadata": {},
   "outputs": [
    {
     "name": "stdout",
     "output_type": "stream",
     "text": [
      "<class 'collections.abc.Sequence'>\n",
      "<class 'str'> <class 'list'>\n",
      "True\n",
      "True\n",
      "False\n",
      "False\n"
     ]
    }
   ],
   "source": [
    "from collections.abc import Sequence\n",
    "endpoint1 = \"192.168.0.1\"\n",
    "endpoint2 = [192, 168, 0, 1]\n",
    "print(Sequence)\n",
    "print(type(endpoint1), type(endpoint2))\n",
    "print(isinstance(endpoint1, Sequence))\n",
    "print(isinstance(endpoint1, Sequence))\n",
    "print(type(endpoint1) is Sequence)\n",
    "print(type(endpoint2) is Sequence)"
   ]
  },
  {
   "cell_type": "markdown",
   "id": "fd124610",
   "metadata": {},
   "source": [
    "When cheking types, usually we want to check whether or not an object behaves like a given type, not necessarily if the object is exactly of that type. Therefore, `isinstance` is usually the preferred way to compare types as it takes into account inheritance. Using `type` instead of `isinstance` may lead to subtle bugs. However, there may be the cases where we want to explicitly check if an object has a specific type. In that case it is better to use `type` and compare the result to a class using `is`."
   ]
  },
  {
   "cell_type": "markdown",
   "id": "18807a4c",
   "metadata": {
    "tags": []
   },
   "source": [
    "<span class=\"advanced-start\"></span>\n",
    "## Duck typing\n",
    "An alternative way to explicitly check the type of an object is to use **duck typing**. The term is inspired by the phrase:\n",
    " > If it walks like a *duck* and it quacks like a *duck*, then it must be a *duck*.\n",
    " \n",
    "Duck typing is a concept closely related to dynamic typing and is a uqbiquitous pattern in Python. The idea is that the type of an object is less important than the interface of that object. By interface we mean the methods and attributes that the object exposes. For instance, consider the `send_message` function we defined earlier: we have designed it to work only with string or list instances but there is no reason why it should't work with any other iterable type."
   ]
  },
  {
   "cell_type": "code",
   "execution_count": 41,
   "id": "a9347ee7",
   "metadata": {
    "tags": []
   },
   "outputs": [
    {
     "ename": "TypeError",
     "evalue": "Incompatible recipients argument type: <class 'dict'>, use string or list",
     "output_type": "error",
     "traceback": [
      "\u001b[0;31m---------------------------------------------------------------------------\u001b[0m",
      "\u001b[0;31mTypeError\u001b[0m                                 Traceback (most recent call last)",
      "\u001b[0;32m/tmp/ipykernel_1720/3836442687.py\u001b[0m in \u001b[0;36m<module>\u001b[0;34m\u001b[0m\n\u001b[1;32m      4\u001b[0m     \u001b[0;34m\"CC-5052\"\u001b[0m \u001b[0;34m:\u001b[0m \u001b[0;34m\"Bly\"\u001b[0m\u001b[0;34m\u001b[0m\u001b[0;34m\u001b[0m\u001b[0m\n\u001b[1;32m      5\u001b[0m }\n\u001b[0;32m----> 6\u001b[0;31m \u001b[0msend_message\u001b[0m\u001b[0;34m(\u001b[0m\u001b[0;34m\"Execute Order 66!\"\u001b[0m\u001b[0;34m,\u001b[0m \u001b[0;34m\"darth-sidious\"\u001b[0m\u001b[0;34m,\u001b[0m \u001b[0mtroopers\u001b[0m\u001b[0;34m)\u001b[0m\u001b[0;34m\u001b[0m\u001b[0;34m\u001b[0m\u001b[0m\n\u001b[0m",
      "\u001b[0;32m/tmp/ipykernel_1720/2889490951.py\u001b[0m in \u001b[0;36msend_message\u001b[0;34m(msg, sender, recipients)\u001b[0m\n\u001b[1;32m      3\u001b[0m         \u001b[0mrecipients\u001b[0m \u001b[0;34m=\u001b[0m \u001b[0;34m[\u001b[0m\u001b[0mrecipients\u001b[0m\u001b[0;34m]\u001b[0m\u001b[0;34m\u001b[0m\u001b[0;34m\u001b[0m\u001b[0m\n\u001b[1;32m      4\u001b[0m     \u001b[0;32melif\u001b[0m \u001b[0;32mnot\u001b[0m \u001b[0misinstance\u001b[0m\u001b[0;34m(\u001b[0m\u001b[0mrecipients\u001b[0m\u001b[0;34m,\u001b[0m \u001b[0mlist\u001b[0m\u001b[0;34m)\u001b[0m\u001b[0;34m:\u001b[0m\u001b[0;34m\u001b[0m\u001b[0;34m\u001b[0m\u001b[0m\n\u001b[0;32m----> 5\u001b[0;31m         \u001b[0;32mraise\u001b[0m \u001b[0mTypeError\u001b[0m\u001b[0;34m(\u001b[0m\u001b[0;34mf'Incompatible recipients argument type: {type(recipients)}, use string or list'\u001b[0m\u001b[0;34m)\u001b[0m\u001b[0;34m\u001b[0m\u001b[0;34m\u001b[0m\u001b[0m\n\u001b[0m\u001b[1;32m      6\u001b[0m     \u001b[0;32mfor\u001b[0m \u001b[0mrecipient\u001b[0m \u001b[0;32min\u001b[0m \u001b[0mrecipients\u001b[0m\u001b[0;34m:\u001b[0m\u001b[0;34m\u001b[0m\u001b[0;34m\u001b[0m\u001b[0m\n\u001b[1;32m      7\u001b[0m         \u001b[0;31m# Send message\u001b[0m\u001b[0;34m\u001b[0m\u001b[0;34m\u001b[0m\u001b[0m\n",
      "\u001b[0;31mTypeError\u001b[0m: Incompatible recipients argument type: <class 'dict'>, use string or list"
     ]
    }
   ],
   "source": [
    "troopers = {\n",
    "    \"CC-2224\" : \"Cody\",\n",
    "    \"CT-55/11-9009\" : \"Jag\",\n",
    "    \"CC-5052\" : \"Bly\"\n",
    "}\n",
    "send_message(\"Execute Order 66!\", \"darth-sidious\", troopers)"
   ]
  },
  {
   "cell_type": "markdown",
   "id": "857c4d02",
   "metadata": {},
   "source": [
    "The idea of duck typing is that we don't care about which type we use to pass the recipients, provided that we can iterate over it with the for loop."
   ]
  },
  {
   "cell_type": "code",
   "execution_count": 44,
   "id": "f4e9c621",
   "metadata": {},
   "outputs": [
    {
     "name": "stdout",
     "output_type": "stream",
     "text": [
      "Message 'Execute Order 66!' sent from darth-sidious to CC-2224\n",
      "Message 'Execute Order 66!' sent from darth-sidious to CT-55/11-9009\n",
      "Message 'Execute Order 66!' sent from darth-sidious to CC-5052\n"
     ]
    },
    {
     "ename": "TypeError",
     "evalue": "Incompatible recipients argument type: <class 'NoneType'>, must be iterable",
     "output_type": "error",
     "traceback": [
      "\u001b[0;31m---------------------------------------------------------------------------\u001b[0m",
      "\u001b[0;31mTypeError\u001b[0m                                 Traceback (most recent call last)",
      "\u001b[0;32m/tmp/ipykernel_1720/2811217340.py\u001b[0m in \u001b[0;36msend_message_dt\u001b[0;34m(msg, sender, recipients)\u001b[0m\n\u001b[1;32m      4\u001b[0m     \u001b[0;32mtry\u001b[0m\u001b[0;34m:\u001b[0m\u001b[0;34m\u001b[0m\u001b[0;34m\u001b[0m\u001b[0m\n\u001b[0;32m----> 5\u001b[0;31m         \u001b[0;32mfor\u001b[0m \u001b[0mrecipient\u001b[0m \u001b[0;32min\u001b[0m \u001b[0mrecipients\u001b[0m\u001b[0;34m:\u001b[0m\u001b[0;34m\u001b[0m\u001b[0;34m\u001b[0m\u001b[0m\n\u001b[0m\u001b[1;32m      6\u001b[0m             \u001b[0;31m# Validate recipient\u001b[0m\u001b[0;34m\u001b[0m\u001b[0;34m\u001b[0m\u001b[0m\n",
      "\u001b[0;31mTypeError\u001b[0m: 'NoneType' object is not iterable",
      "\nDuring handling of the above exception, another exception occurred:\n",
      "\u001b[0;31mTypeError\u001b[0m                                 Traceback (most recent call last)",
      "\u001b[0;32m/tmp/ipykernel_1720/2811217340.py\u001b[0m in \u001b[0;36m<module>\u001b[0;34m\u001b[0m\n\u001b[1;32m     11\u001b[0m \u001b[0;34m\u001b[0m\u001b[0m\n\u001b[1;32m     12\u001b[0m \u001b[0msend_message_dt\u001b[0m\u001b[0;34m(\u001b[0m\u001b[0;34m\"Execute Order 66!\"\u001b[0m\u001b[0;34m,\u001b[0m \u001b[0;34m\"darth-sidious\"\u001b[0m\u001b[0;34m,\u001b[0m \u001b[0mtroopers\u001b[0m\u001b[0;34m)\u001b[0m\u001b[0;34m\u001b[0m\u001b[0;34m\u001b[0m\u001b[0m\n\u001b[0;32m---> 13\u001b[0;31m \u001b[0msend_message_dt\u001b[0m\u001b[0;34m(\u001b[0m\u001b[0;34m\"Execute Order 66!\"\u001b[0m\u001b[0;34m,\u001b[0m \u001b[0;34m\"darth-sidious\"\u001b[0m\u001b[0;34m,\u001b[0m \u001b[0;32mNone\u001b[0m\u001b[0;34m)\u001b[0m\u001b[0;34m\u001b[0m\u001b[0;34m\u001b[0m\u001b[0m\n\u001b[0m",
      "\u001b[0;32m/tmp/ipykernel_1720/2811217340.py\u001b[0m in \u001b[0;36msend_message_dt\u001b[0;34m(msg, sender, recipients)\u001b[0m\n\u001b[1;32m      8\u001b[0m             \u001b[0mprint\u001b[0m\u001b[0;34m(\u001b[0m\u001b[0;34mf\"Message '{msg}' sent from {sender} to {recipient}\"\u001b[0m\u001b[0;34m)\u001b[0m\u001b[0;34m\u001b[0m\u001b[0;34m\u001b[0m\u001b[0m\n\u001b[1;32m      9\u001b[0m     \u001b[0;32mexcept\u001b[0m \u001b[0mTypeError\u001b[0m\u001b[0;34m:\u001b[0m\u001b[0;34m\u001b[0m\u001b[0;34m\u001b[0m\u001b[0m\n\u001b[0;32m---> 10\u001b[0;31m         \u001b[0;32mraise\u001b[0m \u001b[0mTypeError\u001b[0m\u001b[0;34m(\u001b[0m\u001b[0;34mf'Incompatible recipients argument type: {type(recipients)}, must be iterable'\u001b[0m\u001b[0;34m)\u001b[0m\u001b[0;34m\u001b[0m\u001b[0;34m\u001b[0m\u001b[0m\n\u001b[0m\u001b[1;32m     11\u001b[0m \u001b[0;34m\u001b[0m\u001b[0m\n\u001b[1;32m     12\u001b[0m \u001b[0msend_message_dt\u001b[0m\u001b[0;34m(\u001b[0m\u001b[0;34m\"Execute Order 66!\"\u001b[0m\u001b[0;34m,\u001b[0m \u001b[0;34m\"darth-sidious\"\u001b[0m\u001b[0;34m,\u001b[0m \u001b[0mtroopers\u001b[0m\u001b[0;34m)\u001b[0m\u001b[0;34m\u001b[0m\u001b[0;34m\u001b[0m\u001b[0m\n",
      "\u001b[0;31mTypeError\u001b[0m: Incompatible recipients argument type: <class 'NoneType'>, must be iterable"
     ]
    }
   ],
   "source": [
    "def send_message_dt(msg, sender, recipients):\n",
    "    if isinstance(recipients, str):\n",
    "        recipients = [recipients]\n",
    "    try:\n",
    "        for recipient in recipients:\n",
    "            # Validate recipient\n",
    "            # Send message\n",
    "            print(f\"Message '{msg}' sent from {sender} to {recipient}\")\n",
    "    except TypeError:\n",
    "        raise TypeError(f'Incompatible recipients argument type: {type(recipients)}, must be iterable')\n",
    "        \n",
    "send_message_dt(\"Execute Order 66!\", \"darth-sidious\", troopers)\n",
    "send_message_dt(\"Execute Order 66!\", \"darth-sidious\", None)"
   ]
  },
  {
   "cell_type": "markdown",
   "id": "80c80b77",
   "metadata": {},
   "source": [
    "### Ask for forgiveness vs. Ask for permission\n",
    "When using duck typing there are two opposite approaches: \"ask for forgiveness\" or \"ask for permission\". If you \"ask for forgiveness\", you assume the behavior of an object and then fail gracefully when the assumption ends up being wrong. If you \"ask for permission\", you first check whether an object behaves as it should and only in that case you perform your actions. \n",
    "\n",
    "In the Python community, the first approach is usually preferred, as expressed by the acronym **EAFP** (*Easier to Ask for Forgiveness that Permission*). The EAFP approach makes life easier for the programmer that doesn't have to think about all the things that can possibly go wrong in its code, and results in a simpler, more readable code (as we avoid to write many if statements).\n",
    "\n",
    "What about performance? Let's compare the speed of the two approaches."
   ]
  },
  {
   "cell_type": "code",
   "execution_count": 54,
   "id": "2f61edd3",
   "metadata": {},
   "outputs": [
    {
     "name": "stdout",
     "output_type": "stream",
     "text": [
      "301 ns ± 3.39 ns per loop (mean ± std. dev. of 7 runs, 1000000 loops each)\n",
      "377 ns ± 9.81 ns per loop (mean ± std. dev. of 7 runs, 1000000 loops each)\n",
      "767 ns ± 2.18 ns per loop (mean ± std. dev. of 7 runs, 1000000 loops each)\n",
      "130 ns ± 0.479 ns per loop (mean ± std. dev. of 7 runs, 10000000 loops each)\n"
     ]
    }
   ],
   "source": [
    "def forgiveness(squarable):\n",
    "    try:\n",
    "        return squarable**2\n",
    "    except TypeError:\n",
    "        pass\n",
    "    \n",
    "def permission(squarable):\n",
    "    if hasattr(squarable, \"__pow__\"):\n",
    "        return squarable**2\n",
    "\n",
    "%timeit forgiveness(2)\n",
    "%timeit permission(2)\n",
    "%timeit forgiveness(\"2\")\n",
    "%timeit permission(\"2\")"
   ]
  },
  {
   "cell_type": "markdown",
   "id": "7e1125b1",
   "metadata": {},
   "source": [
    "When our assumption is correct, \"ask for forgiveness\" is faster. That is because we don't waste time to execute checks. The speedup is much more prominent when asking for permission requires many checks. When our assumption is incorrect, \"ask for permission\" is dramatically faster. That is because handling exceptions is expensive. The bottom line is that we should ask ourselves if it is more likely for our code to raise an exception or not. If it is, it would be better to ask for permission (at least to cover those cases that makes our assumptions more frequently incorrect). If it's not, better to ask for forgiveness!"
   ]
  },
  {
   "cell_type": "markdown",
   "id": "cf3206df",
   "metadata": {},
   "source": [
    "<span class=\"advanced-stop\"></span>\n",
    "## Type Hints\n",
    "\n",
    "Even if Python is a dynamically typed language, starting from version 3.5 it is possible to add **type hints** (also called *type annotations*) to declare the expected type of variables, function arguments, return values and attributes."
   ]
  },
  {
   "cell_type": "code",
   "execution_count": 77,
   "id": "59ddb01e",
   "metadata": {},
   "outputs": [],
   "source": [
    "from typing import Union\n",
    "def send_message_dt(msg : str, sender : str, recipients : Union[str, list]) -> None:\n",
    "    if isinstance(recipients, str):\n",
    "        recipients = [recipients]\n",
    "    try:\n",
    "        for recipient in recipients:\n",
    "            # Validate recipient\n",
    "            # Send message\n",
    "            print(f\"Message '{msg}' sent from {sender} to {recipient}\")\n",
    "    except TypeError:\n",
    "        raise TypeError(f'Incompatible recipients argument type: {type(recipients)}, must be iterable')"
   ]
  },
  {
   "cell_type": "markdown",
   "id": "ae0fb8c6",
   "metadata": {},
   "source": [
    "The important thing to keep in mind about type hints is that they are not enforced at all by the Python interpreter and have no impact on the runtime behavior of our programs."
   ]
  },
  {
   "cell_type": "code",
   "execution_count": 5,
   "id": "3cc58dc9",
   "metadata": {},
   "outputs": [
    {
     "name": "stdout",
     "output_type": "stream",
     "text": [
      "Writing foolish.py\n"
     ]
    }
   ],
   "source": [
    "%%writefile foolish.py\n",
    "foolish_var : str = \"I am a string an nothing but a string!\"\n",
    "print(foolish_var)\n",
    "print(type(foolish_var))\n",
    "foolish_var = 42\n",
    "print(foolish_var)\n",
    "print(type(foolish_var))"
   ]
  },
  {
   "cell_type": "code",
   "execution_count": 6,
   "id": "d49cdcd6",
   "metadata": {},
   "outputs": [
    {
     "name": "stdout",
     "output_type": "stream",
     "text": [
      "I am a string an nothing but a string!\n",
      "<class 'str'>\n",
      "42\n",
      "<class 'int'>\n"
     ]
    }
   ],
   "source": [
    "%run ./foolish.py"
   ]
  },
  {
   "cell_type": "markdown",
   "id": "d4285dc8",
   "metadata": {},
   "source": [
    "What is the purpose of type hints then? Type hints have primarily two reasons: the first one is to document our code, the second one is to support external type-checking tools such as Mypy (a static type checker for Python)."
   ]
  },
  {
   "cell_type": "code",
   "execution_count": 7,
   "id": "18b6ab3a",
   "metadata": {
    "tags": []
   },
   "outputs": [],
   "source": [
    "!pip install -q mypy"
   ]
  },
  {
   "cell_type": "code",
   "execution_count": 84,
   "id": "492bf36e",
   "metadata": {},
   "outputs": [
    {
     "data": {
      "text/plain": [
       "('foolish.py:4: error: Incompatible types in assignment (expression has type \"int\", variable has type \"str\")\\nFound 1 error in 1 file (checked 1 source file)\\n',\n",
       " '',\n",
       " 1)"
      ]
     },
     "execution_count": 84,
     "metadata": {},
     "output_type": "execute_result"
    }
   ],
   "source": [
    "from mypy import api\n",
    "api.run([\"./foolish.py\"])"
   ]
  },
  {
   "cell_type": "markdown",
   "id": "f465cf07",
   "metadata": {},
   "source": [
    "Let's see how type hints and the use of a static type checker may have helped us in spotting the errors in our previous `increment` function."
   ]
  },
  {
   "cell_type": "code",
   "execution_count": 81,
   "id": "81d88286",
   "metadata": {},
   "outputs": [
    {
     "name": "stdout",
     "output_type": "stream",
     "text": [
      "Writing increment.py\n"
     ]
    }
   ],
   "source": [
    "%%writefile increment.py\n",
    "from typing import Union\n",
    "def increment(value : int, cap : int, step : int = \"1\") -> int:\n",
    "    if value < cap:\n",
    "        return value + step\n",
    "    return value\n",
    "\n",
    "print(increment(9, 10, 1))\n",
    "print(increment(10, 10))\n",
    "print(increment(\"8\", \"9\"))\n",
    "print(increment(9, 10))"
   ]
  },
  {
   "cell_type": "code",
   "execution_count": 87,
   "id": "3ec74037",
   "metadata": {},
   "outputs": [
    {
     "data": {
      "text/plain": [
       "('increment.py:2: error: Incompatible default for argument \"step\" (default has type \"str\", argument has type \"int\")\\nincrement.py:9: error: Argument 1 to \"increment\" has incompatible type \"str\"; expected \"int\"\\nincrement.py:9: error: Argument 2 to \"increment\" has incompatible type \"str\"; expected \"int\"\\nFound 3 errors in 1 file (checked 1 source file)\\n',\n",
       " '',\n",
       " 1)"
      ]
     },
     "execution_count": 87,
     "metadata": {},
     "output_type": "execute_result"
    }
   ],
   "source": [
    "from mypy import api\n",
    "api.run([\"./increment.py\"])"
   ]
  }
 ],
 "metadata": {
  "kernelspec": {
   "display_name": "Python 3 (ipykernel)",
   "language": "python",
   "name": "python3"
  },
  "language_info": {
   "codemirror_mode": {
    "name": "ipython",
    "version": 3
   },
   "file_extension": ".py",
   "mimetype": "text/x-python",
   "name": "python",
   "nbconvert_exporter": "python",
   "pygments_lexer": "ipython3",
   "version": "3.9.7"
  }
 },
 "nbformat": 4,
 "nbformat_minor": 5
}
