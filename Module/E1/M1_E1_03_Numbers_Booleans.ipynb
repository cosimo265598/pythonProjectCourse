{
 "cells": [
  {
   "cell_type": "code",
   "execution_count": 1,
   "id": "4f6eaa02",
   "metadata": {
    "jupyter": {
     "source_hidden": true
    },
    "tags": []
   },
   "outputs": [
    {
     "data": {
      "text/html": [
       "\n",
       "<style>\n",
       ".advanced-cell {\n",
       "    background-color: #e84c2250;\n",
       "}\n",
       ".advanced-cell::after {\n",
       "    position: absolute;\n",
       "    display: block;\n",
       "    top: -2px;\n",
       "    right: -2px;\n",
       "    width: 5px;\n",
       "    height: calc(100% + 3px);\n",
       "    content: '';\n",
       "    background: #e84c22;\n",
       "}\n",
       ".advanced-label-row {\n",
       "    border-bottom: 1px solid #e84c22;\n",
       "    display: flex;\n",
       "    font-weight: bold;\n",
       "}\n",
       ".advanced-label {\n",
       "    margin-left: auto;\n",
       "    background-color: #e84c22;\n",
       "    padding: 5px 8px;\n",
       "    color: white;\n",
       "    margin-right: -2px;\n",
       "}\n",
       "</style>\n",
       "<script>\n",
       "\n",
       "// A function to hide/show highlight advanced topics in the notebook\n",
       "var highlighted = false;\n",
       "function highlight_advanced_topics() {\n",
       "    $(\".advanced-cell\").removeClass(\"advanced-cell\");\n",
       "    $(\".advanced-label-row\").remove();\n",
       "    if(highlighted) {\n",
       "        highlighted = false;\n",
       "        return;\n",
       "    }\n",
       "    var advanced = false;\n",
       "    $(\".jp-Cell.jp-MarkdownCell,.jp-Cell.jp-CodeCell\").each(function(){\n",
       "        if(!advanced) {\n",
       "            if($(this).find(\".advanced-start\").length > 0) {\n",
       "                $(this).before(\"<div class='advanced-label-row'><span class='advanced-label'>Advanced Topic</span></div>\");\n",
       "                $(this).addClass(\"advanced-cell\");\n",
       "                advanced = true;\n",
       "            }        \n",
       "        } else {\n",
       "            if($(this).find(\".advanced-stop\").length > 0) {\n",
       "                if($(this).find(\".advanced-start\").length > 0) {\n",
       "                    $(this).before(\"<div class='advanced-label-row' style='margin-top: 10px;'><span class='advanced-label'>Advanced Topic</span></div>\");\n",
       "                    $(this).addClass(\"advanced-cell\");\n",
       "                } else {\n",
       "                    advanced = false;\n",
       "                }\n",
       "            } else {\n",
       "                $(this).addClass(\"advanced-cell\");\n",
       "            }\n",
       "        }\n",
       "    });\n",
       "    highlighted = true\n",
       "}\n",
       "\n",
       "(function() {\n",
       "  // Load the script\n",
       "  const script = document.createElement(\"script\");\n",
       "  script.src = 'https://ajax.googleapis.com/ajax/libs/jquery/3.6.0/jquery.min.js';\n",
       "  script.type = 'text/javascript';\n",
       "  script.addEventListener('load', () => {\n",
       "    $(document).ready(highlight_advanced_topics);\n",
       "  });\n",
       "  document.head.appendChild(script);\n",
       "})();\n",
       "</script>\n",
       "<div class=\"m-5 p-5\"><span class=\"alert alert-block alert-danger\">Advanced topics in notebook are highlighted!</span></div>"
      ],
      "text/plain": [
       "<IPython.core.display.HTML object>"
      ]
     },
     "metadata": {},
     "output_type": "display_data"
    }
   ],
   "source": [
    "from IPython.display import HTML\n",
    "from IPython.display import display\n",
    "\n",
    "tag = HTML('''\n",
    "<style>\n",
    ".advanced-cell {\n",
    "    background-color: #e84c2250;\n",
    "}\n",
    ".advanced-cell::after {\n",
    "    position: absolute;\n",
    "    display: block;\n",
    "    top: -2px;\n",
    "    right: -2px;\n",
    "    width: 5px;\n",
    "    height: calc(100% + 3px);\n",
    "    content: '';\n",
    "    background: #e84c22;\n",
    "}\n",
    ".advanced-label-row {\n",
    "    border-bottom: 1px solid #e84c22;\n",
    "    display: flex;\n",
    "    font-weight: bold;\n",
    "}\n",
    ".advanced-label {\n",
    "    margin-left: auto;\n",
    "    background-color: #e84c22;\n",
    "    padding: 5px 8px;\n",
    "    color: white;\n",
    "    margin-right: -2px;\n",
    "}\n",
    "</style>\n",
    "<script>\n",
    "\n",
    "// A function to hide/show highlight advanced topics in the notebook\n",
    "var highlighted = false;\n",
    "function highlight_advanced_topics() {\n",
    "    $(\".advanced-cell\").removeClass(\"advanced-cell\");\n",
    "    $(\".advanced-label-row\").remove();\n",
    "    if(highlighted) {\n",
    "        highlighted = false;\n",
    "        return;\n",
    "    }\n",
    "    var advanced = false;\n",
    "    $(\".jp-Cell.jp-MarkdownCell,.jp-Cell.jp-CodeCell\").each(function(){\n",
    "        if(!advanced) {\n",
    "            if($(this).find(\".advanced-start\").length > 0) {\n",
    "                $(this).before(\"<div class='advanced-label-row'><span class='advanced-label'>Advanced Topic</span></div>\");\n",
    "                $(this).addClass(\"advanced-cell\");\n",
    "                advanced = true;\n",
    "            }        \n",
    "        } else {\n",
    "            if($(this).find(\".advanced-stop\").length > 0) {\n",
    "                if($(this).find(\".advanced-start\").length > 0) {\n",
    "                    $(this).before(\"<div class='advanced-label-row' style='margin-top: 10px;'><span class='advanced-label'>Advanced Topic</span></div>\");\n",
    "                    $(this).addClass(\"advanced-cell\");\n",
    "                } else {\n",
    "                    advanced = false;\n",
    "                }\n",
    "            } else {\n",
    "                $(this).addClass(\"advanced-cell\");\n",
    "            }\n",
    "        }\n",
    "    });\n",
    "    highlighted = true\n",
    "}\n",
    "\n",
    "(function() {\n",
    "  // Load the script\n",
    "  const script = document.createElement(\"script\");\n",
    "  script.src = 'https://ajax.googleapis.com/ajax/libs/jquery/3.6.0/jquery.min.js';\n",
    "  script.type = 'text/javascript';\n",
    "  script.addEventListener('load', () => {\n",
    "    $(document).ready(highlight_advanced_topics);\n",
    "  });\n",
    "  document.head.appendChild(script);\n",
    "})();\n",
    "</script>\n",
    "<div class=\"m-5 p-5\"><span class=\"alert alert-block alert-danger\">Advanced topics in notebook are highlighted!</span></div>''')\n",
    "display(tag)"
   ]
  },
  {
   "cell_type": "markdown",
   "id": "94cc9b3d",
   "metadata": {},
   "source": [
    "# Numeric data types\n",
    "Python defines three built-in numeric data types: `int`, `float` and `complex`, representing *integers*, *floating-point numbers*, and *complex numbers* respectively. Number objects are created by numeric literals or as the result of built-in functions and operators. Let's see how to define and manipulate numbers in Python."
   ]
  },
  {
   "cell_type": "markdown",
   "id": "52c4241e",
   "metadata": {},
   "source": [
    "## Numeric literals\n",
    "Each numeric data type has different ways to define its literals. The simpliest way to define an **integer literal** is to write the number in its decimal representation. Alternatively, we can define integers literals in another base by adding a leading zero and a base specifiers to the digits of the number in that base. Base specifiers `b`, `o` or `x` denote the binary, octal and hexadecimal base, respectively."
   ]
  },
  {
   "cell_type": "code",
   "execution_count": 39,
   "id": "3186d06e",
   "metadata": {},
   "outputs": [
    {
     "name": "stdout",
     "output_type": "stream",
     "text": [
      "42 <class 'int'>\n",
      "True\n"
     ]
    }
   ],
   "source": [
    "numd = 42\n",
    "numb = 0b101010\n",
    "numo = 0o52\n",
    "numx = 0x2A\n",
    "print(numd, type(numd))\n",
    "print(numd == numb == numo == numx)\n",
    "# print(01)    # Leading zeros in a non-zero decimal number are not allowed"
   ]
  },
  {
   "cell_type": "markdown",
   "id": "c0d44770",
   "metadata": {},
   "source": [
    "**Floating-point literals** can be defined in two ways: using *point notation* and using *exponential notation*. In point notation we use the point to separate the integer and fractional parts. In exponential notation we define the *significand* (or *mantissa*) as a floating point number in point notation followed by the letter `e` or `E` and the *exponent* as an integer number with optional sign. "
   ]
  },
  {
   "cell_type": "code",
   "execution_count": 64,
   "id": "a7489f57",
   "metadata": {},
   "outputs": [
    {
     "name": "stdout",
     "output_type": "stream",
     "text": [
      "3.141592653 <class 'float'>\n",
      "3.09e+16 <class 'float'>\n"
     ]
    }
   ],
   "source": [
    "pi=3.141592653\n",
    "parsec=3.09e16\n",
    "print(pi, type(pi))\n",
    "print(parsec, type(parsec))"
   ]
  },
  {
   "cell_type": "markdown",
   "id": "e729ec43",
   "metadata": {},
   "source": [
    "Note that the floating point numbers are always expressed using the decimal base and the exponent in exponential notation is always interpreted using radix 10. Complex numbers as a whole don't have corresponding literals. Python defines **imaginary literals** to represent the imaginary part of complex numbers. An imaginary literal can be formed by appending the letter `j` or `J` to a floating-point or (decimal) integer number. Complex numbers with a real part can be formed by adding an `int` or `float` (corresponding to the real part) to an imaginary literal."
   ]
  },
  {
   "cell_type": "code",
   "execution_count": 83,
   "id": "21b635c5",
   "metadata": {},
   "outputs": [
    {
     "name": "stdout",
     "output_type": "stream",
     "text": [
      "3j <class 'complex'>\n",
      "(1+3j) <class 'complex'>\n",
      "(26700000000+2j) <class 'complex'>\n"
     ]
    }
   ],
   "source": [
    "imaginary = 3j\n",
    "comp1 = 1 + 3j\n",
    "comp2 = 2.0j + 2.67e10\n",
    "print(imaginary, type(imaginary))\n",
    "print(comp1, type(comp1))\n",
    "print(comp2, type(comp2))"
   ]
  },
  {
   "cell_type": "markdown",
   "id": "60d5c0d8",
   "metadata": {},
   "source": [
    "Note that numeric literals do not include a sign. When we write something like `-1` we are actually writing an expression composed of the unary operator `-` and the literal `1`."
   ]
  },
  {
   "cell_type": "markdown",
   "id": "bb836bf7",
   "metadata": {},
   "source": [
    "### Digit grouping\n",
    "\n",
    "The underscore character (`_`) can be used as a visual separator for digit grouping purposes in integral, floating-point and complex number literals. For instance, we can use `_` to separate digits in an integer value by thousands or to group hexadecimal digits by bytes:"
   ]
  },
  {
   "cell_type": "code",
   "execution_count": 51,
   "id": "31043e3e",
   "metadata": {},
   "outputs": [
    {
     "name": "stdout",
     "output_type": "stream",
     "text": [
      "1000000000.0\n",
      "7F454C46\n"
     ]
    }
   ],
   "source": [
    "billion=1_000_000_000.0\n",
    "print(f\"{billion}\")\n",
    "elf_magic_number = 0x7F_45_4C_46\n",
    "print(f\"{elf_magic_number:X}\")"
   ]
  },
  {
   "cell_type": "markdown",
   "id": "0cf42ced",
   "metadata": {},
   "source": [
    "## Arithmetic operations & expressions\n",
    "All numeric types support the usual arithmetic operations of addition `+`, subtraction `-`, multiplication `*` and division `/`. \n",
    "\n",
    "Python fully supports mixed arithmetic: when a binary arithmetic operator has operands of different numeric types, the operand with the \"narrower\" type is widened to that of the other, where integer is narrower than floating-point, which is narrower than complex. For instance if we add an `int` and a `float` we get a `float`:"
   ]
  },
  {
   "cell_type": "code",
   "execution_count": 88,
   "id": "3e05e608",
   "metadata": {},
   "outputs": [
    {
     "name": "stdout",
     "output_type": "stream",
     "text": [
      "<class 'float'>\n",
      "<class 'int'>\n"
     ]
    }
   ],
   "source": [
    "print(type(42 + 1.0))\n",
    "print(type(42 + 1))"
   ]
  },
  {
   "cell_type": "markdown",
   "id": "13bdc507",
   "metadata": {},
   "source": [
    "Division with `/` always returns a `float` (or wider) type:"
   ]
  },
  {
   "cell_type": "code",
   "execution_count": 118,
   "id": "d4ff7bb5",
   "metadata": {},
   "outputs": [
    {
     "name": "stdout",
     "output_type": "stream",
     "text": [
      "42.0 <class 'float'>\n",
      "42.0 <class 'float'>\n",
      "(1+2j) <class 'complex'>\n"
     ]
    }
   ],
   "source": [
    "print(42 / 1.0, type(42 / 1.0))\n",
    "print(42 / 1, type(42 / 1))\n",
    "print((3+6j) / 3, type((3+6j) / 3))"
   ]
  },
  {
   "cell_type": "markdown",
   "id": "42cb89ca",
   "metadata": {},
   "source": [
    "In addition to the four basic arithmetic operation, Python supports the following ones: integer division `//`, remainder `%`, negation `-`, unchange `+` and exponentiation `**`."
   ]
  },
  {
   "cell_type": "code",
   "execution_count": 92,
   "id": "f587f66e",
   "metadata": {},
   "outputs": [
    {
     "name": "stdout",
     "output_type": "stream",
     "text": [
      "1.6666666666666667 1\n",
      "2\n",
      "-5\n",
      "5\n",
      "125\n"
     ]
    }
   ],
   "source": [
    "print(5 / 3, 5 // 3)\n",
    "print(5 % 3)\n",
    "print(-5)\n",
    "print(+5)\n",
    "print(5 ** 3)"
   ]
  },
  {
   "cell_type": "markdown",
   "id": "b799f127",
   "metadata": {},
   "source": [
    "Operations on numeric objects can be combined to form expressions. An **expression** is a combination of numbers, operators, and parentheses that Python can compute, or *evaluate*, to return a value. Expressions are evaluated by applying operators according to their [order of precedence](https://docs.python.org/3/reference/expressions.html#operator-summary). Parentheses can be used to alter the precedence of specific operations."
   ]
  },
  {
   "cell_type": "code",
   "execution_count": 96,
   "id": "b01a98b4",
   "metadata": {},
   "outputs": [
    {
     "name": "stdout",
     "output_type": "stream",
     "text": [
      "19\n"
     ]
    }
   ],
   "source": [
    "print(4**2+(12-2)//3)"
   ]
  },
  {
   "cell_type": "markdown",
   "id": "7523303f",
   "metadata": {},
   "source": [
    "### Conversion to numeric types\n",
    "\n",
    "The built-in functions `int()`, `float()`, and `complex()` can be used to produce numbers of a specific type from objects of another type. A common use case for these functions is to convert a string literal representing a number into the corresponding numeric object of the desidered type:"
   ]
  },
  {
   "cell_type": "code",
   "execution_count": 3,
   "id": "2fb1b3ff",
   "metadata": {},
   "outputs": [
    {
     "name": "stdin",
     "output_type": "stream",
     "text": [
      "Insert a number:  3j\n"
     ]
    },
    {
     "name": "stdout",
     "output_type": "stream",
     "text": [
      "3j <class 'complex'>\n"
     ]
    }
   ],
   "source": [
    "def convert_narrower(x):\n",
    "    converted = None\n",
    "    try:\n",
    "        converted = complex(x)\n",
    "        converted = float(x)\n",
    "        converted = int(x)\n",
    "    except ValueError as error:\n",
    "        if converted is None:\n",
    "            raise error\n",
    "    return converted\n",
    "    \n",
    "user_input = input(\"Insert a number: \")\n",
    "num = convert_narrower(user_input)\n",
    "print(num, type(num))"
   ]
  },
  {
   "cell_type": "markdown",
   "id": "72abe62b",
   "metadata": {},
   "source": [
    "### Immutability of numeric objects\n",
    "Objects of numeric types are *immutable*. When we combine two numeric objects together using arithmetic operators we are actually creating new objects."
   ]
  },
  {
   "cell_type": "code",
   "execution_count": 87,
   "id": "368b8b43",
   "metadata": {},
   "outputs": [
    {
     "name": "stdout",
     "output_type": "stream",
     "text": [
      "3j 2206960150064\n",
      "(3+3j) 2206960149968\n",
      "False\n"
     ]
    }
   ],
   "source": [
    "img = 3j\n",
    "temp = img\n",
    "print(img, id(img))\n",
    "img += 3\n",
    "print(img, id(img))\n",
    "print(img is temp)"
   ]
  },
  {
   "cell_type": "markdown",
   "id": "3c2439cf",
   "metadata": {},
   "source": [
    "<span class=\"advanced-start\"></span>\n",
    "Some common numeric literal values (such as `0` or `1`) usually appear multiple times at different locations inside our programs. Since objects of numeric types are immutable, Python saves computing resources by having all numeric literals with the same value refer to the same object in memory."
   ]
  },
  {
   "cell_type": "code",
   "execution_count": 86,
   "id": "d7744d08",
   "metadata": {},
   "outputs": [
    {
     "name": "stdout",
     "output_type": "stream",
     "text": [
      "0 0\n",
      "2206877051152 2206877051152\n",
      "True\n"
     ]
    }
   ],
   "source": [
    "i = 0\n",
    "j = 0\n",
    "print(i, j)\n",
    "print(id(i), id(j))\n",
    "print(i is j)"
   ]
  },
  {
   "cell_type": "markdown",
   "id": "ff26740c",
   "metadata": {},
   "source": [
    "<span class=\"advanced-stop\"></span>\n",
    "## Range and precision of numeric types in Python\n",
    "\n",
    "Integers in Python have unlimited precision. This means that the only limit to how big an `int` we can define is the amount of memory that is available to us."
   ]
  },
  {
   "cell_type": "code",
   "execution_count": 121,
   "id": "8f115d76",
   "metadata": {},
   "outputs": [
    {
     "name": "stdout",
     "output_type": "stream",
     "text": [
      "100000000000000000000000000000000000000000000000000000000000000000000000000000000000000000000000000000000000000000000000000000000000000000000000000000000000000000000000000000000000000000000000000000000000000000000000000000000000000000000000000000000000000000000000000000000000000000000000000000000000000000000000000000000000000000000000000000000000000000000000000000000000000000000000000000000000000000000000000000000000000000000000000000000000000000000000000000000000000000000000000000000000000000000 <class 'int'>\n"
     ]
    }
   ],
   "source": [
    "gazillion_str=\"1\" + \"0\"*500\n",
    "gazillion = int(gazillion_str)\n",
    "print(gazillion, type(gazillion))"
   ]
  },
  {
   "cell_type": "markdown",
   "id": "7287f036",
   "metadata": {},
   "source": [
    "<span class=\"advanced-start\"></span>\n",
    "Unlike integers, floating-point numbers have a limited precision. The allowed range of `float` objects in Python is implementation-dependent. When a `float` exeedes the maximum or minimum of that range, it returns a special value: `inf` or `-inf`, respectively. When a `float` gets too close to zero, it gets rounded to zero."
   ]
  },
  {
   "cell_type": "code",
   "execution_count": 77,
   "id": "df5a7c1c",
   "metadata": {},
   "outputs": [
    {
     "name": "stdout",
     "output_type": "stream",
     "text": [
      "inf <class 'float'>\n",
      "-inf <class 'float'>\n",
      "0.0 <class 'float'>\n",
      "True\n",
      "True\n",
      "True\n"
     ]
    }
   ],
   "source": [
    "big_positive = 1e500\n",
    "big_negative = -1e500\n",
    "infinitesimal = 1e-500\n",
    "print(big_positive, type(big_positive))\n",
    "print(big_negative, type(big_negative))\n",
    "print(infinitesimal, type(infinitesimal))\n",
    "print(big_positive == float(\"inf\"))\n",
    "print(big_negative == float(\"-inf\"))\n",
    "print(infinitesimal == 0.0)"
   ]
  },
  {
   "cell_type": "markdown",
   "id": "99d79c97",
   "metadata": {},
   "source": [
    "The special value `nan` represents a floating-point object that contains an indeterminate or non-numeric value (NaN stands for Not a Number). The `nan` value compares different to any value (itself included) and any operation with a `nan` results in `nan`."
   ]
  },
  {
   "cell_type": "code",
   "execution_count": 84,
   "id": "0b3902db",
   "metadata": {},
   "outputs": [
    {
     "name": "stdout",
     "output_type": "stream",
     "text": [
      "nan <class 'float'>\n",
      "False\n",
      "False\n",
      "nan\n",
      "sys.float_info(max=1.7976931348623157e+308, max_exp=1024, max_10_exp=308, min=2.2250738585072014e-308, min_exp=-1021, min_10_exp=-307, dig=15, mant_dig=53, epsilon=2.220446049250313e-16, radix=2, rounds=1)\n"
     ]
    }
   ],
   "source": [
    "import sys\n",
    "NaN = float(\"nan\")\n",
    "print(NaN, type(NaN))\n",
    "print(NaN == 1.0)\n",
    "print(NaN == NaN)\n",
    "print(1 + NaN)\n",
    "print(sys.float_info)"
   ]
  },
  {
   "cell_type": "markdown",
   "id": "99822c98",
   "metadata": {},
   "source": [
    "When dealing with floating-points values, remember to take into account the [accuracy problems of floating-point arithmetics](https://en.wikipedia.org/wiki/Floating-point_arithmetic#Accuracy_problems)."
   ]
  },
  {
   "cell_type": "code",
   "execution_count": 131,
   "id": "3c097efc",
   "metadata": {},
   "outputs": [
    {
     "name": "stdout",
     "output_type": "stream",
     "text": [
      "0.30000000000000004\n",
      "False\n"
     ]
    }
   ],
   "source": [
    "val = 0.1 + 0.2\n",
    "print(val)\n",
    "print(val == 0.3)"
   ]
  },
  {
   "cell_type": "markdown",
   "id": "ceb2a341",
   "metadata": {},
   "source": [
    "These problems depend on the way floating-point numbers are stored in memory and the fact that results of arithmetic operations with no finite decimal representation must be stored as approximations. We won't get into further details here, just be aware that special care should be taken when checking whether or not two `float` have the same value (see [math.isclose](https://docs.python.org/3/library/math.html#math.isclose))."
   ]
  },
  {
   "cell_type": "code",
   "execution_count": 132,
   "id": "55390a4b",
   "metadata": {},
   "outputs": [
    {
     "name": "stdout",
     "output_type": "stream",
     "text": [
      "True\n"
     ]
    }
   ],
   "source": [
    "import math\n",
    "print(math.isclose(val, 0.3))"
   ]
  },
  {
   "cell_type": "markdown",
   "id": "cda67975",
   "metadata": {},
   "source": [
    "The imaginary and real parts of a complex number in Python are stored as objects of type `float` and therefore are subject to the same limitations regarding range and precision."
   ]
  },
  {
   "cell_type": "markdown",
   "id": "4d5fe86e",
   "metadata": {},
   "source": [
    "<span class=\"advanced-stop\"></span>\n",
    "## Additional math functions\n",
    "\n",
    "Python defines some additional built-in functions that perform operations on numeric objects. The `abs()` function returns the absolute value of a number, if the argument is a complex number, its magnitude is returned."
   ]
  },
  {
   "cell_type": "code",
   "execution_count": 134,
   "id": "b727f94f",
   "metadata": {},
   "outputs": [
    {
     "name": "stdout",
     "output_type": "stream",
     "text": [
      "5\n",
      "43.579\n",
      "4.242640687119285\n"
     ]
    }
   ],
   "source": [
    "print(abs(-5))\n",
    "print(abs(-43.579))\n",
    "print(abs(3+3j))"
   ]
  },
  {
   "cell_type": "markdown",
   "id": "8b67e990",
   "metadata": {},
   "source": [
    "The `divmod()` function returns a tuple containing the quotient and remainder of the integer division between two (non-complex) numbers."
   ]
  },
  {
   "cell_type": "code",
   "execution_count": 138,
   "id": "f0b93a41",
   "metadata": {},
   "outputs": [
    {
     "name": "stdout",
     "output_type": "stream",
     "text": [
      "(3, 1)\n",
      "(3, 1)\n"
     ]
    }
   ],
   "source": [
    "print(divmod(10, 3))\n",
    "print((10 // 3, 10 % 3))"
   ]
  },
  {
   "cell_type": "markdown",
   "id": "e12809ef",
   "metadata": {},
   "source": [
    "The `round()` function rounds a number to the nearest integer or to a given number of digits of precision after the decimal point."
   ]
  },
  {
   "cell_type": "code",
   "execution_count": 136,
   "id": "d5c27342",
   "metadata": {},
   "outputs": [
    {
     "name": "stdout",
     "output_type": "stream",
     "text": [
      "3.1415926535\n",
      "3\n",
      "3.14\n"
     ]
    }
   ],
   "source": [
    "pi = 3.1415926535\n",
    "print(pi)\n",
    "print(round(pi))\n",
    "print(round(pi, 2))"
   ]
  },
  {
   "cell_type": "markdown",
   "id": "6dd0e062",
   "metadata": {},
   "source": [
    "Python defines a multitude of higher-level mathematical operations in `math` module."
   ]
  },
  {
   "cell_type": "code",
   "execution_count": 143,
   "id": "dae26469",
   "metadata": {},
   "outputs": [
    {
     "name": "stdout",
     "output_type": "stream",
     "text": [
      "['__doc__', '__loader__', '__name__', '__package__', '__spec__', 'acos', 'acosh', 'asin', 'asinh', 'atan', 'atan2', 'atanh', 'ceil', 'comb', 'copysign', 'cos', 'cosh', 'degrees', 'dist', 'e', 'erf', 'erfc', 'exp', 'expm1', 'fabs', 'factorial', 'floor', 'fmod', 'frexp', 'fsum', 'gamma', 'gcd', 'hypot', 'inf', 'isclose', 'isfinite', 'isinf', 'isnan', 'isqrt', 'lcm', 'ldexp', 'lgamma', 'log', 'log10', 'log1p', 'log2', 'modf', 'nan', 'nextafter', 'perm', 'pi', 'pow', 'prod', 'radians', 'remainder', 'sin', 'sinh', 'sqrt', 'tan', 'tanh', 'tau', 'trunc', 'ulp']\n"
     ]
    }
   ],
   "source": [
    "import math\n",
    "print(dir(math))"
   ]
  },
  {
   "cell_type": "markdown",
   "id": "c9e53511",
   "metadata": {},
   "source": [
    "# Boolean data type\n",
    "Python provides the built-in type `bool` to deal with data that represent truth or falsehood. Objects of type `bool` may have only one of two values: `True` or `False` (corresponding to the only two admitted literals for the Boolean type)."
   ]
  },
  {
   "cell_type": "code",
   "execution_count": 11,
   "id": "b2c5789a",
   "metadata": {},
   "outputs": [
    {
     "name": "stdout",
     "output_type": "stream",
     "text": [
      "False <class 'bool'>\n",
      "True <class 'bool'>\n"
     ]
    }
   ],
   "source": [
    "truth = True\n",
    "falsehood = False\n",
    "print(falsehood, type(falsehood))\n",
    "print(truth, type(truth))"
   ]
  },
  {
   "cell_type": "markdown",
   "id": "5374bc54",
   "metadata": {},
   "source": [
    "The results of comparisons in Python is always a value of type `bool`:"
   ]
  },
  {
   "cell_type": "code",
   "execution_count": 12,
   "id": "1ede8710",
   "metadata": {},
   "outputs": [
    {
     "name": "stdout",
     "output_type": "stream",
     "text": [
      "<class 'bool'>\n",
      "<class 'bool'>\n",
      "<class 'bool'>\n",
      "<class 'bool'>\n",
      "<class 'bool'>\n"
     ]
    }
   ],
   "source": [
    "print(type(4%2 == 0))\n",
    "print(type(0 <= 42 < 100))\n",
    "print(type(\"hello\" != \"he11o\"))\n",
    "print(type(truth is True))\n",
    "print(type(42 in [26, 86, 43, 9, 11, 42, 97]))"
   ]
  },
  {
   "cell_type": "markdown",
   "id": "4aa95ff6",
   "metadata": {},
   "source": [
    "## Boolean operators\n",
    "Boolean objects support the usual Boolean logic operators (reported here in ascending order of priority): `or`, `and`, `not`. The `and` and `or` operators have two interesting properties. The first one is that they use [short-circuit evaluation](https://en.wikipedia.org/wiki/Short-circuit_evaluation), meaning that they do not evaluate their second operand if the truth value of the operation can be determined based solely on the value of the first."
   ]
  },
  {
   "cell_type": "code",
   "execution_count": 13,
   "id": "0ac341e9",
   "metadata": {},
   "outputs": [
    {
     "name": "stdout",
     "output_type": "stream",
     "text": [
      "False\n",
      "True\n"
     ]
    },
    {
     "ename": "ZeroDivisionError",
     "evalue": "division by zero",
     "output_type": "error",
     "traceback": [
      "\u001b[1;31m---------------------------------------------------------------------------\u001b[0m",
      "\u001b[1;31mZeroDivisionError\u001b[0m                         Traceback (most recent call last)",
      "\u001b[1;32m~\\AppData\\Local\\Temp/ipykernel_12156/364577502.py\u001b[0m in \u001b[0;36m<module>\u001b[1;34m\u001b[0m\n\u001b[0;32m      1\u001b[0m \u001b[0mprint\u001b[0m\u001b[1;33m(\u001b[0m\u001b[1;32mFalse\u001b[0m \u001b[1;32mand\u001b[0m \u001b[1;36m42\u001b[0m\u001b[1;33m/\u001b[0m\u001b[1;36m0\u001b[0m\u001b[1;33m)\u001b[0m\u001b[1;33m\u001b[0m\u001b[1;33m\u001b[0m\u001b[0m\n\u001b[0;32m      2\u001b[0m \u001b[0mprint\u001b[0m\u001b[1;33m(\u001b[0m\u001b[1;32mTrue\u001b[0m \u001b[1;32mor\u001b[0m \u001b[1;36m42\u001b[0m\u001b[1;33m/\u001b[0m\u001b[1;36m0\u001b[0m\u001b[1;33m)\u001b[0m\u001b[1;33m\u001b[0m\u001b[1;33m\u001b[0m\u001b[0m\n\u001b[1;32m----> 3\u001b[1;33m \u001b[0mprint\u001b[0m\u001b[1;33m(\u001b[0m\u001b[1;32mTrue\u001b[0m \u001b[1;32mand\u001b[0m \u001b[1;36m42\u001b[0m\u001b[1;33m/\u001b[0m\u001b[1;36m0\u001b[0m\u001b[1;33m)\u001b[0m\u001b[1;33m\u001b[0m\u001b[1;33m\u001b[0m\u001b[0m\n\u001b[0m",
      "\u001b[1;31mZeroDivisionError\u001b[0m: division by zero"
     ]
    }
   ],
   "source": [
    "print(False and 42/0)\n",
    "print(True or 42/0)\n",
    "print(True and 42/0)"
   ]
  },
  {
   "cell_type": "markdown",
   "id": "1b0e7b4c",
   "metadata": {},
   "source": [
    "When writing more complex Boolean expressions we can take advantage of short-circuiting by rearranging the operands so that a faster sub-expression gets evaluated before a slower one does. That might save us some time if the result of the first sub-expressions ends up short-circuiting."
   ]
  },
  {
   "cell_type": "code",
   "execution_count": 15,
   "id": "672c30fb",
   "metadata": {},
   "outputs": [
    {
     "name": "stdout",
     "output_type": "stream",
     "text": [
      "5.18 µs ± 82.2 ns per loop (mean ± std. dev. of 7 runs, 100000 loops each)\n",
      "144 ns ± 13.6 ns per loop (mean ± std. dev. of 7 runs, 10000000 loops each)\n"
     ]
    }
   ],
   "source": [
    "import os.path\n",
    "\n",
    "def perform_task1(config_file=\"\"):\n",
    "    # Load configuration from file if need be\n",
    "    if os.path.exists(config_file) and config_file:\n",
    "        pass\n",
    "    # Perform task\n",
    "    \n",
    "def perform_task2(config_file=\"\"):\n",
    "    # Load configuration from file if need be\n",
    "    if config_file and os.path.exists(config_file):\n",
    "        pass\n",
    "    # Perform task\n",
    "    \n",
    "%timeit perform_task1()\n",
    "%timeit perform_task2() "
   ]
  },
  {
   "cell_type": "markdown",
   "id": "5ab65ef3",
   "metadata": {},
   "source": [
    "The second one is that they don't always return a Boolean value, instead they always return the value of one of their operands. In fact they always return the value of the last operand that was evaluated to determine the truth value of the operation. "
   ]
  },
  {
   "cell_type": "code",
   "execution_count": 25,
   "id": "ba0837a3",
   "metadata": {},
   "outputs": [
    {
     "name": "stdout",
     "output_type": "stream",
     "text": [
      "pick me\n",
      "no, pick me\n"
     ]
    }
   ],
   "source": [
    "print(True and \"pick me\" or \"no, pick me\")\n",
    "print(False and \"pick me\" or \"no, pick me\")"
   ]
  },
  {
   "cell_type": "markdown",
   "id": "374ff536",
   "metadata": {},
   "source": [
    "We will see in the next section why it makes sense to use non-Boolean objects as operands to Boolean operators. Right now let's just consider the following use case: we can use short-circuiting and the value returned by `or` expressions to assign default values to variables:"
   ]
  },
  {
   "cell_type": "code",
   "execution_count": 27,
   "id": "4b8f22dd",
   "metadata": {},
   "outputs": [
    {
     "name": "stdout",
     "output_type": "stream",
     "text": [
      "Type your name >> \n",
      "Hello, there!\n"
     ]
    }
   ],
   "source": [
    "greeting = input(\"Insert your name >> \") or \"there\"\n",
    "print(f\"Hello, {greeting}!\")"
   ]
  },
  {
   "cell_type": "markdown",
   "id": "514147b7",
   "metadata": {},
   "source": [
    "## Truth value of objects\n",
    "Python expressions are implicitly evaluated as Boolean in some contexts (called *Boolean contexts*). Examples of Boolean contexts are the condition clauses of `if` and `while` constructs or the operands of one of the Boolean operators above. In these contexts any object can be either \"truthy\" (interpreted as `True`) or \"falsy\" (interpreted as `False`).\n",
    "\n",
    "Objects of built-in types are generally considered truthy unless: \n",
    "- they are constants defined to be false (`False` and `None`)\n",
    "- they are numeric types that evaluate to zero (`0`, `0.0`, `0j`)\n",
    "- they are empty collections (`\"\"`, `[]`, `()`, `{}`, `set()`)\n",
    "\n",
    "In which case they are considered falsy. \n",
    "\n",
    "In the following example we use the falsy value of empty collections and `None` to ensure that the check for emptiness on `values` works for different types of objects (note that we are using duck typing). "
   ]
  },
  {
   "cell_type": "code",
   "execution_count": 28,
   "id": "1b824292",
   "metadata": {},
   "outputs": [
    {
     "name": "stdout",
     "output_type": "stream",
     "text": [
      "Processing values: [1, 2, 3, 4]\n",
      "Processing values: [1, 2, 3, 4]\n",
      "No values to process: []\n",
      "No values to process: []\n",
      "No values to process: ()\n",
      "No values to process: ()\n",
      "No values to process: None\n"
     ]
    },
    {
     "ename": "TypeError",
     "evalue": "object of type 'NoneType' has no len()",
     "output_type": "error",
     "traceback": [
      "\u001b[1;31m---------------------------------------------------------------------------\u001b[0m",
      "\u001b[1;31mTypeError\u001b[0m                                 Traceback (most recent call last)",
      "\u001b[1;32m~\\AppData\\Local\\Temp/ipykernel_12156/1112673688.py\u001b[0m in \u001b[0;36m<module>\u001b[1;34m\u001b[0m\n\u001b[0;32m     20\u001b[0m \u001b[0mprocess_values2\u001b[0m\u001b[1;33m(\u001b[0m\u001b[1;33m(\u001b[0m\u001b[1;33m)\u001b[0m\u001b[1;33m)\u001b[0m\u001b[1;33m\u001b[0m\u001b[1;33m\u001b[0m\u001b[0m\n\u001b[0;32m     21\u001b[0m \u001b[0mprocess_values1\u001b[0m\u001b[1;33m(\u001b[0m\u001b[1;32mNone\u001b[0m\u001b[1;33m)\u001b[0m\u001b[1;33m\u001b[0m\u001b[1;33m\u001b[0m\u001b[0m\n\u001b[1;32m---> 22\u001b[1;33m \u001b[0mprocess_values2\u001b[0m\u001b[1;33m(\u001b[0m\u001b[1;32mNone\u001b[0m\u001b[1;33m)\u001b[0m\u001b[1;33m\u001b[0m\u001b[1;33m\u001b[0m\u001b[0m\n\u001b[0m",
      "\u001b[1;32m~\\AppData\\Local\\Temp/ipykernel_12156/1112673688.py\u001b[0m in \u001b[0;36mprocess_values2\u001b[1;34m(values)\u001b[0m\n\u001b[0;32m      7\u001b[0m \u001b[1;33m\u001b[0m\u001b[0m\n\u001b[0;32m      8\u001b[0m \u001b[1;32mdef\u001b[0m \u001b[0mprocess_values2\u001b[0m\u001b[1;33m(\u001b[0m\u001b[0mvalues\u001b[0m\u001b[1;33m)\u001b[0m\u001b[1;33m:\u001b[0m\u001b[1;33m\u001b[0m\u001b[1;33m\u001b[0m\u001b[0m\n\u001b[1;32m----> 9\u001b[1;33m     \u001b[1;32mif\u001b[0m \u001b[0mlen\u001b[0m\u001b[1;33m(\u001b[0m\u001b[0mvalues\u001b[0m\u001b[1;33m)\u001b[0m \u001b[1;33m==\u001b[0m \u001b[1;36m0\u001b[0m\u001b[1;33m:\u001b[0m\u001b[1;33m\u001b[0m\u001b[1;33m\u001b[0m\u001b[0m\n\u001b[0m\u001b[0;32m     10\u001b[0m         \u001b[0mprint\u001b[0m\u001b[1;33m(\u001b[0m\u001b[1;34mf\"No values to process: {values}\"\u001b[0m\u001b[1;33m)\u001b[0m\u001b[1;33m\u001b[0m\u001b[1;33m\u001b[0m\u001b[0m\n\u001b[0;32m     11\u001b[0m         \u001b[1;32mreturn\u001b[0m\u001b[1;33m\u001b[0m\u001b[1;33m\u001b[0m\u001b[0m\n",
      "\u001b[1;31mTypeError\u001b[0m: object of type 'NoneType' has no len()"
     ]
    }
   ],
   "source": [
    "def process_values1(values):\n",
    "    if not values:\n",
    "        print(f\"No values to process: {values}\")\n",
    "        return\n",
    "    print(f\"Processing values: {values}\")\n",
    "    # Process values\n",
    "    \n",
    "def process_values2(values):\n",
    "    if len(values) == 0:\n",
    "        print(f\"No values to process: {values}\")\n",
    "        return\n",
    "    print(f\"Processing values: {values}\")\n",
    "    # Process values\n",
    "    \n",
    "process_values1([1,2,3,4])\n",
    "process_values2([1,2,3,4])\n",
    "process_values1([])\n",
    "process_values2([])\n",
    "process_values1(())\n",
    "process_values2(())\n",
    "process_values1(None)\n",
    "process_values2(None)"
   ]
  }
 ],
 "metadata": {
  "kernelspec": {
   "display_name": "Python 3 (ipykernel)",
   "language": "python",
   "name": "python3"
  },
  "language_info": {
   "codemirror_mode": {
    "name": "ipython",
    "version": 3
   },
   "file_extension": ".py",
   "mimetype": "text/x-python",
   "name": "python",
   "nbconvert_exporter": "python",
   "pygments_lexer": "ipython3",
   "version": "3.9.7"
  }
 },
 "nbformat": 4,
 "nbformat_minor": 5
}
