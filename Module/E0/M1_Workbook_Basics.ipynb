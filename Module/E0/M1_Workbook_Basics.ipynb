{
 "cells": [
  {
   "cell_type": "markdown",
   "id": "0fad8b08-f2c5-44ec-88bf-69ac8224b25c",
   "metadata": {},
   "source": [
    "# Ex. 01 - Finding numbers\n",
    "Write a Python program to find all the numbers that are divisible by `x` and multiple of `y`, between `w` and `z` (both included)."
   ]
  },
  {
   "cell_type": "code",
   "execution_count": null,
   "id": "1bc706c4",
   "metadata": {},
   "outputs": [],
   "source": [
    "x= input(\"value of x: \")\n",
    "y= input(\"value of y:\")\n",
    "w, z =input(\"Intervall:\").split()\n",
    "\n",
    "x= int(x)\n",
    "y=int(y)\n",
    "\n",
    "for n in range(int(w),int(z)+1):\n",
    "    if n%int(x)==0 and n%int(y)==0:\n",
    "        print(f\"Il numero {n} è divisibile per {x} e multiplo di {y}\")"
   ]
  },
  {
   "cell_type": "markdown",
   "id": "df3bb99a-732f-440b-8525-6459ecc8d460",
   "metadata": {},
   "source": [
    "## Hints\n",
    "- You can use the `input()` function to acquire keyboard inputs from the user"
   ]
  },
  {
   "cell_type": "markdown",
   "id": "8a64af1b",
   "metadata": {},
   "source": [
    "# Ex. 02 - Temperature conversion\n",
    "Write a script to convert temperatures between (to and from) Celsius and Fahrenheit [[1]](https://en.wikipedia.org/wiki/Fahrenheit#Definition_and_conversion)."
   ]
  },
  {
   "cell_type": "code",
   "execution_count": 14,
   "id": "52d22343",
   "metadata": {},
   "outputs": [
    {
     "name": "stdout",
     "output_type": "stream",
     "text": [
      "ERROR\n"
     ]
    }
   ],
   "source": [
    "\"\"\"Celcius to and from fahrenheit\"\"\"\n",
    "\n",
    "value= input(\"Value to convert\")\n",
    "value.upper()\n",
    "if value.find(\"C\") > 0:\n",
    "    c=value.replace(\"C\",\"\")\n",
    "    c=float(c)\n",
    "    f=(c*9/5)+32\n",
    "    print(f\"{f} °F\")\n",
    "elif value.find(\"F\") > 0:\n",
    "    f=value.replace(\"F\",\"\")\n",
    "    f=float(f)\n",
    "    c= (f-32)*5/9\n",
    "    print(f\"{c} °C\")\n",
    "else:\n",
    "    print(\"ERROR\")"
   ]
  },
  {
   "cell_type": "markdown",
   "id": "37edc08c",
   "metadata": {},
   "source": [
    "## Hints\n",
    "- You can use the `input()` function to acquire keyboard inputs from the user\n",
    "- Pay attention to the format the inputs may assume, e.g., `25C`, `45F`, `25c`, `45f`"
   ]
  },
  {
   "cell_type": "markdown",
   "id": "610ae89a",
   "metadata": {},
   "source": [
    "# Ex. 03 - String crocessing\n",
    "Write a program that accepts an input string from the user and display characters positioned at even indices. Remember that indices start at zero by convention.\n",
    "## Example\n",
    "Given `str = \"python\"`, your code should display `p`, `t`, `o`."
   ]
  },
  {
   "cell_type": "markdown",
   "id": "791d8607",
   "metadata": {},
   "source": [
    "## Hints\n",
    "- You can use the `input()` function to acquire keyboard inputs from the user"
   ]
  },
  {
   "cell_type": "code",
   "execution_count": 92,
   "id": "8f5c7397",
   "metadata": {},
   "outputs": [
    {
     "name": "stdout",
     "output_type": "stream",
     "text": [
      "pto\n"
     ]
    }
   ],
   "source": [
    "s= input(\"Inserisci una stringa\")\n",
    "print(s[0:len(s):2])"
   ]
  },
  {
   "cell_type": "markdown",
   "id": "be8accf2",
   "metadata": {},
   "source": [
    "# Ex. 04 - Triangle analysis\n",
    "Check whether a triangle is equilateral, isosceles or scalene. Remember that:\n",
    "- An equilateral triangle is a triangle in which all three sides are equal\n",
    "- A scalene triangle is a triangle that has three unequal sides\n",
    "- An isosceles triangle is a triangle with two equal sides"
   ]
  },
  {
   "cell_type": "markdown",
   "id": "6940bfc2",
   "metadata": {},
   "source": [
    "## Hints\n",
    "- You can use the `input()` function to acquire keyboard inputs from the user"
   ]
  },
  {
   "cell_type": "code",
   "execution_count": 21,
   "id": "02fda336",
   "metadata": {},
   "outputs": [
    {
     "name": "stdout",
     "output_type": "stream",
     "text": [
      "Scalene\n"
     ]
    }
   ],
   "source": [
    "l0=input(\"first side\")\n",
    "l1=input(\"second side\")\n",
    "l2=input(\"third side\")\n",
    "\n",
    "l0=float(l0)\n",
    "l1=float(l1)\n",
    "l2=float(l2)\n",
    "\n",
    "if l0==l1==l2:\n",
    "    print(\"Equilateral\")\n",
    "elif l0!=l1!=l2:\n",
    "    print(\"Scalene\")\n",
    "else:\n",
    "    print(\"Isosceles\")"
   ]
  },
  {
   "cell_type": "markdown",
   "id": "fe267f1e",
   "metadata": {},
   "source": [
    "# Ex. 05 - Separate parentheses groups\n",
    "Given a string consisting of whitespaces and groups of matched parentheses, write a Python program to split it into groups of perfectly matched parentheses without any whitespace."
   ]
  },
  {
   "cell_type": "markdown",
   "id": "db35833f",
   "metadata": {},
   "source": [
    "## Example\n",
    "* Input = `'( ()) ((()()())) (()) ()'`\n",
    "* Output = `['(())', '((()()()))', '(())', '()']`"
   ]
  },
  {
   "cell_type": "markdown",
   "id": "1a3f9171-baa8-456c-8938-9bcf45dfe429",
   "metadata": {},
   "source": [
    "## Hints\n",
    "* Pay attention to blanks and spaces *within* parenthes groups"
   ]
  },
  {
   "cell_type": "code",
   "execution_count": 55,
   "id": "0a96f230",
   "metadata": {},
   "outputs": [
    {
     "name": "stdout",
     "output_type": "stream",
     "text": [
      "['(())', '((()()()))', '(())', '()']\n"
     ]
    }
   ],
   "source": [
    "s=input(\"Parenthesis\")\n",
    "s=s.replace(\" \",\"\")\n",
    "\n",
    "out=[]\n",
    "count=0\n",
    "start=0\n",
    "for i in range(0,len(s)):\n",
    "    if s[i] == \")\":\n",
    "        count-=1\n",
    "        if count==0:\n",
    "            out.append(s[start:i+1])\n",
    "            start=i+1\n",
    "    else:\n",
    "        count+=1\n",
    "print(out)"
   ]
  },
  {
   "cell_type": "markdown",
   "id": "e8405006",
   "metadata": {},
   "source": [
    "# Ex. 06 - List of tuples sum\n",
    "Write a Python program to compute the sum of all the elements of each tuple stored inside a list."
   ]
  },
  {
   "cell_type": "markdown",
   "id": "a49bb057",
   "metadata": {},
   "source": [
    "## Example\n",
    "- Original list: `[(1, 2), (2, 3), (3, 4)]`\n",
    "- Final result: `[3, 5, 7]`"
   ]
  },
  {
   "cell_type": "code",
   "execution_count": 90,
   "id": "fa1b3893",
   "metadata": {},
   "outputs": [
    {
     "name": "stdout",
     "output_type": "stream",
     "text": [
      "[21, 15, 37]\n"
     ]
    }
   ],
   "source": [
    "l=[(1, 20), (2, 13), (33, 4)]\n",
    "r=[sum(x) for x in l]\n",
    "print(r)\n"
   ]
  },
  {
   "cell_type": "markdown",
   "id": "2205b910",
   "metadata": {},
   "source": [
    "# Ex. 07 - List of tuples conversion\n",
    "Write a Python program to convert a given list of tuples to a list of lists."
   ]
  },
  {
   "cell_type": "markdown",
   "id": "2859f8f6",
   "metadata": {},
   "source": [
    "## Example\n",
    "- Original list: `[(1, 2), (2, 3), (3, 4)]`\n",
    "- Final result: `[[1, 2], [2, 3], [3, 4]]`"
   ]
  },
  {
   "cell_type": "code",
   "execution_count": 91,
   "id": "8d441c0b",
   "metadata": {},
   "outputs": [
    {
     "name": "stdout",
     "output_type": "stream",
     "text": [
      "[[1, 2], [2, 3], [3, 4]]\n"
     ]
    }
   ],
   "source": [
    "l1=[(1, 2), (2, 3), (3, 4)]\n",
    "\n",
    "l1= [list(x) for x in l1]\n",
    "print(l1)"
   ]
  }
 ],
 "metadata": {
  "kernelspec": {
   "display_name": "Python 3 (ipykernel)",
   "language": "python",
   "name": "python3"
  },
  "language_info": {
   "codemirror_mode": {
    "name": "ipython",
    "version": 3
   },
   "file_extension": ".py",
   "mimetype": "text/x-python",
   "name": "python",
   "nbconvert_exporter": "python",
   "pygments_lexer": "ipython3",
   "version": "3.9.6"
  }
 },
 "nbformat": 4,
 "nbformat_minor": 5
}
