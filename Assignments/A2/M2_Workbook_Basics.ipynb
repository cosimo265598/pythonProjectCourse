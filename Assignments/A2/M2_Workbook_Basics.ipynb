{
 "cells": [
  {
   "cell_type": "markdown",
   "id": "0fad8b08-f2c5-44ec-88bf-69ac8224b25c",
   "metadata": {
    "id": "0fad8b08-f2c5-44ec-88bf-69ac8224b25c"
   },
   "source": [
    "# Ex. 01 - List creation\n",
    "Create a list of all the numbers between $0$ and $100$ that are divisible by $7$.\n",
    "\n",
    "Perform the same task writing an appropriate function in order to parametrize the numbers range and the target factor. Let the default values for those parameters be the values proposed in the first version of this exercise."
   ]
  },
  {
   "cell_type": "code",
   "execution_count": 4,
   "id": "b4b17a50",
   "metadata": {},
   "outputs": [
    {
     "name": "stdout",
     "output_type": "stream",
     "text": [
      "[0, 7, 14, 21, 28, 35, 42, 49, 56, 63, 70, 77, 84, 91, 98]\n"
     ]
    }
   ],
   "source": [
    "l=[ val for val in range(101) if val%7==0 ] \n",
    "print(l)"
   ]
  },
  {
   "cell_type": "markdown",
   "id": "df3bb99a-732f-440b-8525-6459ecc8d460",
   "metadata": {
    "id": "df3bb99a-732f-440b-8525-6459ecc8d460"
   },
   "source": [
    "## Hints\n",
    "- Try to use list comprehensions"
   ]
  },
  {
   "cell_type": "markdown",
   "id": "8a64af1b",
   "metadata": {
    "id": "8a64af1b"
   },
   "source": [
    "# Ex. 02 - List reverse\n",
    "Use a list to invert the words in a sentence.\n",
    "\n",
    "Try different approaches, such as slicing, `reverse()`, `reversed()`, recursion (if you are familiar with the topic), etc. \n",
    "\n",
    "Evaluate the efficiency of the various approach both in terms of time and memory, using *long* phrases."
   ]
  },
  {
   "cell_type": "code",
   "execution_count": 9,
   "metadata": {},
   "outputs": [
    {
     "name": "stdout",
     "output_type": "stream",
     "text": [
      "timer:  7.357698900000003\n",
      "timer:  7.350515800000011\n",
      "timer:  7.8638467000000105\n"
     ]
    }
   ],
   "source": [
    "from timeit import Timer\n",
    "\n",
    "sentence= \"\"\"\n",
    "Lorem ipsum dolor sit amet, consectetur adipiscing elit. Mauris molestie cursus urna id auctor. Morbi pretium nunc at purus volutpat aliquet. Aenean non elementum lorem, quis malesuada mi. Cras venenatis eros vitae blandit commodo. Maecenas varius rhoncus risus vel vestibulum. Nulla dignissim sed nunc sed rutrum. Suspendisse orci ex, varius vitae sagittis non, accumsan ultrices eros. Vestibulum ante ipsum primis in faucibus orci luctus et ultrices posuere cubilia curae; Aenean eget massa eget mi aliquam sodales. Curabitur aliquet erat id eros varius porta. In placerat mauris nec nunc blandit, elementum convallis tortor luctus. Sed convallis massa sem, id fermentum lectus rutrum sed. Mauris rutrum dolor congue tortor rhoncus, eget porta ante tristique. Duis dolor ipsum, facilisis non auctor nec, ornare sed enim.\n",
    "\"\"\"\n",
    "\n",
    "def test_0():\n",
    "    r=sentence.split(' ')[::-1]\n",
    "    #print(r)\n",
    "    #print(' '.join(r))\n",
    "\n",
    "def test_1():\n",
    "    r=sentence.split(' ')\n",
    "    r.reverse()\n",
    "    #print(r)\n",
    "\n",
    "def test_2():\n",
    "    r=reversed(sentence.split(' '))\n",
    "    #print(r)\n",
    "\n",
    "\n",
    "for i in range(3):\n",
    "    t=Timer(f\"test_{i}()\",f\"from __main__ import test_{i}\")\n",
    "    print(\"timer: \",t.timeit())\n",
    "\n"
   ]
  },
  {
   "cell_type": "markdown",
   "id": "37edc08c",
   "metadata": {
    "id": "37edc08c"
   },
   "source": [
    "## Hints\n",
    "- You can use a [Lorem Ipsum](https://www.lipsum.com/) generator to create a long list of words with ease\n",
    "\n",
    "## Example\n",
    "- input `This is a sentence written left to right` \n",
    "- output `right to left written sentence a is This`"
   ]
  },
  {
   "cell_type": "markdown",
   "id": "be8accf2",
   "metadata": {
    "id": "be8accf2"
   },
   "source": [
    "# Ex. 03 - Maximum and minimum `K` elements in tuple\n",
    "Find the `K` largest and smallest elements in a tuple. Store the result in a new tuple.\n",
    "## Example 1\n",
    "- `tup = (1, 2, 3 ,4, 5)`\n",
    "- `K = 1`\n",
    "- `Out = (1,5)`\n",
    "\n",
    "## Example 2\n",
    "- `tup = (1, 2, 3 ,4, 5, 7, 8)`\n",
    "- `K = 2`\n",
    "- `Out = (1,2,4,5)`"
   ]
  },
  {
   "cell_type": "code",
   "execution_count": 36,
   "id": "d6a931be",
   "metadata": {},
   "outputs": [
    {
     "name": "stdout",
     "output_type": "stream",
     "text": [
      "(1, 675)\n"
     ]
    }
   ],
   "source": [
    "\n",
    "def Ke_simo(t: tuple, K: int):\n",
    "    sort=sorted(t)\n",
    "    new_t = tuple(sort[:K]+sort[-K:])\n",
    "    return new_t\n",
    "\n",
    "t=(6,35,675,234,34,5,6,7,34,1,25,65,4,5,10)\n",
    "K=1\n",
    "print(Ke_simo(t,K))"
   ]
  },
  {
   "cell_type": "markdown",
   "id": "6940bfc2",
   "metadata": {
    "id": "6940bfc2"
   },
   "source": [
    "## Hints\n",
    "- The resulting tuple may have less that $2\\times K$ elements."
   ]
  },
  {
   "cell_type": "markdown",
   "id": "fe267f1e",
   "metadata": {
    "id": "fe267f1e"
   },
   "source": [
    "# Ex. 04 - Sort tuples by total number of digits\n",
    "Given a list of tuples, sort them in ascending order according to total numer of digits appearing in each tuple."
   ]
  },
  {
   "cell_type": "markdown",
   "id": "db35833f",
   "metadata": {
    "id": "db35833f"
   },
   "source": [
    "## Example\n",
    "* `Input = [(3, 4, 6, 723), (1, 2), (134, 234, 34)]`\n",
    "* `Output = [(1, 2), (3, 4, 6, 723), (134, 234, 34)]`"
   ]
  },
  {
   "cell_type": "code",
   "execution_count": 46,
   "id": "14a8bf24",
   "metadata": {},
   "outputs": [
    {
     "name": "stdout",
     "output_type": "stream",
     "text": [
      "[(1, 2), (134, 234, 34), (3, 4, 6, 723)]\n",
      "[(1, 2), (134, 234, 34), (3, 4, 6, 723)]\n"
     ]
    }
   ],
   "source": [
    "def keyToSort(e):\n",
    "    return len(e)\n",
    "\n",
    "i=[(3, 4, 6, 723), (1, 2), (134, 234, 34)]\n",
    "\n",
    "result= sorted(i,key=len)   \n",
    "print(result)\n",
    "\n",
    "\n",
    "result= sorted(i,key=keyToSort)   ## with compare key function\n",
    "print(result)"
   ]
  },
  {
   "cell_type": "markdown",
   "id": "e8405006",
   "metadata": {
    "id": "e8405006"
   },
   "source": [
    "# Ex. 05 - Check if a given string is a binary string or not\n",
    "Given a generic string, check whether it is a binary string, i.e., a string composed of only $1$s and $0$s or not.\n",
    "\n",
    "In case it is not a binary string, clean it removing unwanted characters, in order to make it compliant with the request."
   ]
  },
  {
   "cell_type": "markdown",
   "id": "a49bb057",
   "metadata": {
    "id": "a49bb057"
   },
   "source": [
    "## Example\n",
    "- `01010101010` $\\rightarrow$ `True`\n",
    "- `010a010b010` $\\rightarrow$ `False`"
   ]
  },
  {
   "cell_type": "code",
   "execution_count": 21,
   "id": "dcfdcdc2",
   "metadata": {},
   "outputs": [
    {
     "name": "stdout",
     "output_type": "stream",
     "text": [
      "Cleaned unwanted character=  01110100\n",
      "It's binary ?  False\n"
     ]
    }
   ],
   "source": [
    "from collections import Counter\n",
    "\n",
    "ZERO=\"0\"\n",
    "UNO=\"1\"\n",
    "VALUE=[ZERO,UNO]\n",
    "i=\"01a11010a0\"\n",
    "\n",
    "\n",
    "def fun(i:str):\n",
    "    c=Counter(i)\n",
    "    l=list(c.keys())\n",
    "    if l == VALUE:\n",
    "        return True\n",
    "    \n",
    "    print(\"Cleaned unwanted character= \",toBinary(i))\n",
    "    return False\n",
    "\n",
    "def toBinary(bin: str):\n",
    "    l=[val for val in list(i) if val in VALUE ]\n",
    "    return \"\".join(l)\n",
    "\n",
    "print(\"It's binary ? \",fun(i))\n"
   ]
  },
  {
   "cell_type": "markdown",
   "id": "2205b910",
   "metadata": {
    "id": "2205b910"
   },
   "source": [
    "# Ex. 06 - String concatenation\n",
    "Given two non-empty input strings `s1` and `s2`, generate a resulting string concatenating the characters that appears in just one string or the other, but not both."
   ]
  },
  {
   "cell_type": "markdown",
   "id": "2859f8f6",
   "metadata": {
    "id": "2859f8f6"
   },
   "source": [
    "## Example\n",
    "- `dabcde` + `dkefgh` = `abckfgh`"
   ]
  },
  {
   "cell_type": "markdown",
   "id": "ndk3mSKtKC41",
   "metadata": {
    "id": "ndk3mSKtKC41"
   },
   "source": [
    "## Hints\n",
    "- Think of which data structure may be suitable as support to solve this problem"
   ]
  },
  {
   "cell_type": "code",
   "execution_count": 33,
   "id": "10a4b9ef",
   "metadata": {},
   "outputs": [
    {
     "name": "stdout",
     "output_type": "stream",
     "text": [
      "{'f', 'h', 'k', 'b', 'g', 'a', 'c'}\n"
     ]
    }
   ],
   "source": [
    "s1=\"dabcde\"\n",
    "s2=\"dkefgh\"\n",
    "\n",
    "distinct=set(s1+s2)                     # elementi distinti\n",
    "common  =set(s1).intersection(s2)       # elementi in comune\n",
    "print(distinct.difference(common))      # quelli distinti meno quelli in comune\n",
    "\n"
   ]
  },
  {
   "cell_type": "markdown",
   "id": "j1gOrFC4Lx3M",
   "metadata": {
    "id": "j1gOrFC4Lx3M"
   },
   "source": [
    "# Ex. 07.1 - Duplicate data in two lists\n",
    "Given two input lists, find all the common items between the two."
   ]
  },
  {
   "cell_type": "markdown",
   "id": "fWmt-vg5MNb8",
   "metadata": {
    "id": "fWmt-vg5MNb8"
   },
   "source": [
    "## Example\n",
    "- `A = [\"This\", \"is\", \"the\", \"first\", \"list\"]` \n",
    "- `B = [\"And\", \"this\", \"is\", \"the\", \"second\", \"list\"]`\n",
    "- `C = [\"is\", \"the\", \"list\"]`"
   ]
  },
  {
   "cell_type": "code",
   "execution_count": 37,
   "id": "b3d0481d",
   "metadata": {},
   "outputs": [
    {
     "name": "stdout",
     "output_type": "stream",
     "text": [
      "['is', 'the', 'list']\n"
     ]
    }
   ],
   "source": [
    "A = [\"This\", \"is\", \"the\", \"first\", \"list\"]\n",
    "B = [\"And\", \"this\", \"is\", \"the\", \"second\", \"list\"]\n",
    "\n",
    "C = list(set(A).intersection(B))\n",
    "\n",
    "print(C)\n"
   ]
  },
  {
   "cell_type": "markdown",
   "id": "def6cff3-2e10-4ec4-9185-495b25df5e9d",
   "metadata": {},
   "source": [
    "# Ex. 07.2 - Duplicate data in multiple lists\n",
    "Extend the previous exercise to manage an undefined number of list. The task is still to identify the common elements among all the provided input lists."
   ]
  },
  {
   "cell_type": "code",
   "execution_count": 56,
   "id": "c3308518",
   "metadata": {},
   "outputs": [
    {
     "name": "stdout",
     "output_type": "stream",
     "text": [
      "['is', 'the', 'list']\n"
     ]
    }
   ],
   "source": [
    "# unpacking dictionary\n",
    "\n",
    "A = [\"This\", \"is\", \"the\", \"first\", \"list\"]\n",
    "B = [\"And\", \"this\", \"is\", \"the\", \"second\", \"list\"]\n",
    "C = [\"Hello\", \"is\", \"the\", \"first\", \"list\"]\n",
    "D = [\"And\", \"For\", \"is\", \"the\", \"second\", \"list\"]\n",
    "\n",
    "\n",
    "def commonValueLists(*kargs):\n",
    "    R=set(kargs[0])\n",
    "    for l in kargs:\n",
    "        R=R.intersection(l)\n",
    "\n",
    "    return list(R)\n",
    "\n",
    "print(commonValueLists(A,B))"
   ]
  },
  {
   "cell_type": "markdown",
   "id": "27c2a0d2-3c79-42bb-83de-446af76affdd",
   "metadata": {},
   "source": [
    "# Ex. 08.1 - Dictionaries merging\n",
    "Given two input dictionaries, merge them in a new one. Choose whatever strategy you deem most suitable to handle duplicate keys."
   ]
  },
  {
   "cell_type": "code",
   "execution_count": 59,
   "id": "891fcc56",
   "metadata": {},
   "outputs": [
    {
     "name": "stdout",
     "output_type": "stream",
     "text": [
      "{'one': 1, 'two': 2, 'three': -3, 'four': 4, 'five': 5}\n"
     ]
    }
   ],
   "source": [
    "# unpacking dictionary \n",
    "\n",
    "d1 = {'one': 1, 'two':2, 'three':3 }\n",
    "d2 = {'three': -3, 'four': 4, 'five':5 }\n",
    "dtot={**d1,**d2}\n",
    "\n",
    "print(dtot)"
   ]
  },
  {
   "cell_type": "markdown",
   "id": "1d78f04e-c5f7-4128-82b5-fa139dab3398",
   "metadata": {},
   "source": [
    "# Ex. 08.2 - Multiple Dictionaries merging\n",
    "Extend the previous exercise to manage an undefined number of input dictionaries, to be merged in a new one. Choose whatever strategy you deem most suitable to handle duplicate keys."
   ]
  },
  {
   "cell_type": "code",
   "execution_count": 67,
   "id": "9b548189",
   "metadata": {},
   "outputs": [
    {
     "name": "stdout",
     "output_type": "stream",
     "text": [
      "{'one': 1, 'two': 2, 'three': -3, 'four': 4, 'five': 9, 'ten': 4, 'eleven': 11, 'six': 6}\n"
     ]
    }
   ],
   "source": [
    "# unpacking dictionary \n",
    "\n",
    "d1 = {'one': 1, 'two':2, 'three':3 }\n",
    "d2 = {'three': -3, 'four': 4, 'five':5 }\n",
    "d3 = {'three': -3, 'four': 4, 'five':5 }\n",
    "d4 = {'three': 7, 'ten': 4, 'eleven':11 }\n",
    "d5 = {'three': 8, 'four': 4, 'five':5 ,'six':6}\n",
    "d6 = {'three': -3, 'four': 4, 'five':9 }\n",
    "\n",
    "def commonValueLists(*kargs):\n",
    "    R=kargs[0]\n",
    "    for l in kargs:\n",
    "        R={**R,**l}\n",
    "\n",
    "    return R\n",
    "\n",
    "\n",
    "print(commonValueLists(d1,d2,d2,d3,d4,d5,d6))"
   ]
  },
  {
   "cell_type": "markdown",
   "id": "d92934e4-1855-4ff4-a083-1971962e658c",
   "metadata": {},
   "source": [
    "# Ex. 9 - Basic calculus\n",
    "Define a mathematical function of choice and evaluate it on a given range of values with a given step. \n",
    "Store the results into an appropriate data structures and evaluate some statistics, such as min, max, average, on the computed values.\n",
    "\n",
    "## Hints\n",
    "- Define the domain range exploiting comprehension\n",
    "- Remember that `range()` only accepts integer values, but we may be interested in more fine grained ranges"
   ]
  },
  {
   "cell_type": "code",
   "execution_count": 93,
   "id": "30f5b5ea",
   "metadata": {},
   "outputs": [
    {
     "name": "stdout",
     "output_type": "stream",
     "text": [
      "List: [1, 1.2, 1.4, 1.5999999999999999, 1.7999999999999998, 1.9999999999999998, 2.1999999999999997, 2.4, 2.6, 2.8000000000000003, 3.0000000000000004, 3.2000000000000006, 3.400000000000001, 3.600000000000001, 3.800000000000001, 4.000000000000001, 4.200000000000001, 4.400000000000001, 4.600000000000001, 4.800000000000002, 5.000000000000002, 5.200000000000002, 5.400000000000002, 5.600000000000002, 5.8000000000000025, 6.000000000000003, 6.200000000000003, 6.400000000000003, 6.600000000000003, 6.800000000000003, 7.0000000000000036, 7.200000000000004, 7.400000000000004, 7.600000000000004, 7.800000000000004, 8.000000000000004, 8.200000000000003, 8.400000000000002, 8.600000000000001, 8.8, 9.0, 9.2, 9.399999999999999, 9.599999999999998, 9.799999999999997, 9.999999999999996] \n",
      " Sum: 253.00000000000006 \n",
      " Min: 1 \n",
      " Max: 9.999999999999996 \n"
     ]
    }
   ],
   "source": [
    "def rangeSteps(start : int ,stop : int , step : float):\n",
    " \n",
    "    def calculation(start):\n",
    "        while start < stop:\n",
    "            yield start\n",
    "            start += step\n",
    "\n",
    "    return [e for e in calculation(start)]\n",
    "\n",
    "    \n",
    "tot=rangeSteps(1,10,0.2)\n",
    "s=sum(tot)\n",
    "m=max(tot)\n",
    "mi=min(tot)\n",
    " \n",
    "print(f\"List: {tot} \\n Sum: {s} \\n Min: {mi} \\n Max: {m} \")\n",
    "\n",
    "\n",
    "\n",
    "\n"
   ]
  }
 ],
 "metadata": {
  "colab": {
   "name": "M2_Workbook_Basics.ipynb",
   "provenance": []
  },
  "kernelspec": {
   "display_name": "Python 3 (ipykernel)",
   "language": "python",
   "name": "python3"
  },
  "language_info": {
   "codemirror_mode": {
    "name": "ipython",
    "version": 3
   },
   "file_extension": ".py",
   "mimetype": "text/x-python",
   "name": "python",
   "nbconvert_exporter": "python",
   "pygments_lexer": "ipython3",
   "version": "3.9.6"
  }
 },
 "nbformat": 4,
 "nbformat_minor": 5
}
