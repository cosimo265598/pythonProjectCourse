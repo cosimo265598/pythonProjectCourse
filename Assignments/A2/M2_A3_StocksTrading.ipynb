{
 "cells": [
  {
   "cell_type": "markdown",
   "id": "9e18b2d8-29d3-42b4-aa63-a5aa49dd5956",
   "metadata": {},
   "source": [
    "# Titles trading\n",
    "We want to manage a simplified trading market in which we have to keep tracks of stock titles and buy/sell operations.\n",
    "Each stock title is uniquely identified by an alphanumerical code. Each trading operation is characterized by the number of stocks of a given title effectively bought (or sold), the date/time of the operation and the price per stock.\n",
    "We are interested in keeping tracks of all the transactions for each title, the min/max/average stock price for a title in a given date and the overall number of stocks sold of a title in each date.\n",
    "Write a program taking into account the following tasks:\n",
    "- Devise an appropriate way to organize data in memory\n",
    "- Read titles and stock trades either from file or command line\n",
    "- Write a program that supports updating the available information introducing new titles, registering new operations and updating in turn the statistical values collected for each title.\n",
    "\n",
    "## Format example\n",
    "- The Google title is uniquely identified by the id `GOOG`\n",
    "- A trading operations representing a buy operation of a number of Google stocks at a given price at a given moment in time could be represented as `GOOG BUY <num_stocks> <price_per_stock> <YYYY/MM/DD> <HH:mm:ss>` "
   ]
  },
  {
   "cell_type": "code",
   "execution_count": null,
   "id": "f5d59707-9cf2-4dfa-b324-6eaa9b52987e",
   "metadata": {},
   "outputs": [],
   "source": []
  }
 ],
 "metadata": {
  "kernelspec": {
   "display_name": "Python 3 (ipykernel)",
   "language": "python",
   "name": "python3"
  },
  "language_info": {
   "codemirror_mode": {
    "name": "ipython",
    "version": 3
   },
   "file_extension": ".py",
   "mimetype": "text/x-python",
   "name": "python",
   "nbconvert_exporter": "python",
   "pygments_lexer": "ipython3",
   "version": "3.9.7"
  }
 },
 "nbformat": 4,
 "nbformat_minor": 5
}
