{
 "cells": [
  {
   "cell_type": "markdown",
   "id": "0fad8b08-f2c5-44ec-88bf-69ac8224b25c",
   "metadata": {},
   "source": [
    "# Ex. 01 - Custom cryptography\n",
    "Write a program that that offers both encoding and decoding functionalities over textual data.\n",
    "The desired encoding algorithm operates by simple substitution, mapping one character to one another according to a given cipher.\n",
    "\n",
    "For instance, take into account the following cipher. Any character not considered in the set of matches, is left unchanged by the algorithm.\n",
    "Feel free to play with the cipher, but make sure matches are non-ambiguous: we need to be able to perform both encoding and decoding.\n",
    "\n",
    "| 1 | 2 | 3 | 4 | 5 | a | e | i | o | u |\n",
    "|---|---|---|---|---|---|---|---|---|---|\n",
    "| 3 | 5 | 1 | 2 | 4 | e | i | u | a | o |\n",
    "\n",
    "## Examples\n",
    "- `hello 123` becomes `hilla 351`\n",
    "- `900 minus 600 is 300` becomes `900 munos 600 is 100`\n",
    "\n",
    "## Hints\n",
    "- Consider which data structure, if any, could be most suitable to store our cipher\n",
    "- Consider which data structure, if any, could be most suitable to store our input and output data."
   ]
  },
  {
   "cell_type": "code",
   "execution_count": 44,
   "metadata": {},
   "outputs": [
    {
     "name": "stdout",
     "output_type": "stream",
     "text": [
      "('hilla 351', '900 munos 600 us 100')\n"
     ]
    }
   ],
   "source": [
    "cypher={\n",
    "    '1':'3',\n",
    "    '2':'5',\n",
    "    '3':'1',\n",
    "    '4':'2',\n",
    "    '5':'4',\n",
    "    'a':'e',\n",
    "    'e':'i',\n",
    "    'i':'u',\n",
    "    'o':'a',\n",
    "    'u':'o'\n",
    "}\n",
    "\n",
    "\n",
    "def encrypt(cypher: dict, *list_sentence: str):\n",
    "    return tuple((( ''.join([ cypher.get(char,char) for char in  sentence]) for sentence in list_sentence )))\n",
    "\n",
    "\n",
    "\n",
    "s1=\"hello 123\"\n",
    "s2=\"900 minus 600 is 300\"\n",
    "\n",
    "print(encrypt(cypher,s1,s2))\n"
   ]
  },
  {
   "cell_type": "markdown",
   "id": "88085ce9-af5c-4211-8cc0-c4b29668761a",
   "metadata": {},
   "source": [
    "# Ex. 02 - Scrambled words\n",
    "Write a program that will scramble each word of a text given as argument or read from a file. Scrambling applies only to words of at least length four and it modifies only the letters in the middle of the word: the first and last letter must always remain the same.\n",
    "\n",
    "> Aoccdrnig to a rscheearch at Cmabrigde Uinervtisy, it deosn’t mttaer in waht oredr the ltteers in a wrod are, the olny iprmoetnt tihng is taht the frist and lsat ltteer be at the rghit pclae. The rset can be a toatl mses and you can sitll raed it wouthit porbelm. Tihs is bcuseae the huamn mnid deos not raed ervey lteter by istlef, but the wrod as a wlohe.\n",
    "\n",
    "## Hints\n",
    "- We can use a regular expression to split text into words\n",
    "- We can use the `random.shuffle()` function to shuffle a list"
   ]
  },
  {
   "cell_type": "code",
   "execution_count": 1,
   "metadata": {},
   "outputs": [
    {
     "data": {
      "text/plain": [
       "'Wtire pogarrm taht wlil scrbmale each word txet gvein aermngut read form flie Siacmnblrg apeipls only wdros least lnegth four mdiieofs olny ltretes mldide wrod first lsat lteter msut awlays raimen same'"
      ]
     },
     "execution_count": 1,
     "metadata": {},
     "output_type": "execute_result"
    }
   ],
   "source": [
    "import re\n",
    "import random\n",
    "\n",
    "\n",
    "s=\"\"\"Write a program that will scramble each word of a text given as argument or read from a file. Scrambling applies only to words of at least length four and it modifies only the letters in the middle of the word: the first and last letter must always remain the same.\"\"\"\n",
    "SIZE=4\n",
    "\n",
    "def checkLen(s:str):\n",
    "    return len(s)>=SIZE\n",
    "\n",
    "def shuffle(st:str):\n",
    "    mid=list(st)\n",
    "    random.shuffle(mid)\n",
    "    return ''.join(mid)\n",
    "\n",
    "def shuffleString(sentence:str):\n",
    "    pattern = r'\\W+'\n",
    "    words = re.split(pattern, sentence)\n",
    "    result=[]\n",
    "\n",
    "    for word in words:\n",
    "        if checkLen(word):\n",
    "            f, *middle, l=word\n",
    "            word=f+''.join(shuffle(middle))+l\n",
    "            result.append(word)\n",
    "\n",
    "    return ' '.join([word for word in result])\n",
    "    \n",
    "\n",
    "shuffleString(s)\n",
    "\n",
    "\n"
   ]
  },
  {
   "cell_type": "markdown",
   "id": "2342749f-9f87-4f4c-bf21-7950a5ac9f4c",
   "metadata": {},
   "source": [
    "# Ex. 03.1 - Very strong passwords\n",
    "Password strength is a very pressing security issue. Let's write a program capable of generating password according to a very basic rule: create a long password by joining some common words together (bonus: [Relevant XKCD](https://xkcd.com/936)).\n",
    "\n",
    "Our passwords generator shall read an input file containing le list of words we are willing to choose from and then randomly select some to generate our new password. On UNIX machines, we can find a list of common words under `/usr/share/dict/words` or `/usr/dict/words`. If those are unavailable, a sample list of words is hosted here (http://www.cs.duke.edu/~ola/ap/linuxwords). Another source of words in English is available [here](https://www-personal.umich.edu/~jlawler/wordlist).\n",
    "\n",
    "Password generation must be parametrized taking into account the following criteria:\n",
    "- Number of choosen words\n",
    "- Minimum and maximum length for a given choosen word\n",
    "- Minimum and maximum length for the overall password"
   ]
  },
  {
   "cell_type": "code",
   "execution_count": 78,
   "id": "900d8401",
   "metadata": {},
   "outputs": [
    {
     "name": "stdout",
     "output_type": "stream",
     "text": [
      "utalebenlf\n"
     ]
    }
   ],
   "source": [
    "import itertools\n",
    "\n",
    "WORDS=3\n",
    "WMIN,WMAX=1,5\n",
    "OVERALL_MIN,OVERALL_MAX=5,10\n",
    "\n",
    "passwords=dict()\n",
    "\n",
    "\n",
    "def readDictinaryPassword(filename:str):\n",
    "    with open(filename,\"r\") as f:\n",
    "        for line in f.readlines():\n",
    "            words=line.strip()\n",
    "            if len(words) not in passwords:\n",
    "                passwords[len(words)]=[words]\n",
    "            else:\n",
    "                passwords[len(words)].append(words)\n",
    "\n",
    "\n",
    "def generatePassword():\n",
    "    if not OVERALL_MIN>=WMIN*WORDS :\n",
    "        return \"NO PASSWORD WITH THAT CONSTRAINT\"\n",
    "    l=[passwords.get(i,[]) for i in range(WMIN,WMAX+1)]\n",
    "    flat_list=list(itertools.chain(*l))\n",
    "    \n",
    "    e=random.sample(flat_list,WORDS)\n",
    "    while not (len(''.join(e))>=OVERALL_MIN and len(''.join(e))<= OVERALL_MAX):\n",
    "        e=random.sample(flat_list,WORDS)\n",
    "    \n",
    "    return ''.join(e)\n",
    "    \n",
    "\n",
    "readDictinaryPassword(\"listpaswd.txt\")\n",
    "your_password=generatePassword()\n",
    "print(your_password)\n",
    "\n"
   ]
  },
  {
   "cell_type": "markdown",
   "id": "d9808fc4-0780-4288-9ec4-4b29b7dcda5d",
   "metadata": {},
   "source": [
    "# Ex. 03.2 - Very strong passwords (133t)\n",
    "It is quite common for a password to require numbers and special characters in addition to alphabetic characters. Include an additional function at the end of the password generation phase of Ex 03.1 to remap some of its character to a different value in order to make the password more robust: e.g., change all the `o` characters to `0` and all `a` to `@`. Note that you can use a substitution cipher similar to the one used in Ex. 01."
   ]
  },
  {
   "cell_type": "code",
   "execution_count": 80,
   "id": "e61e417c",
   "metadata": {},
   "outputs": [
    {
     "name": "stdout",
     "output_type": "stream",
     "text": [
      "ut@1eben1f\n"
     ]
    }
   ],
   "source": [
    "cypher={\n",
    "    'o':'0',\n",
    "    'a':'@',\n",
    "    'l':'1',\n",
    "    'g':'9'\n",
    "}\n",
    "\n",
    "def makeStrong(password:str):\n",
    "    return ''.join([ cypher.get(w,w) for w in password]) \n",
    "\n",
    "strong_password=makeStrong(your_password)\n",
    "print(strong_password)"
   ]
  },
  {
   "cell_type": "markdown",
   "id": "b019ad05-835b-4203-92b2-24808e327c26",
   "metadata": {},
   "source": [
    "# Ex. 03.3 - Very strong passwords (custom vocabulary)\n",
    "Rather than acquiring a list of preset words, let the program parse one or more text files in order to collect words. Make sure that at the end of the collection phase, all the retrieved words are unique in the collection.\n",
    "For instance it is possible to use Shakespeare's sonnets as inputs, which can be found in the [Internet Archive](https://archive.org/details/shakespearessonn01041gut). Any other public domain corpus would be suitable as well (see [Project Gutenberg](https://archive.org/details/gutenberg))."
   ]
  },
  {
   "cell_type": "code",
   "execution_count": 6,
   "id": "4388a55e",
   "metadata": {},
   "outputs": [
    {
     "name": "stdout",
     "output_type": "stream",
     "text": [
      "Password longset5\n",
      "Strong passowrd: 10n9set5\n"
     ]
    }
   ],
   "source": [
    "import re,random\n",
    "import itertools\n",
    "\n",
    "WORDS=3\n",
    "WMIN,WMAX=1,5\n",
    "OVERALL_MIN,OVERALL_MAX=5,10\n",
    "\n",
    "passwords=dict()\n",
    "\n",
    "file1=\"text1.txt\"\n",
    "file2=\"text2.txt\"\n",
    "outputfile=\"output.txt\"\n",
    "\n",
    "\n",
    "\n",
    "def veryStrongPassword(*files_name):\n",
    "    pattern = r'\\W+'\n",
    "    words=set()\n",
    "    out=open(outputfile,\"w\")\n",
    "\n",
    "    for file in files_name:\n",
    "        with open(file,\"r\") as f:\n",
    "            l=[ filter(None, re.split(pattern, row.lower().strip())) for row in f.readlines() ]\n",
    "            merged = set(itertools.chain(*l))\n",
    "            f.close()\n",
    "        words.update(merged)\n",
    "    out.writelines('\\n'.join(words))  \n",
    "\n",
    "\n",
    "def readDictinaryPassword(filename:str):\n",
    "    with open(filename,\"r\") as f:\n",
    "        for line in f.readlines():\n",
    "            words=line.strip()\n",
    "            if len(words) not in passwords:\n",
    "                passwords[len(words)]=[words]\n",
    "            else:\n",
    "                passwords[len(words)].append(words)\n",
    "\n",
    "\n",
    "def generatePassword():\n",
    "    if not OVERALL_MIN>=WMIN*WORDS :\n",
    "        return \"NO PASSWORD WITH THAT CONSTRAINT\"\n",
    "    l=[passwords.get(i,[]) for i in range(WMIN,WMAX+1)]\n",
    "    flat_list=list(itertools.chain(*l))\n",
    "    \n",
    "    e=random.sample(flat_list,WORDS)\n",
    "    while not (len(''.join(e))>=OVERALL_MIN and len(''.join(e))<= OVERALL_MAX):\n",
    "        e=random.sample(flat_list,WORDS)\n",
    "    \n",
    "    return ''.join(e)\n",
    "    \n",
    "\n",
    "\n",
    "\n",
    "\n",
    "veryStrongPassword(file1,file2)\n",
    "\n",
    "readDictinaryPassword(\"output.txt\")\n",
    "your_password=generatePassword()\n",
    "print(\"Password \"+your_password)\n",
    "\n",
    "cypher={\n",
    "    'o':'0',\n",
    "    'a':'@',\n",
    "    'l':'1',\n",
    "    'g':'9'\n",
    "}\n",
    "\n",
    "def makeStrong(password:str):\n",
    "    return ''.join([ cypher.get(w,w) for w in password]) \n",
    "\n",
    "strong_password=makeStrong(your_password)\n",
    "print(\"Strong passowrd: \"+strong_password)\n"
   ]
  },
  {
   "cell_type": "markdown",
   "id": "93c1011e-287e-4d28-8634-b177bec97924",
   "metadata": {},
   "source": [
    "# Ex. 04 - Outliers\n",
    "When analysing data collected as part of a science experiment it may be desirable to remove outliers before performing other calculations. \n",
    "Write a function that takes a sequence of values and an non-negative integer `n` as parameters. The function shall create and return  a new copy of the list with the `n` largest elements and the `n` smallest elements removed. \n",
    "\n",
    "## Hints\n",
    "- The order of the items in the returned list does not have to match the original one\n",
    "- It would be beneficial to handle appropriate corner cases, such as a value of `n` incompatible with the sequence length"
   ]
  },
  {
   "cell_type": "code",
   "execution_count": 39,
   "id": "fce4484b",
   "metadata": {},
   "outputs": [
    {
     "name": "stdout",
     "output_type": "stream",
     "text": [
      "[74, 78, 93, 102, 104, 105, 114, 116, 117, 128, 147, 147, 155, 156, 167, 191, 207, 238, 239, 243, 249, 267, 267, 267, 270, 274, 288, 315, 328, 334, 353, 357, 358, 360, 391, 404, 409, 412, 415, 418, 418, 419, 470, 488, 501, 502, 503, 529, 553, 557, 560, 600, 606, 630, 640, 642, 643, 648, 681, 702, 706, 711, 724, 738, 743, 748, 752, 755, 757, 759, 760, 784, 789, 796, 797, 808, 813, 820, 829, 848, 859, 870, 872, 901, 915, 925, 928, 930, 940, 952]\n"
     ]
    }
   ],
   "source": [
    "import random\n",
    "N=5\n",
    "test_values=[ random.randint(0,1000) for _ in range(100) ]\n",
    "\n",
    "def outliers(values:list, n:int):\n",
    "    to_remove=list()\n",
    "    s=sorted(values)\n",
    "    for _ in range(N):\n",
    "        if len(s)< 1:\n",
    "            return []\n",
    "        minimo=min(s)\n",
    "        maximo=max(s)\n",
    "        s=sorted(filter((maximo).__ne__ ,s))\n",
    "        s=sorted(filter((minimo).__ne__ ,s))\n",
    "    return s\n",
    "\n",
    "out=outliers(test_values,N)\n",
    "print(out)"
   ]
  },
  {
   "cell_type": "markdown",
   "id": "e222d4b0-a2fc-47ad-aede-b84081c6f388",
   "metadata": {},
   "source": [
    "# Ex. 05 - Linear best-fit\n",
    "A line of best-fit is a straight line that best approximates a collection of `n` data points. We are interested in points in the two-dimensional plane.\n",
    "The target function represented by the equation $y = mx + b$ where $m$ and $b$ are calculated using the following formulas:\n",
    "$$\n",
    "b = \\bar{y} - m \\bar{x}\n",
    "$$\n",
    "$$\n",
    "m = \\frac{\\sum xy-\\frac{\\sum x \\sum y}{n}}{\\sum x^2-\\frac{(\\sum x)^2}{n}}\n",
    "$$\n",
    "Write a program that reads a collection of points and iteratively evaluates $m$ and $b$ as new points are discovered."
   ]
  },
  {
   "cell_type": "markdown",
   "id": "45e10721-9590-4480-9084-9bfe7df0fded",
   "metadata": {},
   "source": [
    "# Ex. 06 - n-dice simulation\n",
    "Write a program to simulate empirically the expeted results of rolling `n` dice a parametrized number of times `r`.\n",
    "The program should iteratively count and update the number of times that each total occurs. \n",
    "Then it should display a table that summarizes collected data, showing both the empirical frequency for each roll as well as displaying the percentage expected by probability theory for each total.\n",
    "\n",
    "## Example\n",
    "Considering the values `n=2` and `r=1000` we could obtain something in line with:\n",
    "\n",
    "| Sum | %Simulated | %Expected |\n",
    "|-----|------------|-----------|\n",
    "| 2   | 2.61       | 2.78      |\n",
    "| 3   | 6.89       | 5.56      |\n",
    "| 4   | 7.21       | 8.33      |\n",
    "| ... | ...        | ...       |"
   ]
  }
 ],
 "metadata": {
  "kernelspec": {
   "display_name": "Python 3 (ipykernel)",
   "language": "python",
   "name": "python3"
  },
  "language_info": {
   "codemirror_mode": {
    "name": "ipython",
    "version": 3
   },
   "file_extension": ".py",
   "mimetype": "text/x-python",
   "name": "python",
   "nbconvert_exporter": "python",
   "pygments_lexer": "ipython3",
   "version": "3.9.6"
  }
 },
 "nbformat": 4,
 "nbformat_minor": 5
}
