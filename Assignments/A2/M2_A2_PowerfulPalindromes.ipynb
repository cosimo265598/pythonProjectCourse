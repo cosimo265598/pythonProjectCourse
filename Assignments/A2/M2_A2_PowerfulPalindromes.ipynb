{
 "cells": [
  {
   "cell_type": "markdown",
   "id": "7c7a1b43-de7a-43fb-968f-785f83abed55",
   "metadata": {},
   "source": [
    "# Powerful Palindromes\n",
    "Sorceress Zatanna, a superhero in the DC Comics lineup, was once cursed so that she could cast spells only by speaking in palindromes. It is up to you helping her creating new spells. \n",
    "A palindrome is a word, number, phrase, or other sequence of characters which reads the same backward as forward. Whole palindromic sentences can be constructed with a proper choice of words: such as \"*nurses run*\", \"*stack cats*\" or \"*Was it a car or a cat I saw?*\".\n",
    "\n",
    "Write a program taking into account the following tasks:\n",
    "1. Load in memory a corpus of words and mark each word as either palindromic or not\n",
    "        1.1 As a starting point, you can use the same word lists referenced in the Workbook of Module 2, Exercise 3.\n",
    "        1.2 You can combine multiple sources, just make sure to ensure consistency among them and filter out duplicates\n",
    "2. Write a fuction to find pairs of words that result in short palindromic phrases\n",
    "3. Extend the previous function to generate palindromic phrases using up to a given number of words\n",
    "4. Profile the functions defined at step 2) and 3) both in terms of time and memory management\n",
    "        4.1 Highlight potential bottlenecks\n",
    "        4.2 Try to come up, if possible, with an optimization of your original implementation to enhance performance"
   ]
  },
  {
   "cell_type": "code",
   "execution_count": 1,
   "id": "7dcba4e6-844f-41cb-a5e4-67e04f81952b",
   "metadata": {},
   "outputs": [
    {
     "name": "stdout",
     "output_type": "stream",
     "text": [
      "2\n",
      "MAIN SOL=  ('it', 'i')\n",
      "MAIN SOL=  ('stack', 'cats')\n",
      "MAIN SOL=  ('was', 'saw')\n",
      "MAIN SOL=  ('saw', 'was')\n",
      "MAIN SOL=  ('nurses', 'run')\n",
      "3\n",
      "MAIN SOL=  ('was', 'a', 'saw')\n",
      "MAIN SOL=  ('was', 'i', 'saw')\n",
      "MAIN SOL=  ('saw', 'a', 'was')\n",
      "MAIN SOL=  ('saw', 'i', 'was')\n",
      "4\n",
      "MAIN SOL=  ('it', 'a', 'cat', 'i')\n",
      "MAIN SOL=  ('was', 'it', 'i', 'saw')\n",
      "MAIN SOL=  ('was', 'stack', 'cats', 'saw')\n",
      "MAIN SOL=  ('was', 'nurses', 'run', 'saw')\n",
      "MAIN SOL=  ('saw', 'it', 'i', 'was')\n",
      "MAIN SOL=  ('saw', 'stack', 'cats', 'was')\n",
      "MAIN SOL=  ('saw', 'nurses', 'run', 'was')\n",
      "5\n",
      "6\n",
      "MAIN SOL=  ('was', 'it', 'a', 'cat', 'i', 'saw')\n",
      "MAIN SOL=  ('saw', 'it', 'a', 'cat', 'i', 'was')\n",
      "7\n",
      "8\n",
      "9\n"
     ]
    }
   ],
   "source": [
    "#import copy\n",
    "from itertools import permutations\n",
    "\n",
    "st1=\"nurses run\"\n",
    "st2=\"stack cats\"\n",
    "st3=\"was it a car or a cat I saw\"\n",
    "\n",
    "lst={\n",
    "    \"nurses\",\n",
    "    \"it\",\n",
    "    \"a\",\n",
    "    \"car\",\n",
    "    \"or\",\n",
    "    \"cat\",\n",
    "    \"run\",\n",
    "    \"stack\",\n",
    "    \"cats\",\n",
    "    \"was\",\n",
    "    \"i\",\n",
    "    \"saw\"\n",
    "}\n",
    "\n",
    "\n",
    "def palindromes(sentence:str):\n",
    "    readSxToDx=sentence.replace(\" \",\"\")\n",
    "    readDxToSx=sentence[::-1].replace(\" \",\"\")\n",
    "    return readDxToSx==readSxToDx\n",
    "\n",
    "def findSentenceWords(words:set=None,num_words:int=2):\n",
    "    output=[ pair for pair in list(permutations(words,r=num_words)) if palindromes(''.join(pair)) ]\n",
    "    return output\n",
    "\n",
    "\n",
    "#def recursiveSentence(lst:set,container:set):\n",
    "#    for ele in lst:\n",
    "#        #print(ele)\n",
    "#        if ele not in container:\n",
    "#            container.add(ele)\n",
    "#            #print(container)\n",
    "#            for pair in findSentenceWords(container,None):\n",
    "#                print(\"SOL= \",pair)\n",
    "#                recursiveSentence(lst,container)\n",
    "#            container.remove(ele)\n",
    "\n",
    "\n",
    "for n in range(2,len(lst)):\n",
    "    print(n)\n",
    "    for pair in findSentenceWords(lst,n):\n",
    "        print(\"MAIN SOL= \",pair)\n",
    "    #recursiveSentence(lst,set(pair))\n"
   ]
  }
 ],
 "metadata": {
  "interpreter": {
   "hash": "544ee7c543f0408712405a0d707d2c8ee85e48269dc9e203eb136c867a37bf91"
  },
  "kernelspec": {
   "display_name": "Python 3.9.6 64-bit",
   "language": "python",
   "name": "python3"
  },
  "language_info": {
   "codemirror_mode": {
    "name": "ipython",
    "version": 3
   },
   "file_extension": ".py",
   "mimetype": "text/x-python",
   "name": "python",
   "nbconvert_exporter": "python",
   "pygments_lexer": "ipython3",
   "version": "3.9.6"
  }
 },
 "nbformat": 4,
 "nbformat_minor": 5
}
