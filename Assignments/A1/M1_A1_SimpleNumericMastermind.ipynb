{
 "cells": [
  {
   "cell_type": "markdown",
   "id": "0fad8b08-f2c5-44ec-88bf-69ac8224b25c",
   "metadata": {},
   "source": [
    "# A simplified numeric Mastermind-like game\n",
    "You are to implement a deduction-based game, where the user must guess a randomly generated three-digits value according to trial and errors (and clues).\n",
    "Whenever the user try to guess the number, one (or more) of the following response is generated:\n",
    "1. `Alfa` if (at least) one correct digit is in the correct place;\n",
    "2. `Bravo` if (at least) one correct digit is in the wrong place;\n",
    "3. `Charlie` if no correct digits are present.\n",
    "\n",
    "The program provide a response for all the conditions matched by the current guess.\n",
    "The user is granted a parametrized maximum number of guesses in which he has to successfully guess the number."
   ]
  },
  {
   "cell_type": "markdown",
   "id": "c7cb7037-7f15-43ed-a816-3c1b2b3e1bb5",
   "metadata": {},
   "source": [
    "Before starting to code your solution, let's highlight a few aspects you may want to brainstorm in advance:\n",
    "- Which format is most suitable for representing the number to guess?\n",
    "- Should we handle improper user inputs? If so, which uses cases do we want to handle?\n",
    "- Which parts of the code could be factored out in separate functions?\n",
    "- How could we handle the main game-loop?"
   ]
  },
  {
   "cell_type": "code",
   "execution_count": 45,
   "id": "2a7f7a4f-90db-406b-8cf5-2ce14465545d",
   "metadata": {},
   "outputs": [
    {
     "name": "stdout",
     "output_type": "stream",
     "text": [
      "374\n",
      "Wrong input- retry\n",
      "Wrong input- retry\n",
      "Wrong input- retry\n",
      "Charlie\n",
      "Wrong input- retry\n",
      "Wrong input- retry\n",
      "Wrong input- retry\n",
      "Wrong input- retry\n",
      "Wrong input- retry\n",
      "Wrong input- retry\n",
      "The number was: 374\n"
     ]
    }
   ],
   "source": [
    "import random\n",
    "\n",
    "NUM_DIGITS = 3\n",
    "MAX_GUESSES = 10\n",
    "ALPHA=\"Apha\"\n",
    "BRAVO=\"Bravo\"\n",
    "CHRALIE=\"Charlie\"\n",
    "\n",
    "\n",
    "def menuAnswer(a):\n",
    "    if \"Apha\" in a:\n",
    "        print(\"Apha\")\n",
    "    if \"Bravo\" in a:\n",
    "        print(\"Bravo\")\n",
    "    if \"Charlie\" in a:\n",
    "        print(\"Charlie\")\n",
    "\n",
    "def genNumToGuess():\n",
    "    return random.randint(0,999)\n",
    "\n",
    "def checkNum(num,guess):\n",
    "    d={}\n",
    "    guess='{:03d}'.format(guess)\n",
    "    n='{:03d}'.format(int(num))\n",
    "    if num == guess:\n",
    "        return 0\n",
    "    else:\n",
    "        for n,m in zip(num,guess):\n",
    "            if n==m:\n",
    "                d[ALPHA]=True\n",
    "            elif n in guess:\n",
    "                d[BRAVO]=True\n",
    "        if BRAVO not in d and ALPHA not in d:\n",
    "            d[CHRALIE]=True\n",
    "        menuAnswer(d)\n",
    "    \n",
    "\n",
    "def main():\n",
    "    guess=genNumToGuess()\n",
    "    print(guess)\n",
    "    for _ in range(0,MAX_GUESSES):\n",
    "        try:\n",
    "            num=input(\"Number: \")\n",
    "            if checkNum(num,guess):\n",
    "                print (\"### GOD JOB ###\")\n",
    "                return\n",
    "        except:\n",
    "            print(\"Wrong input- retry\") \n",
    "\n",
    "    print(\"The number was: \"+str(guess))\n",
    "\n",
    "if __name__ == '__main__':\n",
    "    \"\"\"\n",
    "    Try to guess the number - 3 digit\n",
    "    \"\"\"\n",
    "    main()"
   ]
  }
 ],
 "metadata": {
  "kernelspec": {
   "display_name": "Python 3 (ipykernel)",
   "language": "python",
   "name": "python3"
  },
  "language_info": {
   "codemirror_mode": {
    "name": "ipython",
    "version": 3
   },
   "file_extension": ".py",
   "mimetype": "text/x-python",
   "name": "python",
   "nbconvert_exporter": "python",
   "pygments_lexer": "ipython3",
   "version": "3.9.6"
  }
 },
 "nbformat": 4,
 "nbformat_minor": 5
}
