{
 "cells": [
  {
   "cell_type": "markdown",
   "id": "0fad8b08-f2c5-44ec-88bf-69ac8224b25c",
   "metadata": {},
   "source": [
    "# A silly genetic algorithm\n",
    "In computer science and operations research, a genetic algorithm is a metaheuristic inspired by the process of natural selection. They are part of a larger families of algorithms known as evolutionary algorithms. Genetic algorithms rely on the existence of a candidates population that evolves in time, exploiting operators such as mutation, crossover and selection, in order to generate high-quality solutions to optimization and search problems.\n",
    "\n",
    "Genetic algorithms *optimize*, i.e., they select the best solution according to given criteria from a set of available alternatives. They efficiently search the solution space thoroughly enough to avoid picking a good answer when a better one is available. They do not perform exhaustive searches of the space, since they don't try every possible solution. They continuously grade solutions and then use them to make choices going forward. \n",
    "\n",
    "In a sense, Ex. 01 (Number guessing game) could be considered a very very simple and naive genetic algorithm. With each generated solution and each hint, we try to converge toward our target. \n",
    "\n",
    "Genetic algorithms use a *fitness function* to preserve/discard candidates in a population, and then build the next iteration of such a population according to context rules. \n",
    "\n",
    "The basic process is as follows:\n",
    "1. Randomly generate a population of solutions\n",
    "2. Measure the fitness of each solution\n",
    "3. Select the best solutions and discard the rest\n",
    "4. Cross over elements in the best solutions to make new solutions\n",
    "5. Mutate a small number of elements in the solutions by changing their value\n",
    "6. Return to step 2 and repeat until converge or halt condition.\n",
    "\n",
    "Halting conditions could either be having found a *good enough* solution or having exhausted all our resources, such as number of iterations or reaching a time deadline."
   ]
  },
  {
   "cell_type": "markdown",
   "id": "752f6c84-915c-4a04-bfca-0889844d45b7",
   "metadata": {},
   "source": [
    "## The smartest dogs in the world (sort of...)\n",
    "We strive to algorithmically generate a breed of smarter dogs, i.e., generate a population of dogs with an average smart factor higher than a given threshold, starting from a population way duller than our target. \n",
    "\n",
    "Let's say for the sake of simplicity that our population has a 50/50 male/female ratio. At each iteration crossover happens, generating new offspring. Most likely the new offspring present the same characteristics of their parents, so we apply mutation to a very limited number of them. Before moving on, we resize our population in order to keep only the smartest individuals. We make sure to keep the same initial gender ratio and the same number of initial individuals. The whole process then becomes a big repeating loop, until convergence or stop."
   ]
  },
  {
   "cell_type": "markdown",
   "id": "033deae0-e5ae-4ab5-b6ce-ac14586da98f",
   "metadata": {},
   "source": [
    "### Parametrizing our experiments\n",
    "Here follows a set of constants that we can use to determine how our algorithm will evolve. You can play with these number a see different outcomes for your runs."
   ]
  },
  {
   "cell_type": "code",
   "execution_count": 1,
   "id": "b387dc9c-07dc-4e2f-8a1d-61326502a0d5",
   "metadata": {},
   "outputs": [],
   "source": [
    "TARGET = 100 # Target \"smartness\" for our population\n",
    "POP_SIZE = 40 # The size of the population at the start of each iteration (keep this even, if you change it)\n",
    "INIT_MIN_SMART = 1 # The minimum smartness of a dog at ITER 0\n",
    "INIT_MAX_SMART = 10 # The maximum smartness of a dog at ITER 0\n",
    "INIT_MODE_SMART = 3 # The most comon smartness value of a dog at ITER 0\n",
    "MUTATE_ODDS = 0.01 # Probability of mutation for a new puppy\n",
    "MUTATE_MIN_FACTOR = 0.4 # Lower bound for the the product factor we multuply smartness for, if mutation happens\n",
    "MUTATE_MAX_FACTOR = 1.3 # Upper bound for the the product factor we multuply smartness for, if mutation happens\n",
    "LITTER_SIZE = 5 # Puppies born from each pair of adult dogs\n",
    "MAX_ITER = 1000 # Max number of iterations"
   ]
  },
  {
   "cell_type": "markdown",
   "id": "271d3f66-c3dd-42bc-a84a-89733817f1b2",
   "metadata": {},
   "source": [
    "### Generate the initial population\n",
    "We want to generate an initial population of a fixed size with a 50/50 gender split ratio, of dogs with a given initial smartness factor according to parameters. We can use the `random.triangular()` function to generate random values in a range with a skew toward a wanted mode."
   ]
  },
  {
   "cell_type": "code",
   "execution_count": 9,
   "id": "4e0c1050-55a5-42bb-8aa0-0add2fe9cf94",
   "metadata": {},
   "outputs": [],
   "source": [
    "import numpy as np\n",
    "\n",
    "def populate():\n",
    "    e=enumerate(np.random.triangular(-5, 0, 5, 5000))\n",
    "    print(e)"
   ]
  },
  {
   "cell_type": "markdown",
   "id": "bfbebc66-573e-4d0e-be39-777b3636b2ba",
   "metadata": {},
   "source": [
    "### Measure the fitness of the population\n",
    "The goodness of our population is evaluated as the average of the smartness of the individuals w.r.t. our target value. This function in used as an halting criteria for the main loop.\n",
    "We can use functions from the `statistics` module for this purpose."
   ]
  },
  {
   "cell_type": "code",
   "execution_count": null,
   "id": "5f3f261e-60a6-4de9-b8cb-b27e0a1c2570",
   "metadata": {},
   "outputs": [],
   "source": [
    "def fitness():\n",
    "    pass"
   ]
  },
  {
   "cell_type": "markdown",
   "id": "ec2035af-1d6d-4805-ba8c-705852f5f340",
   "metadata": {},
   "source": [
    "### Select the best candidates\n",
    "At each iteration, we have to resize our current population down to its initial size, preserving only the smartest dogs available for the next iteration. We have to make sure to keep also the initial gender split ratio. "
   ]
  },
  {
   "cell_type": "code",
   "execution_count": null,
   "id": "bfcb0027-07cf-462c-9492-02ea9cb6ec0d",
   "metadata": {},
   "outputs": [],
   "source": [
    "def select():\n",
    "    pass"
   ]
  },
  {
   "cell_type": "markdown",
   "id": "d9454696-735f-41b0-a946-26b904cef512",
   "metadata": {},
   "source": [
    "### Breed the next generation of dogs\n",
    "We have to generate the new offspring. As a rule, we assume that given a pair of parent dogs, a new puppy smartness will lie in that same min-max range, unless mutation occours.\n",
    "In order to replicate what would happen in nature, we should not assume that smarter dogs pair with smarter dogs. We can use `random.shuffle()` on our collection of dogs before pairing them. Each pair breed as many puppies as the litter size parameter indicates."
   ]
  },
  {
   "cell_type": "code",
   "execution_count": null,
   "id": "3a2bf9ae-2fb6-4ec6-a626-ae94d5476943",
   "metadata": {},
   "outputs": [],
   "source": [
    "def breed():\n",
    "    pass"
   ]
  },
  {
   "cell_type": "markdown",
   "id": "6f3ab421-f33e-476f-89b8-e372f49e6e39",
   "metadata": {},
   "source": [
    "### Mutate the set of offspring\n",
    "A small percentage of the puppies should undergo mutation. This could either lead to a lower or a higher smartness value, since their base value is directly multiplied with a random value in the closed range `[MUTATE_MIN_FACTOR, MUTATE_MAX_FACTOR]`."
   ]
  },
  {
   "cell_type": "code",
   "execution_count": null,
   "id": "91f108e8-4531-4e1b-b89c-013a6dbfbf8c",
   "metadata": {},
   "outputs": [],
   "source": [
    "def mutate():\n",
    "    pass"
   ]
  },
  {
   "cell_type": "markdown",
   "id": "f10f60b8-825a-412a-a518-727d3fc7880f",
   "metadata": {},
   "source": [
    "### Put it all together\n",
    "The `main()` function manages the other functions and the primary evolutionary loop. It is also responsible for printing all the relevant information and outputs of our experiment."
   ]
  },
  {
   "cell_type": "code",
   "execution_count": null,
   "id": "d02c3ba4-fd94-4e53-8c50-b35b781b8b97",
   "metadata": {},
   "outputs": [],
   "source": [
    "def main():\n",
    "    pass"
   ]
  }
 ],
 "metadata": {
  "kernelspec": {
   "display_name": "Python 3.9.6 64-bit",
   "language": "python",
   "name": "python3"
  },
  "language_info": {
   "codemirror_mode": {
    "name": "ipython",
    "version": 3
   },
   "file_extension": ".py",
   "mimetype": "text/x-python",
   "name": "python",
   "nbconvert_exporter": "python",
   "pygments_lexer": "ipython3",
   "version": "3.9.6"
  },
  "vscode": {
   "interpreter": {
    "hash": "544ee7c543f0408712405a0d707d2c8ee85e48269dc9e203eb136c867a37bf91"
   }
  }
 },
 "nbformat": 4,
 "nbformat_minor": 5
}
