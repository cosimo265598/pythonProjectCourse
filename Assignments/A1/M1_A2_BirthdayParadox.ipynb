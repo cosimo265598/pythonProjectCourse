{
 "cells": [
  {
   "cell_type": "markdown",
   "id": "0fad8b08-f2c5-44ec-88bf-69ac8224b25c",
   "metadata": {},
   "source": [
    "# The birtday paradox\n",
    "The Birthday Paradox is the surprisingly high probability that two people will have the same birthday even in a small group of people. \n",
    "The term paradox is not the most appropriate term to define the phenomenon, as it is merely something *interesting*, but we are not here to discuss semantics. As an example, it takes a group as small as 23 people to have a 50% chance of a matching birthday. \n",
    "\n",
    "Write a program to simulate several probability experiments (runs) to determine the percentages for groups of different sizes."
   ]
  },
  {
   "cell_type": "markdown",
   "id": "c7cb7037-7f15-43ed-a816-3c1b2b3e1bb5",
   "metadata": {},
   "source": [
    "Before starting to code your solution, let's highlight a few aspects you may want to brainstorm in advance:\n",
    "- How many runs do we want to perform?\n",
    "- How many dates do we want to randomly sample for each run?\n",
    "- Which parts of the code could be factored out in separate functions?\n",
    "- Do we have to (or do we want to) store all the generated birthdays? In which data structure?"
   ]
  },
  {
   "cell_type": "code",
   "execution_count": 156,
   "id": "2a7f7a4f-90db-406b-8cf5-2ce14465545d",
   "metadata": {},
   "outputs": [
    {
     "name": "stdout",
     "output_type": "stream",
     "text": [
      "People: 23 of % 13.5\n",
      "People: 24 of % 15.8\n",
      "People: 25 of % 18.7\n",
      "People: 26 of % 20.599999999999998\n",
      "People: 27 of % 20.8\n",
      "People: 28 of % 24.7\n",
      "People: 29 of % 28.7\n",
      "People: 30 of % 31.0\n",
      "People: 31 of % 34.4\n",
      "People: 32 of % 41.4\n",
      "People: 33 of % 42.699999999999996\n",
      "People: 34 of % 45.6\n",
      "People: 35 of % 47.8\n",
      "People: 36 of % 49.1\n",
      "People: 37 of % 51.9\n",
      "People: 38 of % 57.699999999999996\n",
      "People: 39 of % 62.1\n",
      "People: 40 of % 61.8\n",
      "People: 41 of % 66.8\n",
      "People: 42 of % 70.0\n",
      "People: 43 of % 71.1\n",
      "People: 44 of % 71.8\n",
      "People: 45 of % 75.9\n",
      "People: 46 of % 80.30000000000001\n",
      "People: 47 of % 81.89999999999999\n",
      "People: 48 of % 83.3\n",
      "People: 49 of % 84.1\n",
      "People: 50 of % 86.8\n",
      "People: 51 of % 88.5\n",
      "People: 52 of % 89.5\n",
      "People: 53 of % 91.4\n",
      "People: 54 of % 91.9\n",
      "People: 55 of % 92.5\n",
      "People: 56 of % 93.2\n",
      "People: 57 of % 94.69999999999999\n",
      "People: 58 of % 96.39999999999999\n",
      "People: 59 of % 96.2\n",
      "People: 60 of % 96.6\n",
      "People: 61 of % 97.1\n",
      "People: 62 of % 97.8\n",
      "People: 63 of % 97.89999999999999\n",
      "People: 64 of % 98.5\n",
      "People: 65 of % 99.0\n",
      "People: 66 of % 98.7\n",
      "People: 67 of % 99.0\n",
      "People: 68 of % 99.4\n",
      "People: 69 of % 99.4\n"
     ]
    }
   ],
   "source": [
    "import datetime, random\n",
    "\n",
    "def genRandDate():\n",
    "    start=datetime.datetime(2020,1,1)\n",
    "    end=datetime.datetime(2020,12,1)\n",
    "    random_date = start + (end - start) * random.random() \n",
    "    #print(random_date.strftime(\"%x\"))\n",
    "    return random_date.strftime(\"%d %B\")\n",
    "\n",
    "def genBrithday(people):\n",
    "    people=int(people)\n",
    "    d={}\n",
    "    for _ in range(1,people):\n",
    "        r=str(genRandDate())\n",
    "        if r in d:\n",
    "            d[r]+=1\n",
    "        else:\n",
    "            d[r]=1\n",
    "    return d\n",
    "\n",
    "def percent(people,runs=1000):\n",
    "    n_dup=0\n",
    "    for _ in range(runs):\n",
    "        date=genBrithday(people)\n",
    "        #print(date)\n",
    "        if len([x for x in date.values() if x>1 ]) > 1:\n",
    "            n_dup+=1\n",
    "        #print(n_dup)\n",
    "    return n_dup/runs *100\n",
    "\n",
    "def main():\n",
    "    for i in range(23,70):\n",
    "        p=percent(i)\n",
    "        print(\"People: \"+str(i)+\" of % \"+ str(p))\n",
    "\n",
    "\n",
    "if __name__ == '__main__':\n",
    "    main()"
   ]
  },
  {
   "cell_type": "code",
   "execution_count": null,
   "id": "7e6977df-e07e-4d15-95f0-49644505dee5",
   "metadata": {},
   "outputs": [],
   "source": []
  }
 ],
 "metadata": {
  "kernelspec": {
   "display_name": "Python 3 (ipykernel)",
   "language": "python",
   "name": "python3"
  },
  "language_info": {
   "codemirror_mode": {
    "name": "ipython",
    "version": 3
   },
   "file_extension": ".py",
   "mimetype": "text/x-python",
   "name": "python",
   "nbconvert_exporter": "python",
   "pygments_lexer": "ipython3",
   "version": "3.9.6"
  }
 },
 "nbformat": 4,
 "nbformat_minor": 5
}
