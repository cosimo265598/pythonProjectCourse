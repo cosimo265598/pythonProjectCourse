{
 "cells": [
  {
   "cell_type": "markdown",
   "id": "0fad8b08-f2c5-44ec-88bf-69ac8224b25c",
   "metadata": {},
   "source": [
    "# Words that rhyme\n",
    "You are to write a program that given a word in input, procedurally generates words that *rhyme* with the original one. For instance, *bake* rhymes with *cake*.\n",
    "\n",
    "In order to generate rhyming words the algorithm has to split the input string in two parts:\n",
    "1. An initial substring up until the first vowel, excluded;\n",
    "2. The rest of the word.\n",
    "\n",
    "Given the split, rhyming words are generated replacing the first token with new compatible prefixes available within a list. It is not required that the generated words make sense."
   ]
  },
  {
   "cell_type": "markdown",
   "id": "bb0ddf9d-9d56-4f0a-ae9e-2b5e36f52509",
   "metadata": {},
   "source": [
    "### Example\n",
    "input = bake\n",
    "\n",
    "prefixes = \\[c, d, f, l, r, t, bl, gr, part\\]\n",
    "\n",
    "cake\n",
    "dake\n",
    "fake\n",
    "...\n",
    "blake\n",
    "grake\n",
    "partake"
   ]
  },
  {
   "cell_type": "markdown",
   "id": "aa164015-c10b-4d5b-8a79-2bd73dfd7061",
   "metadata": {},
   "source": [
    "Before starting to code your solution, let's highlight a few aspects you may want to brainstorm in advance:\n",
    "- Which could be an appropriate way to split the input string? Hint: we could use regexp.\n",
    "- What happens if we cannot identify a split?\n",
    "- Are there prefixes we should deliberately skip?\n",
    "- Which parts of the code could be factored out in separate functions?"
   ]
  },
  {
   "cell_type": "code",
   "execution_count": 12,
   "id": "2a7f7a4f-90db-406b-8cf5-2ce14465545d",
   "metadata": {},
   "outputs": [
    {
     "name": "stdout",
     "output_type": "stream",
     "text": [
      "['cello', 'dello', 'fello', 'lello', 'rello', 'tello', 'blello', 'grello', 'partello']\n"
     ]
    }
   ],
   "source": [
    "import copy, random, sys, time\n",
    "import re\n",
    "HEIGHT = ...\n",
    "WIDTH = ...\n",
    "\n",
    "def thyme(st,prefix):\n",
    "    list=[str(s)+str(st)  for s in prefix]\n",
    "    return list\n",
    "\n",
    "\n",
    "def main():\n",
    "    regex=\"[aeiouAEIOU]+\"\n",
    "    word=input(\"Word: \")\n",
    "    prefixes = ['c', 'd', 'f', 'l', 'r', 't', 'bl', 'gr', 'part']\n",
    "\n",
    "    x= re.search(regex,word)\n",
    "    if x :\n",
    "        vowel=x.group()\n",
    "        endstring=re.split(regex,word,1)[1]\n",
    "        ritmo=thyme(str(vowel)+str(endstring),prefixes)\n",
    "        print(ritmo)\n",
    "\n",
    "    \n",
    "    \n",
    "\n",
    "if __name__ == '__main__':\n",
    "    main()"
   ]
  }
 ],
 "metadata": {
  "kernelspec": {
   "display_name": "Python 3 (ipykernel)",
   "language": "python",
   "name": "python3"
  },
  "language_info": {
   "codemirror_mode": {
    "name": "ipython",
    "version": 3
   },
   "file_extension": ".py",
   "mimetype": "text/x-python",
   "name": "python",
   "nbconvert_exporter": "python",
   "pygments_lexer": "ipython3",
   "version": "3.9.6"
  }
 },
 "nbformat": 4,
 "nbformat_minor": 5
}
