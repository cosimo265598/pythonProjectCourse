{
 "cells": [
  {
   "cell_type": "markdown",
   "id": "0fad8b08-f2c5-44ec-88bf-69ac8224b25c",
   "metadata": {},
   "source": [
    "# Ex. 01 - Number guessing game\n",
    "Write a function that takes no arguments. When run, the function chooses a random integer between 0 and 100. The function then iteratively asks the user to guess what number has been chosen. Each time the user enters a wrong guess, the program indicates whether it is too high or too low. When the user guesses correctly, the program exits."
   ]
  },
  {
   "cell_type": "markdown",
   "id": "df3bb99a-732f-440b-8525-6459ecc8d460",
   "metadata": {},
   "source": [
    "## Hints\n",
    "- You can use the `randint()` function from the `random` module to generate a random number\n",
    "- You can use the `input()` function to acquire keyboard inputs from the user\n",
    "- You need to loop an undecided number of times. Make sure to choose the proper construct."
   ]
  },
  {
   "cell_type": "code",
   "execution_count": 18,
   "id": "64ec7ad5",
   "metadata": {},
   "outputs": [
    {
     "name": "stdout",
     "output_type": "stream",
     "text": [
      "Low\n",
      "Low\n",
      "Low\n",
      "Correct 9\n"
     ]
    }
   ],
   "source": [
    "from random import randint\n",
    "\n",
    "def guess():\n",
    "    return randint(1,10)\n",
    "\n",
    "num=guess()\n",
    "go=True\n",
    "while go:\n",
    "    r=int(input(\"Num\"))\n",
    "    if r ==num:\n",
    "        go=False\n",
    "        print(f\"Correct {num}\")\n",
    "    if r > num:\n",
    "        print(\"High\")\n",
    "    elif r< num:\n",
    "        print(\"Low\")"
   ]
  },
  {
   "cell_type": "markdown",
   "id": "00cc3859-1087-48bc-89e6-e9878c2899c3",
   "metadata": {},
   "source": [
    "# Ex. 02 - Base conversion\n",
    "Write a function that takes a *number* in any base along with its associated base, and converts it into the equivalent number in base 10."
   ]
  },
  {
   "cell_type": "markdown",
   "id": "c465bd5d-6829-4689-a08c-94b7d89b17ce",
   "metadata": {},
   "source": [
    "## Hints\n",
    "- Think about what could be a proper representation for the \"number\" the function is supposed to receive in input.\n",
    "- Remember that the exponentiation operator in Python is `**`\n",
    "- Try to be Pythonic when iterating over the digits of the input.\n",
    "- When dealing with a base greater than 10 we must use some other symbols to represent digits beyond 9. Use hexadecimal numbers as an inspiration. "
   ]
  },
  {
   "cell_type": "code",
   "execution_count": 1,
   "id": "ac9279df",
   "metadata": {},
   "outputs": [
    {
     "name": "stdout",
     "output_type": "stream",
     "text": [
      "2\n"
     ]
    }
   ],
   "source": [
    "from collections import Counter\n",
    "def convert(value):\n",
    "    num,base= value.split(\":\")\n",
    "    base=int(base)\n",
    "    \n",
    "    tot=sum([(int(s,base)*(base**b)) for s,b in zip(num,range(len(num)-1,-1,-1))])\n",
    "    return tot\n",
    "\n",
    "n=input(\"Value <Num>:<base>\")\n",
    "print(convert(n))\n",
    "\n"
   ]
  },
  {
   "cell_type": "markdown",
   "id": "8a6d1fde-a6b2-4d20-b768-252c78e0c704",
   "metadata": {},
   "source": [
    "# Ex. 03.1 - Pig Latin\n",
    "Pig Latin is a language game or argot in which English words are altered, either by adding a fabricated suffix or \n",
    "by moving the initial consonant (or consonant cluster) of a word to the end of the word and adding a vocalic syllable to create such a suffix.\n",
    "\n",
    "Let's consider the following subset of rules:\n",
    "- If the word begins with a vowel (a, e, i, o, or u), add \"way\" to the end of the word. \n",
    "- If the word begins with any other letter, then take the first letter, put it on the end of the word, and then add \"ay\" at the end."
   ]
  },
  {
   "cell_type": "markdown",
   "id": "94898b46-167d-4df2-8c86-ff9cc6743a25",
   "metadata": {},
   "source": [
    "## Hints\n",
    "- Try to favour compactness in your code when checking against vowels. Remember the `in` operator.\n",
    "- Use slicing to handle accessing specific parts of the string."
   ]
  },
  {
   "cell_type": "code",
   "execution_count": 80,
   "id": "4f01a88b",
   "metadata": {},
   "outputs": [
    {
     "name": "stdout",
     "output_type": "stream",
     "text": [
      "hillcay\n"
     ]
    }
   ],
   "source": [
    "def isVowel(char):\n",
    "    if char in \"AaEeIiOoUu\":\n",
    "        return True\n",
    "    else:\n",
    "        return False\n",
    "\n",
    "s=input(\"String= \")\n",
    "\n",
    "if isVowel(s[0]):\n",
    "    s=s+\"way\"\n",
    "else:\n",
    "    s=s[1:len(s)]+s[0]+\"ay\"\n",
    "print(s)"
   ]
  },
  {
   "cell_type": "markdown",
   "id": "55bc37a7-c3d6-4484-a201-9c7b41353fd4",
   "metadata": {},
   "source": [
    "# Ex. 03.2 - More Pig Latin\n",
    "Extend Ex 03.1 to handle whole sentences, preserving blanks and punctuation between words."
   ]
  },
  {
   "cell_type": "markdown",
   "id": "4b1474f8-8aa4-42ba-ba70-eae878962e66",
   "metadata": {},
   "source": [
    "# Ex 04 - Monotonous words\n",
    "Write a function that takes a sequence of strings as input. The function should return a single string among the input ones, according to the following:\n",
    "- For each word, find the letter that appears the most times.\n",
    "- Find the word whose most-repeated letter appears more than any other."
   ]
  },
  {
   "cell_type": "markdown",
   "id": "fcf8bc19-bff8-4500-8f96-75831a3aef2d",
   "metadata": {},
   "source": [
    "## Hints\n",
    "- You can use `Counter` from the `collections` module to make your life easier."
   ]
  },
  {
   "cell_type": "code",
   "execution_count": 4,
   "id": "2fceee0e",
   "metadata": {},
   "outputs": [
    {
     "name": "stdout",
     "output_type": "stream",
     "text": [
      "2\n",
      "word\n",
      "6\n",
      " \n"
     ]
    }
   ],
   "source": [
    "from collections import Counter\n",
    "\n",
    "st=\"hello word , here i'm my word\"\n",
    "\n",
    "\n",
    "\n",
    "tot=max([e for e in Counter(st.split(\" \")).values() ])\n",
    "print(tot)\n",
    "for k,v in Counter(st.split(\" \")).items():\n",
    "    if v==tot:\n",
    "        print(k)\n",
    "\n",
    "tot=max([v for v in Counter(st).values() ])\n",
    "print(tot)\n",
    "for k,v in Counter(st).items():\n",
    "    if v==tot:\n",
    "        print(k)\n"
   ]
  },
  {
   "cell_type": "markdown",
   "id": "3c049838-4d4d-48e9-a1b2-77b942042a95",
   "metadata": {},
   "source": [
    "# Ex 05 - File statistics\n",
    "Write a function that takes a filename as input and prints the following information:\n",
    "- Number of characters including whitespaces\n",
    "- Number of characters excluding whitespaces\n",
    "- Number of words separated by whitespaces\n",
    "- Number of lines\n",
    "- Number of unique words disregarding case sensitivity"
   ]
  },
  {
   "cell_type": "markdown",
   "id": "41d256f0-7d06-45da-aa51-7e9e06c66e63",
   "metadata": {},
   "source": [
    "## Hints\n",
    "- There should be no need to read the file multiple times.\n",
    "- You can use a dictionary to store the information you collect, but it is not mandatory.\n",
    "- Remember about `set` when you have to deal with uniqueness."
   ]
  },
  {
   "cell_type": "code",
   "execution_count": 54,
   "id": "2e245568",
   "metadata": {},
   "outputs": [
    {
     "name": "stdout",
     "output_type": "stream",
     "text": [
      "{'i_whitespace': 154, 'e_whitespace': 129, 'words': 23, 'lines': 2, 'unique': 19}\n"
     ]
    }
   ],
   "source": [
    "from collections import Counter\n",
    "d={\"i_whitespace\":0,\"e_whitespace\":0,\"words\":0,\"lines\":0,\"unique\":0}\n",
    "word={}\n",
    "\n",
    "char=Counter()\n",
    "with open(\"file.txt\",\"r\") as f:\n",
    "    for count,line in enumerate(f):\n",
    "        \n",
    "        for w in line.split(\" \"):\n",
    "            if w in word:\n",
    "                word[w.lower()]+=1\n",
    "            else:\n",
    "                word[w.lower()]=1\n",
    "            char.update([c for c in w])\n",
    "            char.update(\" \")\n",
    "\n",
    "d[\"i_whitespace\"]=sum(char.values())\n",
    "d[\"e_whitespace\"]=d[\"i_whitespace\"]-char[\" \"]\n",
    "d[\"words\"]=sum(word.values())\n",
    "d[\"unique\"]=len(set(word))\n",
    "d[\"lines\"]=count+1\n",
    "print(d)\n",
    "\n",
    "        "
   ]
  },
  {
   "cell_type": "markdown",
   "id": "7fbc7d4d-c73c-46b4-93d2-750a61006c4e",
   "metadata": {},
   "source": [
    "# Ex 06 - Prefix notation calculator\n",
    "Write a function that expects a string containing a simple math expression in prefix notation. Your program should parse the input, evaluate the expression and produce its result as output. Consider only the six basic arithmetic operations: addition, subtraction, multiplication, division (/), modulus (%), and\n",
    "exponentiation (\\*\\*). Assume that the argument will always start with a single operator, followed by a sequence of integer numeric values."
   ]
  },
  {
   "cell_type": "markdown",
   "id": "8e403af2-fc0a-4009-92aa-7bc384b10475",
   "metadata": {},
   "source": [
    "## Examples\n",
    "`+ 3 4 5` evaluates to `12`\n",
    "\n",
    "`- 3 4 1` evaluates to `-2`\n",
    "\n",
    "`% 10 2` evaluates to `0`"
   ]
  },
  {
   "cell_type": "markdown",
   "id": "2daf4bea-fa89-4e57-8b91-622704d6f660",
   "metadata": {},
   "source": [
    "## Hints\n",
    "- If you know functional programming, you can use the arithmetic functions from the `operator` module."
   ]
  },
  {
   "cell_type": "code",
   "execution_count": 118,
   "id": "1101ffc5",
   "metadata": {},
   "outputs": [
    {
     "name": "stdout",
     "output_type": "stream",
     "text": [
      "You insert: % 10 2\n",
      "Totale: 0\n"
     ]
    }
   ],
   "source": [
    "import operator\n",
    "ops = {\n",
    "    '+' : operator.add,\n",
    "    '-' : operator.sub,\n",
    "    '*' : operator.mul,\n",
    "    '/' : operator.truediv,\n",
    "    '%' : operator.mod,\n",
    "    '**' : operator.pow,\n",
    "}\n",
    "def makeOperation( op, val1, val2):\n",
    "    return ops[op](int(val1),int(val2))\n",
    "\n",
    "s=input(\"Operation: \")\n",
    "print(\"You insert: \"+s)\n",
    "num=s[2:].split(\" \")\n",
    "\n",
    "t=makeOperation(s[0],num[0],num[1])\n",
    "for val in num[2:]:\n",
    "    t=makeOperation(s[0],t,val)\n",
    "\n",
    "print(\"Totale: \"+str(t))"
   ]
  },
  {
   "cell_type": "markdown",
   "id": "10a00f40-96dc-4b2c-8900-e06927984cdc",
   "metadata": {},
   "source": [
    "# Ex 07 - Set of anagrams\n",
    "A word `w` is an anagram of a word `v` if there exists a permutation of the letters transforming `w` into `v`. \n",
    "\n",
    "Write a function that given a collection of words of length at most `k`, detect all possible anagrams."
   ]
  },
  {
   "cell_type": "markdown",
   "id": "0963391c-d3b1-4ef5-88ff-6673a641779c",
   "metadata": {},
   "source": [
    "## Example\n",
    "The input sequence\n",
    "\n",
    "`\"in a dusty study a cat cried sadder because its bowel dreads a cheap peach while cats below act weird drinking cider without bending an elbow\"`\n",
    "\n",
    "contains \n",
    "\n",
    "`[(\"dusty\", \"study\"), (\"cat\", \"act\"), (\"cats\", \"acts\"), (\"cried\", \"cider\"), (\"sadder\", \"dreads\"), (\"cheap\", \"peach\"), (\"bowel\", \"below\", \"elbow\")]`"
   ]
  },
  {
   "cell_type": "markdown",
   "id": "5b6515cd-2e49-4b45-b4f5-7d6a22ef353f",
   "metadata": {},
   "source": [
    "## Hints\n",
    "- You can try to compute a *signature* to identify anagrams for a given set of letters."
   ]
  },
  {
   "cell_type": "code",
   "execution_count": 183,
   "id": "8e08b4e4",
   "metadata": {},
   "outputs": [
    {
     "name": "stdout",
     "output_type": "stream",
     "text": [
      "[('dusty', 'study'), ('cat', 'act'), ('cried', 'cider'), ('sadder', 'dreads'), ('bowel', 'below', 'elbow'), ('cheap', 'peach')]\n"
     ]
    }
   ],
   "source": [
    "def anagrams(s1,s2):\n",
    "    return sorted(s1) == sorted(s2)\n",
    "\n",
    "p=\"in a dusty study a cat cried sadder because its bowel dreads a cheap peach while cats below act weird drinking cider without bending an elbow\"\n",
    "\n",
    "d={}\n",
    "for w in p.split(\" \"):\n",
    "    s=\"\".join(sorted(w))\n",
    "    if len(s)>1:\n",
    "        if s not in d :\n",
    "            d[s]=[w]\n",
    "        else:\n",
    "            d[s].append(w)\n",
    "a=[]\n",
    "for _,v in d.items():\n",
    "    if len(v)>1:\n",
    "        a.append(tuple(v))\n",
    "print(a)"
   ]
  },
  {
   "cell_type": "markdown",
   "id": "132362b4-83c5-47ae-98c1-c605aada54a7",
   "metadata": {},
   "source": [
    "# Ex 08 - Matrix multiplication and Freivalds test\n",
    "Given three $n \\times n$ matrices $A$, $B$ and $C$, we want to check whether $A \\times B = C$.\n",
    "\n",
    "Freivalds' algorithm is a probabilistic randomized algorithm used to verify matrix multiplication. It operates as follow:\n",
    "- Randomly pick a vector $x$ composed of only $1s$ and $0s$ and test whether $A(Bx) = Cx$.\n",
    "- Iterate the previous step $k$ times we achieve an error probability less than $\\frac{1}{2^k}$.\n",
    "\n",
    "Devise a testing scenario compatible with the following requests:\n",
    "- Write a function that implements matrix multiplication to explicitly verify equality.\n",
    "- Write a function that implements Freivalds test to predict equality.\n",
    "- Empirically test the time complexity of the two functions.\n",
    "\n"
   ]
  },
  {
   "cell_type": "code",
   "execution_count": 79,
   "id": "3f7a09ab",
   "metadata": {},
   "outputs": [
    {
     "name": "stdout",
     "output_type": "stream",
     "text": [
      "total time: 66500 ns\n",
      "Peak memory usage: 0.005632MB\n",
      "total time: 83600 ns\n",
      "Peak memory usage: 0.00572MB\n"
     ]
    }
   ],
   "source": [
    "import numpy as np \n",
    "import time, tracemalloc\n",
    "\n",
    "x=[[1],[0]]\n",
    "B=[[1,2],[3,4]]\n",
    "A=[[5,6],[7,8]]\n",
    "C=[[23, 34],[31, 46]]\n",
    "\n",
    "\n",
    "def multi(A,B,C):\n",
    "    tracemalloc.start()\n",
    "    start = time.perf_counter_ns()\n",
    "    res = (np.dot(A,B)==C)\n",
    "    end = time.perf_counter_ns()\n",
    "    tot_time = end - start\n",
    "    print(f\"total time: {tot_time} ns\")\n",
    "    _, peak = tracemalloc.get_traced_memory()\n",
    "    print(f\"Peak memory usage: {peak/10**6}MB\")\n",
    "    tracemalloc.stop()\n",
    "    return res\n",
    "\n",
    "def multiF(A,B,C,x):\n",
    "    tracemalloc.start()\n",
    "    start = time.perf_counter_ns()\n",
    "    res = (np.dot(A,np.dot(B,x))==np.dot(C,x))\n",
    "    end = time.perf_counter_ns()\n",
    "    tot_time = end - start\n",
    "    print(f\"total time: {tot_time} ns\")\n",
    "    _, peak = tracemalloc.get_traced_memory()\n",
    "    print(f\"Peak memory usage: {peak/10**6}MB\")\n",
    "    tracemalloc.stop()\n",
    "    return res\n",
    "\n",
    "\n",
    "r=multi(A,B,C)\n",
    "#print(r)\n",
    "r=multiF(A,B,C,x)\n",
    "#print(r)"
   ]
  }
 ],
 "metadata": {
  "kernelspec": {
   "display_name": "Python 3.9.6 64-bit",
   "language": "python",
   "name": "python3"
  },
  "language_info": {
   "codemirror_mode": {
    "name": "ipython",
    "version": 3
   },
   "file_extension": ".py",
   "mimetype": "text/x-python",
   "name": "python",
   "nbconvert_exporter": "python",
   "pygments_lexer": "ipython3",
   "version": "3.9.6"
  },
  "vscode": {
   "interpreter": {
    "hash": "544ee7c543f0408712405a0d707d2c8ee85e48269dc9e203eb136c867a37bf91"
   }
  }
 },
 "nbformat": 4,
 "nbformat_minor": 5
}
