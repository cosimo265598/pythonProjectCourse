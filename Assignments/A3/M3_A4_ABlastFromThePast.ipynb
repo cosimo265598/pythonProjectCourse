{
 "cells": [
  {
   "cell_type": "markdown",
   "id": "76f5c7d4-9128-4801-a1cb-8b8877f7c637",
   "metadata": {},
   "source": [
    "# A blast from the past\n",
    "\n",
    "If you have already solved either one of the following previous assignments\n",
    "- M1/A5 - A silly genetic algorithm\n",
    "- M2/A3 - Stocks trading\n",
    "\n",
    "you can choose to revise either of them in an object-oriented fashion. "
   ]
  },
  {
   "cell_type": "code",
   "execution_count": null,
   "id": "1d5099b2-c709-4d82-ba60-7eb65a52b985",
   "metadata": {},
   "outputs": [],
   "source": []
  }
 ],
 "metadata": {
  "kernelspec": {
   "display_name": "Python 3 (ipykernel)",
   "language": "python",
   "name": "python3"
  },
  "language_info": {
   "codemirror_mode": {
    "name": "ipython",
    "version": 3
   },
   "file_extension": ".py",
   "mimetype": "text/x-python",
   "name": "python",
   "nbconvert_exporter": "python",
   "pygments_lexer": "ipython3",
   "version": "3.9.7"
  },
  "toc-autonumbering": false
 },
 "nbformat": 4,
 "nbformat_minor": 5
}
