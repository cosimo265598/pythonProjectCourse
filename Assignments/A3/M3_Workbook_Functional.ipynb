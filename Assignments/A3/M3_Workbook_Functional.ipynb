{
 "cells": [
  {
   "cell_type": "markdown",
   "id": "ccb2b146-3a2f-41db-9d6d-b3fbfa52dd79",
   "metadata": {},
   "source": [
    "# Ex. 01.1 - Round robin\n",
    "Define a class, `RoundRobin`, that takes two arguments when defined. The class should accept a sequence and a number. \n",
    "The `RoundRobin` class will then return elements from the sequence a defined number of times, according to the second argument. \n",
    "If the number is greater than the number of elements in the sequence, then the sequence repeats as many time as necessary. \n",
    "\n",
    "Solve the problem in both the following setups:\n",
    "- The `RoundRobin` class should make use of an helper iterator class in order to implement the desired behaviour\n",
    "- The `RoundRobin` class should inherit from the an iterator class in order to implement the desired behaviour\n",
    "\n",
    "## Example\n",
    "Given the string `\"abc\"` as the input sequence and the value `7` as second argument, the `RoundRobin` class should generate `abcabca`."
   ]
  },
  {
   "cell_type": "code",
   "execution_count": 1,
   "id": "beccd732",
   "metadata": {},
   "outputs": [
    {
     "name": "stdout",
     "output_type": "stream",
     "text": [
      "abcabcabca\n",
      "abcabcabcabcabcabcabcabcabcabcabcabcabcabcabcabcab\n"
     ]
    }
   ],
   "source": [
    "from collections.abc import  Iterator\n",
    "\n",
    "class RoundRobinv1(Iterator):\n",
    "    def __init__(self,sequence:list=None,number:int=0):\n",
    "        self.seq=sequence\n",
    "        self.num=number\n",
    "        self.dim=len(sequence)\n",
    "    \n",
    "    def __iter__(self):\n",
    "        self.step=0\n",
    "        return self\n",
    "\n",
    "    def __next__(self):\n",
    "        if self.step> self.num-1:\n",
    "            raise StopIteration\n",
    "\n",
    "        val=self.seq[self.step % self.dim]\n",
    "        self.step=self.step+1\n",
    "        return val\n",
    "\n",
    "\n",
    "n=RoundRobinv1([\"a\",\"b\",\"c\"],10)\n",
    "\n",
    "print(''.join(n))\n",
    "\n",
    "\n",
    "class helperIterator:\n",
    "    def __init__(self, seq:list, dim:int , num:int):\n",
    "        self.seq=seq\n",
    "        self.dim=dim\n",
    "        self.num=num\n",
    "\n",
    "    def __iter__(self):\n",
    "        self.step=0\n",
    "        return self\n",
    "\n",
    "    def __next__(self):\n",
    "        if self.step> self.num-1:\n",
    "            raise StopIteration\n",
    "\n",
    "        val=self.seq[self.step % self.dim]\n",
    "        self.step=self.step+1\n",
    "        return val\n",
    "\n",
    "class RoundRobinv2():\n",
    "    def __init__(self,sequence:list=None,number:int=0):\n",
    "        self.seq=sequence\n",
    "        self.num=number\n",
    "        self.dim=len(sequence)\n",
    "    \n",
    "    def get(self):\n",
    "        return ''.join(helperIterator(self.seq,self.dim,self.num))\n",
    "\n",
    "\n",
    "n=RoundRobinv2([\"a\",\"b\",\"c\"],50)\n",
    "print(n.get())\n"
   ]
  },
  {
   "cell_type": "markdown",
   "id": "b05eb14b-9f8e-488d-86de-b811ca3ae60b",
   "metadata": {},
   "source": [
    "# Ex. 01.2 - Josephus problem\n",
    "Use the round robin class you defined in Ex. 01.1 to provide a Python implementation of the [Josephus problem](https://en.wikipedia.org/wiki/Josephus_problem).\n",
    "The Josephus problem can be interpreted as a counting-out game in which a counting pattern is iteratively applied in a circular fashion and at the end of each count the current element is eliminated. Counting is applied until only one last element stands."
   ]
  },
  {
   "cell_type": "code",
   "execution_count": 79,
   "id": "cf263738",
   "metadata": {},
   "outputs": [
    {
     "name": "stdout",
     "output_type": "stream",
     "text": [
      "3 6 9 12 15 18 21 24 27 30 33 36 39 1 5 10 14 19 23 28 32 37 41 7 13 20 26 34 40 8 17 29 38 11 25 2 22 4 35 16\n"
     ]
    }
   ],
   "source": [
    "from collections.abc import  Iterator\n",
    "from functools import reduce\n",
    "\n",
    "class Josephus(Iterator):\n",
    "    def __init__(self,start:int ,end:int, k:int):\n",
    "        self.start=start\n",
    "        self.end=end\n",
    "        self.k=k\n",
    "        self.removed=list()\n",
    "    \n",
    "    def __iter__(self):\n",
    "        self.counter=0\n",
    "        self.sequence=[i  for i in range(self.start,self.end+1)]\n",
    "        self.origin_dim=len(self.sequence)\n",
    "        self.dim=len(self.sequence)\n",
    "        self.scale=0\n",
    "        self.skip=1\n",
    "        self.index=0\n",
    "        return self\n",
    "\n",
    "    def __next__(self):\n",
    "        \n",
    "        if  self.dim < 2:\n",
    "            raise StopIteration\n",
    "\n",
    "        if self.index > self.dim:\n",
    "            self.index=val=(self.index%self.dim)+1\n",
    "        else:\n",
    "            self.index=self.index+self.k-1\n",
    "            val=(self.index%self.dim)\n",
    "         \n",
    "        ret=self.sequence.pop(val)\n",
    "        self.dim=len(self.sequence)\n",
    "\n",
    "        return str(ret)\n",
    "\n",
    "\n",
    "n=Josephus(1,41,3)\n",
    "\n",
    "print(' '.join(n))\n"
   ]
  },
  {
   "cell_type": "markdown",
   "id": "6666dc9b-e928-423c-9175-fa7727dd249d",
   "metadata": {},
   "source": [
    "# Ex. 02 - A nosy generator\n",
    "Write a generator function that will browse a directory content and read each file line by line.\n",
    "The desired generator function will take a directory name as an argument. At each iteration, the generator should return a single string representing one line from one file in that directory. \n",
    "If the generator encounters a file that cannot be opened, e.g., it does not have read permission, it should handle such an event appropriately. For instance, it could raise an exception."
   ]
  },
  {
   "cell_type": "code",
   "execution_count": 29,
   "id": "4df64553",
   "metadata": {},
   "outputs": [
    {
     "name": "stdout",
     "output_type": "stream",
     "text": [
      "prova testo fiel 2\n",
      "\n",
      "riga 2 file 2\n",
      "\n",
      "ancora una riga file 2\n",
      "prova testo\n",
      "\n"
     ]
    }
   ],
   "source": [
    "import os\n",
    "from collections.abc import  Iterator\n",
    "\n",
    "\n",
    "class Browse(Iterator):\n",
    "    def __init__(self,dir:str):\n",
    "        self.directory=dir\n",
    "\n",
    "    def __iter__(self):\n",
    "        os.chdir(self.directory)\n",
    "        self.files=[item for item in os.listdir() if os.path.isfile(item)]\n",
    "        self.indexFile=None\n",
    "        return self\n",
    "\n",
    "    def __next__(self):\n",
    "        if self.indexFile is None:\n",
    "            self.indexFile=open(self.files.pop(),\"r\") \n",
    "\n",
    "        try:\n",
    "            line=self.indexFile.readline()\n",
    "            if not line:\n",
    "                raise EOFError\n",
    "            else:\n",
    "                return line\n",
    "        except EOFError:\n",
    "            self.indexFile=None\n",
    "        \n",
    "        return self.__next__()\n",
    "    \n",
    "\n",
    "\n",
    "#path=os.chdir(os.getcwd()+\"/dir\")\n",
    "path=\"c:\\\\Users\\\\Cosim\\\\Documents\\\\GitHubFolder\\\\m3-workbooks-cosimo265598\\\\dir\"\n",
    "b=Browse(path)\n",
    "it=iter(b)\n",
    "\n",
    "print(it.__next__())\n",
    "print(it.__next__())\n",
    "print(it.__next__())\n",
    "print(it.__next__())\n",
    "\n"
   ]
  },
  {
   "cell_type": "markdown",
   "id": "caca8852-51f0-4dd6-8a06-4145e2617796",
   "metadata": {},
   "source": [
    "# Ex. 03 - Timestamped generator\n",
    "A generator is usually used to yield elements on demand and it does not necessarily provide all of its values in immediate succession. Generators retain their state while sleeping between calls so in sense is as if they are *sleeping*, waiting until they are needed to provide the next value.\n",
    "\n",
    "Write a generator function whose argument must be iterable. At each iteration, the generator will return a two-element tuple. The first element of the returned pair is the next element to yield. The second element of the pair is the number of elasped second passed since the last generation call. Since timing should be relative to the previous iteration and not when the generator was first created, the timing number in the first iteration must be 0 by default."
   ]
  },
  {
   "cell_type": "code",
   "execution_count": 64,
   "id": "2dcdabe2",
   "metadata": {},
   "outputs": [
    {
     "name": "stdout",
     "output_type": "stream",
     "text": [
      "(27, 0)\n",
      "(63, datetime.datetime(2022, 5, 28, 12, 37, 39, 59127))\n",
      "(80, datetime.timedelta(seconds=3, microseconds=415))\n",
      "(82, datetime.datetime(2022, 5, 28, 12, 37, 44, 72456))\n",
      "(26, datetime.timedelta(seconds=13, microseconds=4605))\n",
      "(76, datetime.datetime(2022, 5, 28, 12, 37, 51, 83099))\n"
     ]
    }
   ],
   "source": [
    "import random\n",
    "import datetime\n",
    "import time\n",
    "\n",
    "def getValue():\n",
    "    #settings value \n",
    "    delta=0\n",
    "    element=random.randint(1,100)\n",
    "    while True:\n",
    "        yield element,delta\n",
    "        if delta == 0:\n",
    "            delta=datetime.datetime.now()\n",
    "        else :\n",
    "            delta=datetime.datetime.now() -delta\n",
    "        element=random.randint(1,100)\n",
    "\n",
    "val= getValue()\n",
    "print(next(val))\n",
    "time.sleep(3)\n",
    "print(next(val))\n",
    "time.sleep(3)\n",
    "print(next(val))\n",
    "time.sleep(5)\n",
    "print(next(val))\n",
    "time.sleep(10)\n",
    "print(next(val))\n",
    "time.sleep(7)\n",
    "print(next(val))\n"
   ]
  },
  {
   "cell_type": "markdown",
   "id": "1a9084ed-a407-41b0-9cc3-5ae3059759d8",
   "metadata": {},
   "source": [
    "# Ex. 04 - Logging decorator\n",
    "Write a decorator to enrich the functionalities of decorated methods supporting some basic logging. The decorator should at least print additional information such as the name of the decorated function and provide detailed statistics on the passed arguments, such as their name and type."
   ]
  },
  {
   "cell_type": "code",
   "execution_count": 44,
   "id": "c2c407f0-d7d1-4701-ba8c-216e6b862abc",
   "metadata": {},
   "outputs": [
    {
     "name": "stdout",
     "output_type": "stream",
     "text": [
      "[createLogInfo] --> [INFO] Example of message\n",
      "[createLogWarning] --> [WARNING] Example of message\n",
      "[createLogError] --> [ERROR] Example of message\n"
     ]
    }
   ],
   "source": [
    "######################\n",
    "#Factory of decorator#\n",
    "######################\n",
    "\n",
    "FORMAT='[{name}] --> {message}'\n",
    "def w_logging_code(vars=FORMAT):\n",
    "    def logging_code(func):\n",
    "        def code(*args): \n",
    "            name=func.__name__\n",
    "            message=func(*args)\n",
    "            return vars.format(**locals())\n",
    "        return code\n",
    "    return logging_code\n",
    "\n",
    "@w_logging_code()\n",
    "def createLogInfo(details=\"\"):\n",
    "    return \"[INFO] \"+details\n",
    "\n",
    "@w_logging_code()\n",
    "def createLogWarning(details=\"\"):\n",
    "    return \"[WARNING] \"+details\n",
    "\n",
    "@w_logging_code()\n",
    "def createLogError(details=\"\"):\n",
    "    return \"[ERROR] \"+details\n",
    "\n",
    "val= createLogInfo(\"Example of message\")\n",
    "print(val)\n",
    "val= createLogWarning(\"Example of message\")\n",
    "print(val)\n",
    "val= createLogError(\"Example of message\")\n",
    "print(val)\n",
    "\n"
   ]
  }
 ],
 "metadata": {
  "interpreter": {
   "hash": "544ee7c543f0408712405a0d707d2c8ee85e48269dc9e203eb136c867a37bf91"
  },
  "kernelspec": {
   "display_name": "Python 3.9.6 64-bit",
   "language": "python",
   "name": "python3"
  },
  "language_info": {
   "codemirror_mode": {
    "name": "ipython",
    "version": 3
   },
   "file_extension": ".py",
   "mimetype": "text/x-python",
   "name": "python",
   "nbconvert_exporter": "python",
   "pygments_lexer": "ipython3",
   "version": "3.9.6"
  }
 },
 "nbformat": 4,
 "nbformat_minor": 5
}
