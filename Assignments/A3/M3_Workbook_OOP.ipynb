{
 "cells": [
  {
   "cell_type": "markdown",
   "id": "fd3ae12c-2177-46fa-8a06-29258c1bc565",
   "metadata": {},
   "source": [
    "# Premise\n",
    "For all the following exercise that start by describing a scenario, it is convenient to tackle each problem step-by-step.\n",
    "Make sure to carefully read the scenario in order to brainstorm it before writing any code. It is convenient to read the whole text at least once, and then restart from the beginning for a more in-depth read. It is important to understand which entities and behaviours may characterize what we want to model and in which way our objects may interact one with one another.\n",
    "\n",
    "Modelling scenarios can be quite tricky and some nuances may not manifest themselves at first. \n",
    "\n",
    "It is not mandatory to get everything *right* in the first try, but your solution should be general and robust enough to handle changes on-the-fly.\n",
    "\n",
    "Scenarios in some cases may leave something up to interpretation. It is up to you to come up with reasonable assumptions to fill in the gaps, or ask for further clarification."
   ]
  },
  {
   "cell_type": "markdown",
   "id": "699885a8-c353-461a-ae7b-dcb312eb8560",
   "metadata": {},
   "source": [
    "# Ex. 01 - Ice cream parlour\n",
    "\n",
    "We are interested in modelling a simple scenario for an ice cream parlour.\n",
    "\n",
    "The parlour characterizes its ice cream flavours keeping track of their type (e.g., fruit based or cream based), whether they are vegan friendly and/or gluten-free.\n",
    "\n",
    "The parlour has many flavours available and sell its ice creams in blows. Each bowls is composed of one or more scoops of ice cream. Each scoop is a single serving of a specific ice cream flavours.\n",
    "\n",
    "Bowls are characterized by a price, linked to the number of scoops that the bowl can hold. Bowls should provide an interface that let us add scoops to them, taking into account its max capacity.\n",
    "\n",
    "## Examples\n",
    "- We can have the *Chocolate* flavour, which is cream based, it's gluten free and it is not suitable for a vegan diet\n",
    "- We can have the *Strawberry* flavour, which is fruit based, it's gluten free and it is suitable for a vegan diet\n",
    "- We may want to model a 2-scoops bowl, costing 2,50€, which let the customer add up to two different scoops of ice cream"
   ]
  },
  {
   "cell_type": "markdown",
   "id": "2fcc853c-250c-4bab-806a-8a56b0a94e6d",
   "metadata": {},
   "source": [
    "# Ex. 02 - Case insensitive mapping mixin\n",
    "A *mixin* is a class designed to be subclassed together with at least one other class in multiple-inheritance arrangement. A mixin is meant to extend or customize the behavior of a child or sibling class but should not provide all the functionality for a concrete object. As a result, a mixin is not supposed to be neither directly instantiate nor used as the sole base class of a concrete class. \n",
    "\n",
    "We want to write a mixin class `CaseInsensitiveMixin` to provide case-insensitive access to mappings with string keys. The mixin class should redefine the appropriate methods of the `Mapping` and/or `MutableMapping` abstract base classes so that the following tests are passed. [Python documentation](https://docs.python.org/3/library/collections.abc.html) is a good place to find out which methods should be redefined."
   ]
  },
  {
   "cell_type": "code",
   "execution_count": null,
   "id": "4b2485f6-3a1e-4b86-9114-06de955e8983",
   "metadata": {},
   "outputs": [],
   "source": [
    "class CaseInsensitiveMixin:\n",
    "    \"\"\"\n",
    "    Define your mixin class here\n",
    "    \"\"\""
   ]
  },
  {
   "cell_type": "code",
   "execution_count": null,
   "id": "1d74787e-ab4f-407f-a619-73a44edfe9e0",
   "metadata": {},
   "outputs": [],
   "source": [
    "from collections import UserDict\n",
    "\n",
    "class CaseInsensitiveDict(CaseInsensitiveMixin, UserDict):\n",
    "    \"\"\"\n",
    "    This class is already complete as-is. You need to write only the mixin!\n",
    "    \"\"\"\n",
    "\n",
    "d = CaseInsensitiveDict()\n",
    "d['a'] = 1\n",
    "assert 'A' in d\n",
    "assert 'a' in d\n",
    "d['A'] = 2\n",
    "assert d['a'] == 2\n",
    "assert len(d) == 1"
   ]
  },
  {
   "cell_type": "markdown",
   "id": "373bd01e-8aad-4b84-ade6-2068ece49f92",
   "metadata": {},
   "source": [
    "# Ex. 03 - Role playing game (RPG)\n",
    "We are interested in modelling characters and equipments for a role playing game.\n",
    "- Each character of the game is characterized by a character name, a race and a class\n",
    "- Each race is characterized by a race name and a set of base statistics\n",
    "- Each class is characterized by a class name, a set of statistics modifiers and a set of equipment types it can wield\n",
    "- Each equipment item is characterized by an equipment name, a type and a set of statistics modifiers\n",
    "- Each character can be equipped according to its class, assigning the available equipment items to equipment slots\n",
    "\n",
    "The objective is to model the scenario taking into account all the info that follow and providing for all the implemented objects a proper interface in order to support the creation of a new character, setting/unsetting its equipment, managing the collection of created characters and of available equipment items and so on.\n",
    "\n",
    "\n",
    "## Statistics\n",
    "\n",
    "The character statistics are the following ones:\n",
    "- HP: Number of hit points, representing the constitution of the character\n",
    "- MP: Number of magic points, representing the available point to use magic and special techniques\n",
    "- ATK: The attack value, representing the strength of physical attacks\n",
    "- DEF: The defence value, representing the strength of magical attacks\n",
    "- MAG: The magic value, representing the resilience to physical attacks\n",
    "- SPR: The spirit value, representing the resilience to magical attacks\n",
    "\n",
    "HP ranges between 1 and 9999. MP ranges between 0 and 999. All other statistics range between 0 and 100.\n",
    "A character statistics are defined taking into account its class, its race and the current equipment. Values are capped at range limits, so they can never go below or above the minimum/maximum threshold.\n",
    "Race and class cannot be changed once a character has been instantiated.\n",
    "\n",
    "## Character race\n",
    "\n",
    "The character race describes the race it belongs to, e.g., *Human*, *Halfling*, *High-elf*, etc.\n",
    "Each race comes with a set of base statistics, defining the initial value for the statistics of all the characters of said race.\n",
    "\n",
    "### Example\n",
    "\n",
    "- Humans is a well-rounded race with the following base stats distribution: 1250, 100, 25, 25, 20, 20\n",
    "- High-Elves are mostly magic users with a weaker constitution: 500, 300, 5, 40, 5, 50\n",
    "\n",
    "## Character class\n",
    "\n",
    "The character class describes the role of a character in the game, e.g., *Warrior* or *Sorcerer* or *Druid*, etc.\n",
    "Each class applies a modifier, either positive, negative or null, to the character base statistics, inherited from its race.\n",
    "Each class can wield a specific set of equipment types.\n",
    "\n",
    "### Example\n",
    "\n",
    "- The warrior class applies a boost to constitution and physical stats while sacrificing magic: +250, -25, +10, -5, +5, -5\n",
    "- The warrior class can wield *Swords*, *Great Swords*, *Axes*, *Heavy Armors*, *Light Armors*, *Shields*, *Elms*, etc.\n",
    "\n",
    "## Equipment\n",
    "\n",
    "Each piece of equipment is characterized by a name, a type and a set of statistics modifier, that act the same way class modifiers do.\n",
    "The type of the equipment determine which classes may wield each piece of equipment and the slot it occupies.\n",
    "Each equipment instance can be used by a single character at a time.\n",
    "\n",
    "Equipment slots are the following:\n",
    "- Head, destined to *Elms*, *Hats*, etc.\n",
    "- Right hand, destined to weapons such as *Swords*, *Axes*, *Rods*, etc. or defense equipment such as *Shields*\n",
    "- Left hand, same as before. Notice that some weapons type may require both left and right hand to be wielded, e.g., *Two-Handed Great Swords*\n",
    "- Body, destined to defence equipment such as *Light Armors*, *Capes*, *Robes*, etc."
   ]
  },
  {
   "cell_type": "code",
   "execution_count": null,
   "id": "44c88dcb-6b45-45f7-a1bf-9e7109b6cbd3",
   "metadata": {},
   "outputs": [],
   "source": []
  }
 ],
 "metadata": {
  "kernelspec": {
   "display_name": "Python 3 (ipykernel)",
   "language": "python",
   "name": "python3"
  },
  "language_info": {
   "codemirror_mode": {
    "name": "ipython",
    "version": 3
   },
   "file_extension": ".py",
   "mimetype": "text/x-python",
   "name": "python",
   "nbconvert_exporter": "python",
   "pygments_lexer": "ipython3",
   "version": "3.9.7"
  }
 },
 "nbformat": 4,
 "nbformat_minor": 5
}
