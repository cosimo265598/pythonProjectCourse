{
 "cells": [
  {
   "cell_type": "markdown",
   "id": "01004592-40b8-40f7-9b66-ab0c9c92fd04",
   "metadata": {},
   "source": [
    "# Doubly linked list\n",
    "A linked list is a dynamic linear data structure used for storing collections of data. A linked list is represented as a collection of nodes, with a link between consecutive nodes. The number of nodes in a list is not fixed and can grow and shrink on demand. Each node of a linked list contains the data associated with a given node and a reference to the next node, in case of singly linked list. In this scenario, we are interested in keeping a reference to the previous node as well. The last node has a next reference to null. The first node has a previous reference to null. The entry point into a linked list is called the *head* of the list. The last node of a linked list is called the *tail* of the list. If the linked list is empty, then both head and tail are null references.\n",
    "\n",
    "It is expected for a linked list to support at least the following high-level operations:\n",
    "- Initialization: initialize an empty linked list\n",
    "- Insert: inserts an element into the list\n",
    "- Delete: removes and returns the specified position element from the list\n",
    "- Forward traversal: iterate over all the nodes from head to tail\n",
    "- Backward traversal: iterate over all the nodes from tail to head\n",
    "- Count: returns the number of elements in the list\n",
    "- Quit: destroy all nodes and the list\n",
    "\n",
    "Devise appropriate classes to model a doubly linked list in Python, supporting all the required operations.\n",
    "\n",
    "## Optional task\n",
    "\n",
    "Recently has been proposed ([paper](https://dl.acm.org/doi/10.5555/1044989.1044999), [wikipedia](https://en.wikipedia.org/wiki/XOR_linked_list)) a memory efficient implementation of doubly linked list, storing a single XOR-ed reference instead of both previous and next.\n",
    "Revise your classes in order to support XOR-ed references."
   ]
  },
  {
   "cell_type": "code",
   "execution_count": null,
   "id": "77eee9f8-0851-450d-baa2-ba61f924ccd5",
   "metadata": {},
   "outputs": [],
   "source": []
  }
 ],
 "metadata": {
  "kernelspec": {
   "display_name": "Python 3 (ipykernel)",
   "language": "python",
   "name": "python3"
  },
  "language_info": {
   "codemirror_mode": {
    "name": "ipython",
    "version": 3
   },
   "file_extension": ".py",
   "mimetype": "text/x-python",
   "name": "python",
   "nbconvert_exporter": "python",
   "pygments_lexer": "ipython3",
   "version": "3.8.9"
  }
 },
 "nbformat": 4,
 "nbformat_minor": 5
}
