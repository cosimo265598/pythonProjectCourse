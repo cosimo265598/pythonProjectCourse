{
 "cells": [
  {
   "cell_type": "markdown",
   "metadata": {},
   "source": [
    "# OOP basics\n",
    "\n",
    "In this workbook you will carry on a single exercise in an incremental way, introducing new details as you progress further."
   ]
  },
  {
   "cell_type": "markdown",
   "metadata": {
    "id": "0fad8b08-f2c5-44ec-88bf-69ac8224b25c"
   },
   "source": [
    "# Step 1: Defining a new class\n",
    "Define a class `Person`, that should be suitable to model the information of a given person. At the very least, it should track first and last name as well as the date of birth.\n",
    "The class should provide a suitable `__init__` method and a representation method."
   ]
  },
  {
   "cell_type": "code",
   "execution_count": 1,
   "metadata": {},
   "outputs": [],
   "source": [
    "import datetime\n",
    "\n",
    "class Person:\n",
    "    def __init__(self, name:str, surname:str, date:datetime,**kwargs):\n",
    "        self.name=name\n",
    "        self.surname=surname\n",
    "        self.date=date    \n",
    "    def __str__(self):\n",
    "        return f\"Name= {self.name}, Surname= {self.surname}\"\n",
    "    "
   ]
  },
  {
   "cell_type": "markdown",
   "metadata": {
    "id": "u5IgXHYw8x1R"
   },
   "source": [
    "# Step 2 - Exploiting inheritance\n",
    "\n",
    "Define two classes, `Employee` and `Manager`, inheriting from `Person`. \n",
    "Both managers and employees have a job description and a base salary. All the managers also have a default 10% bonus applied to their base salary."
   ]
  },
  {
   "cell_type": "code",
   "execution_count": 2,
   "metadata": {},
   "outputs": [
    {
     "name": "stdout",
     "output_type": "stream",
     "text": [
      "Name= Monaco, Surname= Cosimo Job= JOB Salary= 1650.0\n",
      "Name= Manisi, Surname= Cosimo Job= JOB Salary= 1500\n"
     ]
    }
   ],
   "source": [
    "class Employee(Person):\n",
    "    def __init__(self,name:str,surname:str, date:datetime ,job:str, salary:float):\n",
    "        Person.__init__(self,name,surname,date)\n",
    "        self.job=job\n",
    "        self.salary=salary\n",
    "        self.supervised=list() \n",
    "    \n",
    "    def get_raise(self,amount:float):\n",
    "        self.salary+=amount\n",
    "\n",
    "    def get_payStub(self):\n",
    "        return self.salary\n",
    "\n",
    "    def __str__(self):\n",
    "        return f\"Name= {self.name}, Surname= {self.surname} Job= {self.job} Salary= {self.salary}\"\n",
    "\n",
    "class Manager(Person):\n",
    "    def __init__(self,name:str,surname:str, date:datetime, job:str, salary:float):\n",
    "        Person.__init__(self,name,surname,date)\n",
    "        self.job=job\n",
    "        self.bonus=10\n",
    "        self.salary=salary+(self.bonus/100)*salary  \n",
    "        self.supervised=list() \n",
    "\n",
    "    def get_raise(self,amount:float):\n",
    "        self.salary+=amount\n",
    "\n",
    "    def get_payStub(self):\n",
    "        return self.salary\n",
    "\n",
    "    def add_supervised_employee(self,employe:Employee):\n",
    "        employe.supervised.append(self)\n",
    "        self.supervised.append(employe)\n",
    "\n",
    "    def __str__(self):\n",
    "        return f\"Name= {self.name}, Surname= {self.surname} Job= {self.job} Salary= {self.salary}\"\n",
    "\n",
    "em=Employee(\"Manisi\",\"Cosimo\",datetime.datetime.now(),\"JOB\",1500)\n",
    "man=Manager(\"Monaco\",\"Cosimo\",datetime.datetime.now(),\"JOB\",1500)\n",
    "print(man)\n",
    "print(em)"
   ]
  },
  {
   "cell_type": "markdown",
   "metadata": {},
   "source": [
    "# Step 3 - Adding and altering behaviour\n",
    "\n",
    "- Customize the chosen representation method for both classes accordingly\n",
    "- Introduce a method `give_raise` that increments of a given value the base salary of an instance\n",
    "- Introduce a method `get_paystub` that displays the current salary for a given instance"
   ]
  },
  {
   "cell_type": "code",
   "execution_count": 3,
   "metadata": {},
   "outputs": [
    {
     "name": "stdout",
     "output_type": "stream",
     "text": [
      "Name= Monaco, Surname= Cosimo Job= JOB Salary= 2150.0\n",
      "Name= Manisi, Surname= Cosimo Job= JOB Salary= 1500\n"
     ]
    }
   ],
   "source": [
    "em=Employee(\"Manisi\",\"Cosimo\",datetime.datetime.now(),\"JOB\",1500)\n",
    "man=Manager(\"Monaco\",\"Cosimo\",datetime.datetime.now(),\"JOB\",1500)\n",
    "\n",
    "man.get_raise(500)\n",
    "print(man)\n",
    "print(em)"
   ]
  },
  {
   "cell_type": "markdown",
   "metadata": {},
   "source": [
    "# Step 4 - Adding interaction among instances\n",
    "\n",
    "A manager supervises one or more employees. An employee can be supervised by one or more manager. Model this aspect appropriately and include the required methods to manage this kind of relation among instances, e.g., introduce a method `add_supervised_employee` to `Manager`. Introduce all the methods you deem necessary."
   ]
  },
  {
   "cell_type": "code",
   "execution_count": 4,
   "metadata": {},
   "outputs": [
    {
     "name": "stdout",
     "output_type": "stream",
     "text": [
      "Name= Mario, Surname= Rossi Job= JOB Salary= 1500\n",
      "Name= Bianchi, Surname= Andrea Job= JOB Salary= 1500\n",
      "Name= Giovanni, Surname= Verdi Job= JOB Salary= 1500\n",
      "######\n",
      "Name= Michelangelo, Surname= Neri Job= JOB Salary= 1650.0\n",
      "Name= Francesca, Surname= Pia Job= JOB Salary= 1650.0\n"
     ]
    }
   ],
   "source": [
    "e1=Employee(\"Mario\",\"Rossi\",datetime.datetime.now(),\"JOB\",1500)\n",
    "e2=Employee(\"Bianchi\",\"Andrea\",datetime.datetime.now(),\"JOB\",1500)\n",
    "e3=Employee(\"Giovanni\",\"Verdi\",datetime.datetime.now(),\"JOB\",1500)\n",
    "e4=Employee(\"Nicola\",\"Viola\",datetime.datetime.now(),\"JOB\",1500)\n",
    "\n",
    "man1=Manager(\"Michelangelo\",\"Neri\",datetime.datetime.now(),\"JOB\",1500)\n",
    "man2=Manager(\"Francesca\",\"Pia\",datetime.datetime.now(),\"JOB\",1500)\n",
    "\n",
    "man1.add_supervised_employee(e1)\n",
    "man1.add_supervised_employee(e2)\n",
    "man1.add_supervised_employee(e3)\n",
    "man2.add_supervised_employee(e1)\n",
    "man2.add_supervised_employee(e4)\n",
    "\n",
    "\n",
    "for m in man1.supervised:\n",
    "    print(m)\n",
    "print(\"######\")\n",
    "for m in e1.supervised:\n",
    "    print(m)"
   ]
  },
  {
   "cell_type": "markdown",
   "metadata": {},
   "source": [
    "# Step 5 - Employee overviews\n",
    "Write a second order function accepting a collection of employees and either a comparison function or a key function to sort and visualize employees according to a given criteria, e.g., by base salary or job description or date of birth, etc.\n",
    "\n",
    "## Hints\n",
    "Take a look at the `key` argument of the `sorted` function and the `cmp_to_key` of the module `functools`."
   ]
  },
  {
   "cell_type": "code",
   "execution_count": 5,
   "metadata": {},
   "outputs": [
    {
     "name": "stdout",
     "output_type": "stream",
     "text": [
      "Name= Mario, Surname= Rossi Job= JOB Salary= 2200\n",
      "Name= Bianchi, Surname= Andrea Job= JOB Salary= 1500\n"
     ]
    }
   ],
   "source": [
    "from functools import cmp_to_key\n",
    "\n",
    "e1.get_raise(700)\n",
    "\n",
    "def keyFunction(emplA:Employee,k:str):\n",
    "    if k==\"name\":\n",
    "        return emplA.name \n",
    "    elif k==\"surname\":\n",
    "        return emplA.surname\n",
    "    elif k==\"salary\":\n",
    "        return emplA.salary\n",
    "    elif k==\"job\":\n",
    "        return emplA.salary\n",
    "    elif k==\"date\":\n",
    "        return emplA.date\n",
    "    else:\n",
    "        return emplA.name \n",
    "\n",
    "def overviews(employees:list, criteria:str):\n",
    "    for e in sorted(employees,key=lambda x : keyFunction(x,criteria),reverse=True):\n",
    "        print(e)\n",
    "\n",
    "\n",
    "\n",
    "overviews([e1,e2],\"date\")"
   ]
  },
  {
   "cell_type": "markdown",
   "metadata": {},
   "source": [
    "# Step 6 - Querying employees\n",
    "\n",
    "Count the number of employees younger than 30 years old whose net salary is higher than 20k€.\n",
    "Suppose that the net salary can be computed as 80% of the base salary.\n",
    "\n",
    "## Hints\n",
    "\n",
    "Combine a reduce function with `filter` and `map` in order to obtain the desired result."
   ]
  },
  {
   "cell_type": "code",
   "execution_count": 6,
   "metadata": {},
   "outputs": [
    {
     "name": "stdout",
     "output_type": "stream",
     "text": [
      "Tot: 2\n"
     ]
    }
   ],
   "source": [
    "from collections import Counter\n",
    "from functools import reduce\n",
    "\n",
    "e1=Employee(\"Mario\",\"Rossi\",datetime.datetime(1924, 5, 17),\"JOB\",1800)\n",
    "e2=Employee(\"Bianchi\",\"Andrea\",datetime.datetime(1999, 5, 17),\"JOB\",1400)\n",
    "e3=Employee(\"Giovanni\",\"Verdi\",datetime.datetime(2000, 5, 17),\"JOB\",2600)\n",
    "e4=Employee(\"Nicola\",\"Viola\",datetime.datetime(1994, 5, 17),\"JOB\",2200)\n",
    "\n",
    "l=list([e1,e2,e3,e4])\n",
    "\n",
    "def func(a,b):\n",
    "    return sum([a,b])\n",
    "\n",
    "first   =filter (lambda x: (int(datetime.datetime.now().strftime(\"%Y\")) - int(x.date.strftime(\"%Y\")) ) < 30,l )\n",
    "second  =map    (lambda x: (x.salary*0.80)*14 > 20000 ,first )\n",
    "\n",
    "print(\"Tot:\", reduce(func,second))\n"
   ]
  }
 ],
 "metadata": {
  "colab": {
   "authorship_tag": "ABX9TyNg+/eKCJI36L1Ua4sxenuV",
   "name": "M3_Workbook_Basics.ipynb",
   "provenance": []
  },
  "interpreter": {
   "hash": "544ee7c543f0408712405a0d707d2c8ee85e48269dc9e203eb136c867a37bf91"
  },
  "kernelspec": {
   "display_name": "Python 3.9.6 64-bit",
   "language": "python",
   "name": "python3"
  },
  "language_info": {
   "codemirror_mode": {
    "name": "ipython",
    "version": 3
   },
   "file_extension": ".py",
   "mimetype": "text/x-python",
   "name": "python",
   "nbconvert_exporter": "python",
   "pygments_lexer": "ipython3",
   "version": "3.9.6"
  }
 },
 "nbformat": 4,
 "nbformat_minor": 4
}
