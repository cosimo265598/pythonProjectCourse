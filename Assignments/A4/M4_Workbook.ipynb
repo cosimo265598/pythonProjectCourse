{
 "cells": [
  {
   "cell_type": "markdown",
   "id": "3c3c19b8-da7e-4968-a700-8571419805ad",
   "metadata": {},
   "source": [
    "# Ex. 01 - Sum-of-products vectorization\n",
    "\n",
    "Assume you are given two vectors $\\bar{a}$ and $\\bar{b}$, and you want to compute $\\sum a(i)*b(j) \\quad \\forall (i, j)$.\n",
    "\n",
    "Propose a pure procedural solution in Python and a vectorized solution using NumPy. \n",
    "Evaluate the cost, in term of time, of your algorithms. Make sure to use inputs of relevant size, e.g., at least in the order of the thousands of elements.\n",
    "\n",
    "## Hints\n",
    "- You may need to use broadacasting to perform the desired computation\n",
    "- NumPy arrays expose built-in methods, such as `sum()` that may come in handy "
   ]
  },
  {
   "cell_type": "code",
   "execution_count": 10,
   "id": "cfede781",
   "metadata": {},
   "outputs": [
    {
     "name": "stdout",
     "output_type": "stream",
     "text": [
      "[0 1 2 3]\n",
      "[[0]\n",
      " [1]\n",
      " [2]]\n",
      "[[0 1 2 3]\n",
      " [1 2 3 4]\n",
      " [2 3 4 5]]\n"
     ]
    }
   ],
   "source": [
    "import numpy as np\n",
    "\n",
    "a=np.arange(4)\n",
    "b=np.arange(3)[:,np.newaxis]\n",
    "\n",
    "print(a)\n",
    "print(b)\n",
    "\n",
    "c=10\n",
    "\n",
    "print(a+b)\n"
   ]
  },
  {
   "cell_type": "markdown",
   "id": "3f832f0d-10f6-4d0d-8c71-dd11253b0452",
   "metadata": {},
   "source": [
    "# Ex. 02 - Sliding-window average\n",
    "Given a one-dimensional array, compute moving averages of span `S` over the input data.\n",
    "\n",
    "## Example\n",
    "- `S` = `5`\n",
    "- `in` = `[0, 3, 6, 9, 12, 15, 18, 21, 24, 27]`\n",
    "- `out` = `[6, 9, 12, 15, 18, 21]`"
   ]
  },
  {
   "cell_type": "code",
   "execution_count": 69,
   "id": "7f6172ec",
   "metadata": {},
   "outputs": [
    {
     "name": "stdout",
     "output_type": "stream",
     "text": [
      "[ 0  3  6  9 12 15 18 21 24 27]\n",
      "[6.0, 9.0, 12.0, 15.0, 18.0, 21.0]\n"
     ]
    }
   ],
   "source": [
    "S=5\n",
    "input=np.array([0, 3, 6, 9, 12, 15, 18, 21, 24, 27])\n",
    "print(input)\n",
    "\n",
    "tot=[]\n",
    "for i in range(int(s/2)+1):\n",
    "    tot.append(np.average(input[i:S+i]))\n",
    "\n",
    "print(tot)"
   ]
  },
  {
   "cell_type": "markdown",
   "id": "3aba2ae6-a179-470d-bc2e-42734b90f4b1",
   "metadata": {},
   "source": [
    "# Ex. 03 - Higher-dimension Cartesian product\n",
    "Given an arbitrary number of vectors, build the resulting Cartesian product, i.e., every combination of every item from every vector.\n",
    "\n",
    "## Example:\n",
    "Given three arrays `[1, 2]`, `[3, 4, 5]`, and `[6, 7]` the result should be the following:\n",
    "```python\n",
    "[[1 3 6]\n",
    " [1 3 7]\n",
    " [1 4 6]\n",
    " [1 4 7]\n",
    " [1 5 6]\n",
    " [1 5 7]\n",
    " [2 3 6]\n",
    " [2 3 7]\n",
    " [2 4 6]\n",
    " [2 4 7]\n",
    " [2 5 6]\n",
    " [2 5 7]]\n",
    "```"
   ]
  },
  {
   "cell_type": "code",
   "execution_count": 112,
   "id": "1c0bf4b3",
   "metadata": {},
   "outputs": [
    {
     "name": "stdout",
     "output_type": "stream",
     "text": [
      "[[1 3 6]\n",
      " [1 3 7]\n",
      " [1 4 6]\n",
      " [1 4 7]\n",
      " [1 5 6]\n",
      " [1 5 7]\n",
      " [2 3 6]\n",
      " [2 3 7]\n",
      " [2 4 6]\n",
      " [2 4 7]\n",
      " [2 5 6]\n",
      " [2 5 7]]\n"
     ]
    }
   ],
   "source": [
    "def prodCatesian(*arrays):\n",
    "    lens= [len(a) for a in arrays]\n",
    "    ix =np.indices(lens,dtype=int)\n",
    "    ix = ix.reshape(len(arrays), -1).T\n",
    "    for n,arr in enumerate(arrays):\n",
    "        ix[:,n]=arr[ix[:,n]]    \n",
    "\n",
    "    return ix\n",
    "\n",
    "a=np.array([1,2])\n",
    "b=np.array([3,4,5])\n",
    "c=np.array([6,7])\n",
    "\n",
    "out=prodCatesian(a,b,c)\n",
    "print(out)\n"
   ]
  },
  {
   "cell_type": "markdown",
   "id": "9b496348-515c-4270-8d3d-070d9c3bf0df",
   "metadata": {},
   "source": [
    "# Ex. 04.1 - Random walk \n",
    "\n",
    "In mathematics, a [random walk](https://en.wikipedia.org/wiki/Random_walk) is a random process that describes a path that consists of a succession of random steps on some mathematical space. \n",
    "\n",
    "For the purpose of this exercise let's consider a random walk in a mono-dimensional space, i.e., each step is just a step to the left or to the right, with equal probability, with respect to current position. Assume also that the starting point is the origin of our 1-d space.\n",
    "\n",
    "Your task is to write a random walker with different approaches and then compare their time efficiency.\n",
    "1. A procedural solution, in which the random walker is just a function\n",
    "2. A OOP solution, in which the random walker is a class exposing the walk functionalities\n",
    "3. A vectoried solution, in which the random walker exploit NumPy functionalities\n",
    "\n",
    "## Hints\n",
    "- In order to exploit vectorization, keep in mind that the result of a random walk in 1d can be though as the result of a sequence of cumulative sums of either +1 or -1 from a given starting position."
   ]
  },
  {
   "cell_type": "code",
   "execution_count": 76,
   "id": "1605e7c5-e9ee-4aa8-97f2-ae1d7e609e82",
   "metadata": {},
   "outputs": [
    {
     "name": "stdout",
     "output_type": "stream",
     "text": [
      "[1, 0, 1, 2, 1, 2, 3, 2, 3, 4, 5, 4, 3, 2, 3, 2, 3, 2, 1, 0, 1, 0, 1, 0, 1, 2, 1, 0, -1, -2, -1, 0, -1, 0, 1, 0, 1, 2, 1, 0, -1, 0, -1, -2, -3, -4, -5, -4, -3, -4]\n"
     ]
    }
   ],
   "source": [
    "### 1\n",
    "DIM=50\n",
    "def procedural_random_walk(dim:int):\n",
    "    walk=np.random.choice([1,-1],dim,p=[0.5,0.5])\n",
    "    somma=0\n",
    "    vet=[]\n",
    "    for e in walk:\n",
    "        somma+=e\n",
    "        vet.append(somma)\n",
    "    return vet\n"
   ]
  },
  {
   "cell_type": "code",
   "execution_count": 83,
   "id": "25c65e8a-f458-43df-a16d-49cb0e2eaa33",
   "metadata": {},
   "outputs": [
    {
     "ename": "AttributeError",
     "evalue": "'NoneType' object has no attribute 'generateWalk'",
     "output_type": "error",
     "traceback": [
      "\u001b[1;31m---------------------------------------------------------------------------\u001b[0m",
      "\u001b[1;31mAttributeError\u001b[0m                            Traceback (most recent call last)",
      "\u001b[1;32mc:\\Users\\Cosim\\Documents\\GitHubFolder\\m4-workbooks-cosimo265598\\M4_Workbook.ipynb Cell 9'\u001b[0m in \u001b[0;36m<cell line: 10>\u001b[1;34m()\u001b[0m\n\u001b[0;32m      <a href='vscode-notebook-cell:/c%3A/Users/Cosim/Documents/GitHubFolder/m4-workbooks-cosimo265598/M4_Workbook.ipynb#ch0000008?line=6'>7</a>\u001b[0m         \u001b[39mreturn\u001b[39;00m np\u001b[39m.\u001b[39mcumsum(np\u001b[39m.\u001b[39mrandom\u001b[39m.\u001b[39mchoice([\u001b[39m1\u001b[39m,\u001b[39m-\u001b[39m\u001b[39m1\u001b[39m],\u001b[39mself\u001b[39m\u001b[39m.\u001b[39mdim,p\u001b[39m=\u001b[39m[\u001b[39m0.5\u001b[39m,\u001b[39m0.5\u001b[39m]))\n\u001b[0;32m      <a href='vscode-notebook-cell:/c%3A/Users/Cosim/Documents/GitHubFolder/m4-workbooks-cosimo265598/M4_Workbook.ipynb#ch0000008?line=8'>9</a>\u001b[0m c\u001b[39m=\u001b[39mClsRandomWalk()\n\u001b[1;32m---> <a href='vscode-notebook-cell:/c%3A/Users/Cosim/Documents/GitHubFolder/m4-workbooks-cosimo265598/M4_Workbook.ipynb#ch0000008?line=9'>10</a>\u001b[0m c\u001b[39m.\u001b[39;49mgenerateWalk()\n",
      "\u001b[1;31mAttributeError\u001b[0m: 'NoneType' object has no attribute 'generateWalk'"
     ]
    }
   ],
   "source": [
    "### 2\n",
    "def ClsRandomWalk():\n",
    "    def __init__ (self,dim):\n",
    "        self.dim=dim\n",
    "\n",
    "    def generateWalk(self):\n",
    "        return np.cumsum(np.random.choice([1,-1],self.dim,p=[0.5,0.5]))\n",
    "\n",
    "c=ClsRandomWalk()\n",
    "c.generateWalk()\n"
   ]
  },
  {
   "cell_type": "code",
   "execution_count": 81,
   "id": "7c8bfc15-6fd3-4ca8-a35c-ce2ad32dcef4",
   "metadata": {},
   "outputs": [
    {
     "data": {
      "text/plain": [
       "array([-1, -2, -3, -4, -3, -2, -3, -4, -5, -4, -3, -2, -1, -2, -1,  0,  1,\n",
       "        2,  3,  4,  3,  2,  1,  2,  3,  2,  1,  2,  3,  4,  3,  2,  3,  2,\n",
       "        3,  2,  3,  4,  3,  2,  1,  0,  1,  2,  3,  2,  3,  2,  3,  4])"
      ]
     },
     "execution_count": 81,
     "metadata": {},
     "output_type": "execute_result"
    }
   ],
   "source": [
    "### 3\n",
    "def vectorized_random_walk(dim:int):\n",
    "    array=np.random.choice([1,-1],dim,p=[0.5,0.5])\n",
    "    return np.cumsum(array)\n",
    "\n",
    "vectorized_random_walk(50)"
   ]
  },
  {
   "cell_type": "markdown",
   "id": "49c56379-4cdf-4c40-be63-7fcc285e9aa2",
   "metadata": {},
   "source": [
    "## Visualization\n",
    "\n",
    "You can use the following code to visualize your random walk in a plot. You just need to substitute your data as the input vector."
   ]
  },
  {
   "cell_type": "code",
   "execution_count": 14,
   "id": "bedd1dda-bdb1-4bad-80f4-4f40ada99591",
   "metadata": {},
   "outputs": [
    {
     "data": {
      "image/png": "[encoded data removed]",
      "text/plain": [
       "<Figure size 432x288 with 1 Axes>"
      ]
     },
     "metadata": {
      "needs_background": "light"
     },
     "output_type": "display_data"
    }
   ],
   "source": [
    "# Matplotlib code for 1-D random walk.\n",
    "import matplotlib.pyplot as plt\n",
    " \n",
    "v1=procedural_random_walk(DIM)\n",
    "v2=ClsRandomWalk().ge\n",
    "# Changes these hardcoded sample values with your results...\n",
    "positions = [0, -1, -2, -1, 0, 1, 2, 3, 2, 3, 2, 1, 0, -1, 0, -1, 0, 1, 2, 3]\n",
    " \n",
    "# plotting down the graph of the random walk in 1D\n",
    "plt.plot(positions, 'o--')\n",
    "plt.xticks(range(0, len(positions)+1))\n",
    "plt.grid(axis='y', color='0.95')\n",
    "plt.show()"
   ]
  },
  {
   "cell_type": "markdown",
   "id": "3f5e3a5f-ad6a-492b-896c-0ee79d742725",
   "metadata": {},
   "source": [
    "# Ex. 04.2 - Random walk in higher dimensions\n",
    "Revise the previous exercise to support random walks in higher dimensions. To keep things *simple*, take into account only 2d and 3d walks."
   ]
  },
  {
   "cell_type": "markdown",
   "id": "e5eb5806-15af-47ff-84a3-586de197ef4a",
   "metadata": {},
   "source": [
    "## Visualization [2D]\n",
    "\n",
    "You can use the following code to visualize your random walk in a 2d plot. You just need to substitute your data as the input vector."
   ]
  },
  {
   "cell_type": "code",
   "execution_count": 33,
   "id": "c1d4594f-bfc1-4a89-b49e-965e558570c8",
   "metadata": {},
   "outputs": [
    {
     "data": {
      "image/png": "[encoded data removed]",
      "text/plain": [
       "<Figure size 432x288 with 1 Axes>"
      ]
     },
     "metadata": {
      "needs_background": "light"
     },
     "output_type": "display_data"
    }
   ],
   "source": [
    "# Matplotlib code for 2-D random walk.\n",
    "import matplotlib.pyplot as plt\n",
    " \n",
    "# Changes these hardcoded sample values with your results...\n",
    "positions = [(0,0), (0,1), (0,2), (1,2), (2,2), (2,1), (1,1), (1,2), (1,3), (1,4)]\n",
    " \n",
    "# plotting down the graph of the random walk in 2D\n",
    "plt.plot(*zip(*positions), 'o--')\n",
    "plt.show()"
   ]
  },
  {
   "cell_type": "markdown",
   "id": "ff09707b-5817-44ec-99d8-7197e25bc95b",
   "metadata": {},
   "source": [
    "# Ex. 06 - Python vs. NumPy vs. Numba\n",
    "\n",
    "Conduct an experiment to compare performance of standard Python, NumPy and just-in-time compiled code using Numba.\n",
    "Complete the following set of functions and/or choose the most appropriate NumPy methods and evaluate their efficiency over collections of random samples."
   ]
  },
  {
   "cell_type": "code",
   "execution_count": 4,
   "id": "ae2fc2ae-6e5e-48e7-9e37-5e0d84cb20d7",
   "metadata": {},
   "outputs": [],
   "source": [
    "import numpy as np\n",
    "import numba\n",
    "\n",
    "data = np.random.randn(50000)"
   ]
  },
  {
   "cell_type": "code",
   "execution_count": 17,
   "id": "6ef3fe71-59aa-4f3c-8efd-f166fb411e5f",
   "metadata": {},
   "outputs": [],
   "source": [
    "def py_sum(data):\n",
    "    \"\"\"\n",
    "    A pure Python function to sum all the values within a collection\n",
    "    \"\"\"\n",
    "    pass"
   ]
  },
  {
   "cell_type": "code",
   "execution_count": 18,
   "id": "9e67cb3a-acd6-478d-b906-0bcfa9a80ec2",
   "metadata": {},
   "outputs": [],
   "source": [
    "def py_cumulative_sum(data):\n",
    "    \"\"\"\n",
    "    A pure Python function that generate a collection of cimulative sums over an input collections\n",
    "    e.g., in = [1,2,3,4] out = [1,3,6,10]\n",
    "    \"\"\"\n",
    "    pass"
   ]
  },
  {
   "cell_type": "code",
   "execution_count": 19,
   "id": "6d1a79c6-50ba-4dbe-833b-ad889b7bfa38",
   "metadata": {},
   "outputs": [],
   "source": [
    "...\n",
    "def jit_sum(data):\n",
    "    \"\"\"\n",
    "    A jit-decorated Python function to sum all the values within a collection\n",
    "    \"\"\"\n",
    "    pass"
   ]
  },
  {
   "cell_type": "markdown",
   "id": "ff7da520-0ba9-4f00-a01c-fa2505c4b5fb",
   "metadata": {},
   "source": [
    "# Ex. 07 - Julia Set\n",
    "\n",
    "In complex dynamics, the Julia set consists of a family of functions that demonstrate how small variations in parameters may have drastic changes in the sequence of iterated function values, i.e., they manifest some sort of chaotic behaviour.\n",
    "\n",
    "In its general form, a Julia function is in the form $f(z) = z^2 + c$ where $c$ is a complex number. For each different $c$ we get a different Julia set.\n",
    "\n",
    "We can *draw* our Julia set implementing the following pseudo-algorithm\n",
    "\n",
    "```{r, tidy=FALSE, eval=FALSE, highlight=FALSE }\n",
    "c = ...\n",
    "for x in x_range do:\n",
    "  for y in y_range do:\n",
    "    z = x + i*y # sample a complex point in the complex plane\n",
    "    N = 0 # initial color for this sample\n",
    "    while absolute(z) < 2 and N < MAX_ITERATIONS: # iterate until convergence\n",
    "      z = z^2 + c\n",
    "    j[x, y] = N # set the final value for this point\n",
    "```\n",
    "\n",
    "Implement a function to evaluate the Julia set in a subset of the complex plane both in pure Python and in a vectorized fashion using NumPy. Evaluate the performance of both implementations, as well as the performance of the Numba decorated version of your Python function.\n",
    "\n",
    "Complete the code snippets below to fullfil these tasks. Both the NumPy version and the Python version rely on a NumPy array to store the end result, for generality.\n",
    "\n",
    "Using the default values below, you should obtain a set similiar to the following image.\n",
    "<center><img src=\"./sample_julia.jpg\"/><center/>"
   ]
  },
  {
   "cell_type": "code",
   "execution_count": null,
   "id": "29d2647c-4d75-47b4-a5fa-0b078b7c05fe",
   "metadata": {},
   "outputs": [],
   "source": [
    "import numpy as np\n",
    "import numba\n",
    "import matplotlib.pyplot as plt\n",
    "\n",
    "X_MIN = -1\n",
    "X_MAX = 1\n",
    "Y_MIN = -1\n",
    "Y_MAX = 1\n",
    "N = 1000\n",
    "\n",
    "# Various c you can try\n",
    "c_1 = -0.4 + 0.6j\n",
    "c_2 = -0.8j\n",
    "c_3 = -0.8 + 0.15j\n",
    "c_4 = -0.05 + 0.68j\n",
    "\n",
    "def py_julia_set(c=-0.4 + 0.6j, max_iter = 100):\n",
    "    X = np.linspace(X_MIN, X_MAX, N)\n",
    "    Y = np.linspace(Y_MIN, Y_MAX, N)\n",
    "    J = ...\n",
    "    return J\n",
    "                    \n",
    "jit_julia_set = numba.jit(nopython=True)(py_julia_set)\n",
    "\n",
    "def np_julia_set(c=-0.4 + 0.6j, max_iter = 100):\n",
    "    ...\n",
    "    J = ...\n",
    "    ...\n",
    "    return J\n",
    "\n",
    "J = py_julia_set()\n",
    "# J = jit_julia_set()\n",
    "# J = np_julia_set()\n",
    "\n",
    "fig, ax = plt.subplots(figsize=(8, 8))\n",
    "ax.set_xlabel(\"$\\mathrm{Re}(z)$\", fontsize=18)\n",
    "ax.set_ylabel(\"$\\mathrm{Im}(z)$\", fontsize=18)\n",
    "ax.imshow(J, cmap='magma', extent=[X_MIN, X_MAX, Y_MIN, Y_MAX])\n",
    "plt.show()"
   ]
  },
  {
   "cell_type": "markdown",
   "id": "7f297647-c08b-4c04-a70e-9541affb0202",
   "metadata": {
    "tags": []
   },
   "source": [
    "# Ex. 08 - Min-max Normalization\n",
    "Rescaling (also called [min-max normalization](https://en.wikipedia.org/wiki/Feature_scaling)) is a normalization technique that is frequently used when trying to compare datasets with different scales or that use different units, such as comparing miles to meters. Given a dataset $X$, rescaling applies the following formula to normalize each value $x \\in X$ to scale the range in $[0, 1]$:\n",
    "\n",
    "$$\n",
    "x' = \\frac{x - min(X)}{max(X) - min(X)}\n",
    "$$\n",
    "\n",
    "Write a Python program that does the following:\n",
    "- Generate two random datasets of size `DATASET_SIZE` with values whose scale cannot be immediately compared to one another.\n",
    "- Build a custom universal function that applies rescaling to a dataset.\n",
    "- Compare the performace of rescaling performed using the custom universal function to the same operation done using a list comprehension.\n",
    "- Compute the (rescaled) standard deviation of each dataset to determine which of them shows the greater amount of variation.\n",
    "\n",
    "## Hints\n",
    "- The function `numpy.frompyfunc` creates a NumPy `ufunc` from an arbitrary Python function.\n",
    "- The classes in [scipy.stats](https://docs.scipy.org/doc/scipy/reference/stats.html?highlight=scipy%20stats#module-scipy.stats) allows us to generate datasets starting from different types of univariate random distributions. In particular take a look at the `rvs()` method of those classes."
   ]
  }
 ],
 "metadata": {
  "interpreter": {
   "hash": "544ee7c543f0408712405a0d707d2c8ee85e48269dc9e203eb136c867a37bf91"
  },
  "kernelspec": {
   "display_name": "Python 3.9.6 64-bit",
   "language": "python",
   "name": "python3"
  },
  "language_info": {
   "codemirror_mode": {
    "name": "ipython",
    "version": 3
   },
   "file_extension": ".py",
   "mimetype": "text/x-python",
   "name": "python",
   "nbconvert_exporter": "python",
   "pygments_lexer": "ipython3",
   "version": "3.9.6"
  },
  "toc-autonumbering": false,
  "toc-showmarkdowntxt": false
 },
 "nbformat": 4,
 "nbformat_minor": 5
}
