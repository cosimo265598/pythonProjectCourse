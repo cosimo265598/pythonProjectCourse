{
 "cells": [
  {
   "cell_type": "markdown",
   "id": "49d823a2-b925-4b94-bde7-27af94bc80c2",
   "metadata": {},
   "source": [
    "# Conway's Game of Life Redux\n",
    "\n",
    "Conway's Game of Life is a cellular automata simulation that follows simple rules to create visual patterns.\n",
    "The *game* is played on a two-dimensional board (a grid) of cells. Each cell can be either black or white.\n",
    "The board evolves according to the following rules:\n",
    "- Living (black) cells with two or three neighbors stay alive in the next step of the simulation;\n",
    "- Dead (white) cells with exactly three living neighbors become alive in the next step of the simulation;\n",
    "- Any other cell dies or stays dead in the next step of the simulation.\n",
    "\n",
    "The living or dead state of the cells in the next step of the simulation depends entirely on their current state. There is no *memory* whatsoever for the grid cells beside the current board status, which rules the living or dead state of the cells in the next step of the simulation.\n",
    "\n",
    "You might have tackled this assignment earlier during Module 1, in which you were asked to solve it using only Python.\n",
    "This kind of problem, where all the elements share the same computation at every step, with no peculiar processing for any item, is particularly suitable for vectorization, which NumPy excels in.\n",
    "\n",
    "The most straightforward interpretation for this problem is to consider each cellular automata as a cell within a 2d array, with a frame of up to 8 neighbours all around it.\n",
    "\n",
    "The initial patterns represent the *seed* of the board, i.e., our system initial configuration. If you want to be able to replicate your runs, it is better to also seed the random function in order to obtain consistent results, at least during development. The first generation, and each subsequent one, is created by applying the above rules *simultaneously* to every cell in the game. Births and deaths happen simultaneously. The rules continue to be applied repeatedly to create further generations until convergence of until a given number of iterations have been performed.\n",
    "\n",
    "Beside implementing the vectorized algorithm to evolve the system itself, you are also required to visualize its evolution, relying on `matplotlib` plotting capabilities. You are required to plot both the living cells as well as keeping track of an activity threshold for each currently death cell in order to visualize where cells *have lived* in the past. You are free to choose whatever criteria you deem suitable to provide such a visual feedback.\n",
    "\n",
    "In the following images you can find an example of such a feature, in which living cells are filled in white, whereas previously living cell are shaded in a scale of blues, with brighter colours for cell that died most recently. Colours fade as time passes, alongside decreasing activity values.\n",
    "\n",
    "<center><img src=\"gol_v1.gif\" style=\"float:left; max-width:500px;\"/></center>\n",
    "<center><img src=\"gol_v2.gif\" style=\"max-width:500px;\"/></center>\n",
    "\n",
    "## Info\n",
    "\n",
    "If you want to visualize the whole evolution of your system in an animation, you can rely on `FuncAnimation` available within `matplotlib.animation`. \n",
    "Your main function should return an `animation` object as its return value, using something like\n",
    "```python\n",
    "return FuncAnimation(fig, evolve, **animation_kwargs)\n",
    "```\n",
    "where `fig` is you canvas, `evolve` is the function that is responsible for evolving your system and `**animation_kwargs` are optional keyword arguments for customizing the behaviour of your animation, such as the number of frames to draw, for instance.\n",
    "\n",
    "Once you have your animation object, you can save it in various formats. The most straightforward is `.gif` using\n",
    "`animation.save('path/to/dest/file.gif', writer='pillow')`"
   ]
  },
  {
   "cell_type": "code",
   "execution_count": 61,
   "id": "658e6648",
   "metadata": {},
   "outputs": [
    {
     "data": {
      "image/png": "[encoded data removed]",
      "text/plain": [
       "<Figure size 432x288 with 1 Axes>"
      ]
     },
     "metadata": {
      "needs_background": "light"
     },
     "output_type": "display_data"
    }
   ],
   "source": [
    "# Python code to implement Conway's Game Of Life\n",
    "import argparse\n",
    "import numpy as np\n",
    "import matplotlib.pyplot as plt\n",
    "import matplotlib.animation as animation\n",
    "\n",
    "ON=1\n",
    "OFF=0\n",
    "VALUES=[ON,OFF]\n",
    "HEIGHT = 100\n",
    "WIDTH = 100\n",
    "\n",
    "class Game():\n",
    "    def __init__(self,height:int,width:int):\n",
    "        self.height=height\n",
    "        self.width=width  \n",
    "\n",
    "    def generateMatrix(self):\n",
    "        return np.random.randint(2, size=(HEIGHT, WIDTH))\n",
    "\n",
    "    def generateVariation(self,matrix):\n",
    "        \n",
    "        return np.vectorize(self._check)(matrix)\n",
    "\n",
    "    def _check(self,i):\n",
    "        \n",
    "        print(i)\n",
    "        \n",
    "\n",
    "\n",
    "\n",
    "\n",
    "\n",
    "def update(frameNum, img, grid, N):\n",
    "\n",
    "\t# copy grid since we require 8 neighbors\n",
    "\t# for calculation and we go line by line\n",
    "\tnewGrid = grid.copy()\n",
    "\tfor i in range(N):\n",
    "\t\tfor j in range(N):\n",
    "\n",
    "\t\t\t# compute 8-neighbor sum\n",
    "\t\t\t# using toroidal boundary conditions - x and y wrap around\n",
    "\t\t\t# so that the simulation takes place on a toroidal surface.\n",
    "\t\t\ttotal = int((grid[i, (j-1)%N] + grid[i, (j+1)%N] +\n",
    "\t\t\t\t\t\tgrid[(i-1)%N, j] + grid[(i+1)%N, j] +\n",
    "\t\t\t\t\t\tgrid[(i-1)%N, (j-1)%N] + grid[(i-1)%N, (j+1)%N] +\n",
    "\t\t\t\t\t\tgrid[(i+1)%N, (j-1)%N] + grid[(i+1)%N, (j+1)%N])/255)\n",
    "\n",
    "\t\t\t# apply Conway's rules\n",
    "\t\t\tif grid[i, j] == ON:\n",
    "\t\t\t\tif (total < 2) or (total > 3):\n",
    "\t\t\t\t\tnewGrid[i, j] = OFF\n",
    "\t\t\telse:\n",
    "\t\t\t\tif total == 3:\n",
    "\t\t\t\t\tnewGrid[i, j] = ON\n",
    "\n",
    "\t# update data\n",
    "\timg.set_data(newGrid)\n",
    "\tgrid[:] = newGrid[:]\n",
    "\treturn img,\n",
    "\n",
    "# main() function\n",
    "def main():\n",
    "\n",
    "    g=Game(HEIGHT,WIDTH)\n",
    "    grid=g.generateMatrix()\n",
    "\n",
    "    N = 100\n",
    "    updateInterval = 50\n",
    "\n",
    "    # set up animation\n",
    "    fig, ax = plt.subplots()\n",
    "    img = ax.imshow(grid, interpolation='nearest')\n",
    "    ani = animation.FuncAnimation(fig, update, fargs=(img, grid, N, ),\n",
    "                                frames = 10,\n",
    "                                interval=updateInterval,\n",
    "                                save_count=50)\n",
    "    plt.show()\n",
    "\n",
    "# call main\n",
    "if __name__ == '__main__':\n",
    "\tmain()\n"
   ]
  }
 ],
 "metadata": {
  "kernelspec": {
   "display_name": "Python 3.9.6 64-bit",
   "language": "python",
   "name": "python3"
  },
  "language_info": {
   "codemirror_mode": {
    "name": "ipython",
    "version": 3
   },
   "file_extension": ".py",
   "mimetype": "text/x-python",
   "name": "python",
   "nbconvert_exporter": "python",
   "pygments_lexer": "ipython3",
   "version": "3.9.6"
  },
  "vscode": {
   "interpreter": {
    "hash": "544ee7c543f0408712405a0d707d2c8ee85e48269dc9e203eb136c867a37bf91"
   }
  }
 },
 "nbformat": 4,
 "nbformat_minor": 5
}
