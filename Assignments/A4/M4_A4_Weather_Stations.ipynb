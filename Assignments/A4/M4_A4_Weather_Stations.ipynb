{
 "cells": [
  {
   "cell_type": "markdown",
   "id": "bfeed06f-42e1-44c7-9427-03a66abdb397",
   "metadata": {},
   "source": [
    "# Weather Stations\n",
    "\n",
    "A number of weather stations collect daily observations about atmospheric conditions in a region in order to provide data for weather forecasts and climate control. The file `weather.csv` contains atmospheric observations collected between 01/01/2022 and 30/05/2022 by 49 different stations spread across various locations in Piemonte, Italy. Observations are organized in a tabular way, with one row for each day. Each row has the following format:\n",
    "- The first three columns corresponds to the year, month and day in which the observations took place.\n",
    "- The remaining columns are organized in (49) groups of 10 columns each:\n",
    "    - Each group represent a set of atmospheric observations collected at a given weather station in a given day. The following observations are reported (in order):\n",
    "        - Maximum Temperature (°C)\n",
    "        - Minimum Temperature (°C)\n",
    "        - Mean Temperature (°C)\n",
    "        - Maximum Relative Humidity (%)\n",
    "        - Minimum Relative Humidity (%)\n",
    "        - Mean Relative Humidity (%)\n",
    "        - Maximum Pressure (hPa)\n",
    "        - Minimum Pressure (hPa)\n",
    "        - Mean Pressure (hPa)\n",
    "        - Rainfall (mm)\n",
    "        \n",
    "The first row of the file contains the header:\n",
    "\n",
    "`YEAR, MONTH, DAY, WS_1_MAX_T, WS_1_MIN_T, WS_1_MEAN_T, WS_1_MAX_H, WS_1_MIN_H, WS_1_MEAN_H, ...`\n",
    "\n",
    "Note that each weather station is assigned a numerical identifier that is reported in the header columns in the form: `WS_{station-id}_{observation-type}`.\n",
    "\n",
    "Write a Python program to analyze these atmospheric observations using NumPy.\n",
    "- Load the data into appropriate NumPy arrays.\n",
    "- Perform the following computations:\n",
    "    1. Calculate the minimum, maximum and average rainfall and standard deviation of the rainfall over all the stations and all the days (a single set of numbers for the entire dataset).\n",
    "    2. Calculate the minimum, maximum and average rainfall and standard deviation of the rainfall at each station over all the days (a different set of numbers for each station).\n",
    "    3. Calculate the minimum, maximum and average rainfall and standard deviation of the rainfall across all stations at each day (a different set of numbers for each day).\n",
    "    4. Find the station that registered the highest temperature on each day (a station id for each day).\n",
    "    5. Find the day in which the lowest temperature has been recorded.\n",
    "    6. Find the average relative humidity recorded in February for each station.\n",
    "    7. Calculate the average relative humidity for each month in the dataset.  \n",
    "    8. Compute the monthly average of daily temperature ranges across all stations. Visualize them as a bar plot."
   ]
  },
  {
   "cell_type": "code",
   "execution_count": null,
   "id": "76fc21b4-91f5-4665-a9d2-fd0d959fd4a5",
   "metadata": {},
   "outputs": [],
   "source": []
  }
 ],
 "metadata": {
  "kernelspec": {
   "display_name": "Python 3 (ipykernel)",
   "language": "python",
   "name": "python3"
  },
  "language_info": {
   "codemirror_mode": {
    "name": "ipython",
    "version": 3
   },
   "file_extension": ".py",
   "mimetype": "text/x-python",
   "name": "python",
   "nbconvert_exporter": "python",
   "pygments_lexer": "ipython3",
   "version": "3.9.7"
  }
 },
 "nbformat": 4,
 "nbformat_minor": 5
}
