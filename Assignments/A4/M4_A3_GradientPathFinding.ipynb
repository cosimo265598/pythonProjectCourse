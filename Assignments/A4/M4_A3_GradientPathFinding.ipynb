{
 "cells": [
  {
   "cell_type": "markdown",
   "id": "aee6edd2-8522-4539-be29-b1ca138caff5",
   "metadata": {},
   "source": [
    "# Gradient-based Path Finding \n",
    "\n",
    "Let's consider once again the task of finding a shortest path within a maze. In this instance we are interested in exploiting a gradient-based approach that plays nicely with vectorization. Assume it is possible to move only along the four main directions.\n",
    "\n",
    "The idea behind the algorithms is the following. It starts by initializing the value for the starting position to a given float value, for instance $1.0$. Every other traversable node is initially set to zero. The algorithm then iteratively updates the value of each cell by computing the maximum among its current value and the discounted value of all its neighbours. Such a discounted value is obtained by multiplying the current value of a neighbour by a given factor $\\delta$, with $\\delta < 1$. The procedure continues until the gradient reaches the target position, that in turn assumes a strictly positive value for the first time. The shortest path is identified by climbing the gradient, favouring the steepest ascent, from the end point.\n",
    "\n",
    "In the image below, you can find a visual representation of a few steps of the algorithm in a small sample maze, considering $\\delta$ equal to $0.9$.\n",
    "\n",
    "<center><img src=\"grad_maze.png\"/></center>\n",
    "\n",
    "For this task, a set of sample mazes of various shapes is available (in the subfolder `./mazes`). All mazes are solvable. All mazes have a frame of walls along the first/last row/column.\n",
    "\n",
    "As a sample result, the following image depicts the solution for maze number 4. Solid black cells are walls, solid white cells are unexplored areas, gradient-filled cells are nodes evaluated by the algorithm and white dots represent the path from start to exit.\n",
    "\n",
    "<center><img src=\"solved_maze_4.png\"/></center>\n",
    "\n",
    "Your task is to implement the proposed algorithm using both pure iteration in Python and in a vectorized fashion relying on NumPy, and to compare their performance."
   ]
  },
  {
   "cell_type": "code",
   "execution_count": null,
   "id": "58143fe3-9c8d-4b39-ad4a-8fee6facdd40",
   "metadata": {},
   "outputs": [],
   "source": []
  }
 ],
 "metadata": {
  "kernelspec": {
   "display_name": "Python 3 (ipykernel)",
   "language": "python",
   "name": "python3"
  },
  "language_info": {
   "codemirror_mode": {
    "name": "ipython",
    "version": 3
   },
   "file_extension": ".py",
   "mimetype": "text/x-python",
   "name": "python",
   "nbconvert_exporter": "python",
   "pygments_lexer": "ipython3",
   "version": "3.9.7"
  }
 },
 "nbformat": 4,
 "nbformat_minor": 5
}
