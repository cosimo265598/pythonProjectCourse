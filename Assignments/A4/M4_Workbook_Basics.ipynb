{
 "cells": [
  {
   "cell_type": "markdown",
   "metadata": {
    "id": "0fad8b08-f2c5-44ec-88bf-69ac8224b25c"
   },
   "source": [
    "# Ex. 01\n",
    "Given two NumPy arrays generate a first intermerdiary array with the sum of the two, and then compute the square root of each element of the latter.\n",
    "\n",
    "## Example\n",
    "\n",
    "- `a_1` = `[[1, 16, 1] [21 ,18, 27]]`\n",
    "- `a_2` = `[[15 ,33, 24] [15 ,7, -2]]`\n",
    "- `a_sum` = `[[16, 49, 25] [36, 25, 25]]`\n",
    "- `a_sqrt` = `[[4, 7, 5] [6, 5, 5]]`\n",
    "\n"
   ]
  },
  {
   "cell_type": "code",
   "execution_count": 3,
   "metadata": {},
   "outputs": [
    {
     "name": "stdout",
     "output_type": "stream",
     "text": [
      "[[16 49 25]\n",
      " [36 25 25]]\n",
      "[[4. 7. 5.]\n",
      " [6. 5. 5.]]\n"
     ]
    }
   ],
   "source": [
    "import numpy as np\n",
    "\n",
    "a_1 = np.array([[1, 16, 1],[21 ,18, 27]])\n",
    "a_2 = np.array([[15 ,33, 24],[15 ,7, -2]])\n",
    "\n",
    "s= np.array(a_1+a_2)\n",
    "print(s)\n",
    "\n",
    "sqrt=np.sqrt(s)\n",
    "print(sqrt,)\n"
   ]
  },
  {
   "cell_type": "markdown",
   "metadata": {
    "id": "u5IgXHYw8x1R"
   },
   "source": [
    "# Ex. 02\n",
    "\n",
    "Given an input array, return a sub-array selecting only its odd rows and even columns.\n",
    "\n",
    "## Example\n",
    "\n",
    "- `in` = `[[3,6,9,12] [15,18,21,24] [27,30,33,36] [39,42,45,48] [51,54,57,60]]`\n",
    "- `out` = `[[6 12] [30 36] [54 60]]`"
   ]
  },
  {
   "cell_type": "code",
   "execution_count": 4,
   "metadata": {},
   "outputs": [
    {
     "name": "stdout",
     "output_type": "stream",
     "text": [
      "[[ 6 12]\n",
      " [30 36]\n",
      " [54 60]]\n"
     ]
    }
   ],
   "source": [
    "input =np.array([[3,6,9,12], [15,18,21,24], [27,30,33,36], [39,42,45,48], [51,54,57,60]])\n",
    "\n",
    "n_array=input[0::2,1::2]\n",
    "print(n_array)   # utilizzo dello sliceing"
   ]
  },
  {
   "cell_type": "markdown",
   "metadata": {
    "id": "rlh738hC-_95"
   },
   "source": [
    "# Ex. 03\n",
    "Given an array in input, replace any elements bigger than `THRESHOLD` with `ANOTHER` value.\n",
    "\n",
    "## Example\n",
    "\n",
    "Let's assume `THRESHOLD = 50` and `ANOTHER = 0`\n",
    "- `in` = `[75, 42, 60]`\n",
    "- `out` = `[0, 42, 0]`"
   ]
  },
  {
   "cell_type": "code",
   "execution_count": 5,
   "metadata": {},
   "outputs": [
    {
     "name": "stdout",
     "output_type": "stream",
     "text": [
      "[ 0 42  0]\n"
     ]
    }
   ],
   "source": [
    "THRESHOLD=50\n",
    "input= np.array([75,42,60])\n",
    "\n",
    "input[input>THRESHOLD]=0\n",
    "\n",
    "print(input)\n"
   ]
  },
  {
   "cell_type": "markdown",
   "metadata": {
    "id": "MFOQ3TVMBoZI"
   },
   "source": [
    "# Ex. 04\n",
    "\n",
    "Given a bi-dimensional NumPy array containing only ones, add a *frame* of zero values all around its borders.\n",
    "\n",
    "## Hints\n",
    "- You can solve this request *by-hand*\n",
    "- You can solve this request using fancy indexing\n",
    "- You can solve this request exploring the [built-in methods](https://numpy.org/doc/stable/reference/generated/numpy.ndarray.html) of `ndarray`\n",
    "\n",
    "## Example\n",
    "\n",
    "- `in` = `[[1 1] [1 1]]`\n",
    "- `out`= `[[0 0 0 0] [0 1 1 0] [0 1 1 0] [0 0 0 0]]`"
   ]
  },
  {
   "cell_type": "code",
   "execution_count": 19,
   "metadata": {},
   "outputs": [
    {
     "name": "stdout",
     "output_type": "stream",
     "text": [
      "[[1 1 1 1]\n",
      " [1 1 1 1]\n",
      " [1 1 1 1]\n",
      " [1 1 1 1]]\n",
      "[[0 0 0 0 0 0]\n",
      " [0 1 1 1 1 0]\n",
      " [0 1 1 1 1 0]\n",
      " [0 1 1 1 1 0]\n",
      " [0 1 1 1 1 0]\n",
      " [0 0 0 0 0 0]]\n"
     ]
    }
   ],
   "source": [
    "input=np.ones((4,4),dtype=int)\n",
    "\n",
    "print(input)\n",
    "x,y=np.shape(input)\n",
    "\n",
    "\n",
    "out=np.insert(input,(0,x),0,axis=1)\n",
    "out=np.insert(out,(0,y),0,axis=0)\n",
    "\n",
    "print(out)\n"
   ]
  },
  {
   "cell_type": "markdown",
   "metadata": {
    "id": "9hIVX86GEOGT"
   },
   "source": [
    "# Ex. 05\n",
    "\n",
    "Convert a given dictionary into a NumPy array.\n",
    "\n",
    "After converting the sample dictionary below into an array, check its `dtype` and try to find its meaning in the [DOCS](https://numpy.org/doc/stable/reference/arrays.dtypes.html).\n",
    "\n",
    "## Hints\n",
    "In order to perform such a conversion, you have to procede in steps:\n",
    "1. Fetch all the key-value pairs from the dictionary\n",
    "2. Convert the previous result into a list\n",
    "3. Pass the collected list as the `object` argument to the array constructor\n",
    "\n",
    "## Example\n",
    "```python\n",
    "dict = {1: 'Dict',\n",
    "        2: 'To',\n",
    "        3: 'Array'}\n",
    "```\n",
    "becomes\n",
    "```python\n",
    "[['1' 'Dict']\n",
    " ['2' 'To']\n",
    " ['3' 'Array']]\n",
    "```"
   ]
  },
  {
   "cell_type": "code",
   "execution_count": 48,
   "metadata": {},
   "outputs": [
    {
     "name": "stdout",
     "output_type": "stream",
     "text": [
      "{1: 'Dict', 2: 'To', 3: 'Arrayyyyyyy'}\n",
      "[['1' 'Dict']\n",
      " ['2' 'To']\n",
      " ['3' 'Arrayyyyyyy']]\n",
      "<U11\n"
     ]
    }
   ],
   "source": [
    "dict = {1: 'Dict',\n",
    "        2: 'To',\n",
    "        3: 'Array'}\n",
    "\n",
    "print(dict)\n",
    "items=list(dict.items())\n",
    "d2array=np.array(items)\n",
    "print(d2array)\n",
    "\n",
    "print(d2array.dtype)\n",
    "\n",
    "# <U11\n",
    "#  < -> little endian ;  U11 -> unicode String\n"
   ]
  },
  {
   "cell_type": "markdown",
   "metadata": {},
   "source": [
    "# Ex. 06\n",
    "\n",
    "Create a bi-dimensional array of random values whose shape is (N,M). Identify the min, max, and average values within the generated array.\n",
    "\n",
    "## Hints\n",
    "- NumPy arrays expose a set of [built-in methods](https://numpy.org/doc/stable/reference/generated/numpy.ndarray.html) that support the most common operations"
   ]
  },
  {
   "cell_type": "code",
   "execution_count": 80,
   "metadata": {},
   "outputs": [
    {
     "name": "stdout",
     "output_type": "stream",
     "text": [
      "[[97 90 45 23]\n",
      " [87 63 91 52]\n",
      " [98 76 32 38]\n",
      " [23 29 85 88]\n",
      " [83 58 20  6]]\n"
     ]
    }
   ],
   "source": [
    "import random\n",
    "\n",
    "N=5\n",
    "M=4\n",
    "out= np.ndarray(shape=(N,M),dtype=int,buffer=np.random.randint(0,100,size=(1,N*M)))\n",
    "\n",
    "print(out)"
   ]
  },
  {
   "cell_type": "markdown",
   "metadata": {},
   "source": [
    "# Ex. 07\n",
    "Create a 8x8 matrix filled with 0s and 1s in a checkerboard pattern.\n",
    "\n",
    "## Hints\n",
    "- You can solve this request expliting slicing\n",
    "- You can solve this request using `np.tile`"
   ]
  },
  {
   "cell_type": "code",
   "execution_count": 89,
   "metadata": {},
   "outputs": [
    {
     "name": "stdout",
     "output_type": "stream",
     "text": [
      "[[0 1 0 1 0 1 0 1 0 1 0 1 0 1 0 1 0 1 0 1]\n",
      " [1 0 1 0 1 0 1 0 1 0 1 0 1 0 1 0 1 0 1 0]\n",
      " [0 1 0 1 0 1 0 1 0 1 0 1 0 1 0 1 0 1 0 1]\n",
      " [1 0 1 0 1 0 1 0 1 0 1 0 1 0 1 0 1 0 1 0]\n",
      " [0 1 0 1 0 1 0 1 0 1 0 1 0 1 0 1 0 1 0 1]\n",
      " [1 0 1 0 1 0 1 0 1 0 1 0 1 0 1 0 1 0 1 0]\n",
      " [0 1 0 1 0 1 0 1 0 1 0 1 0 1 0 1 0 1 0 1]\n",
      " [1 0 1 0 1 0 1 0 1 0 1 0 1 0 1 0 1 0 1 0]\n",
      " [0 1 0 1 0 1 0 1 0 1 0 1 0 1 0 1 0 1 0 1]\n",
      " [1 0 1 0 1 0 1 0 1 0 1 0 1 0 1 0 1 0 1 0]\n",
      " [0 1 0 1 0 1 0 1 0 1 0 1 0 1 0 1 0 1 0 1]\n",
      " [1 0 1 0 1 0 1 0 1 0 1 0 1 0 1 0 1 0 1 0]\n",
      " [0 1 0 1 0 1 0 1 0 1 0 1 0 1 0 1 0 1 0 1]\n",
      " [1 0 1 0 1 0 1 0 1 0 1 0 1 0 1 0 1 0 1 0]\n",
      " [0 1 0 1 0 1 0 1 0 1 0 1 0 1 0 1 0 1 0 1]\n",
      " [1 0 1 0 1 0 1 0 1 0 1 0 1 0 1 0 1 0 1 0]\n",
      " [0 1 0 1 0 1 0 1 0 1 0 1 0 1 0 1 0 1 0 1]\n",
      " [1 0 1 0 1 0 1 0 1 0 1 0 1 0 1 0 1 0 1 0]\n",
      " [0 1 0 1 0 1 0 1 0 1 0 1 0 1 0 1 0 1 0 1]\n",
      " [1 0 1 0 1 0 1 0 1 0 1 0 1 0 1 0 1 0 1 0]]\n"
     ]
    }
   ],
   "source": [
    "schema=np.array([[0,1],[1,0]])\n",
    "out= np.tile(schema,(10,10))\n",
    "print(out)"
   ]
  },
  {
   "cell_type": "markdown",
   "metadata": {},
   "source": [
    "# Ex. 08\n",
    "Generate and normalize a 2d matrix of random samples.\n",
    "\n",
    "## Hints\n",
    "- Normalize the data by [standard-score](https://en.wikipedia.org/wiki/Standard_score)"
   ]
  },
  {
   "cell_type": "code",
   "execution_count": 107,
   "metadata": {},
   "outputs": [
    {
     "name": "stdout",
     "output_type": "stream",
     "text": [
      "[[0.68842557 0.64031721 0.57695547 0.2033675  0.77916286]\n",
      " [0.13405325 0.2219509  0.29115232 0.4529009  0.0519702 ]\n",
      " [0.30289142 0.30333944 0.33741018 0.61242166 0.73472249]\n",
      " [0.80477804 0.90484319 0.03638472 0.62583954 0.26064871]\n",
      " [0.13281743 0.44012467 0.08080877 0.98070592 0.51899995]]\n",
      "[[ 0.89111832  0.71523744  0.48359125 -0.88222093  1.22284767]\n",
      " [-1.1356291  -0.81428129 -0.56128563  0.03005619 -1.43571913]\n",
      " [-0.51836828 -0.51673033 -0.39217002  0.61325321  1.06037669]\n",
      " [ 1.31649503  1.68232641 -1.49269861  0.66230805 -0.67280475]\n",
      " [-1.14014718 -0.01665286 -1.3302873   1.95967535  0.27170979]]\n"
     ]
    }
   ],
   "source": [
    "out= np.random.random(size=(5,5))\n",
    "print(out)\n",
    "out=(out - np.mean(out))/(np.std(out))\n",
    "print(out)"
   ]
  },
  {
   "cell_type": "markdown",
   "metadata": {},
   "source": [
    "# Ex. 09\n",
    "Given a 1d array, negate all elements which are between `MIN` and `MAX`, in place.\n",
    "\n",
    "## Hints\n",
    "- You can use `<` and `>` to select elements in your arrays\n",
    "- You can combine Boolean expressions together"
   ]
  },
  {
   "cell_type": "code",
   "execution_count": 111,
   "metadata": {},
   "outputs": [
    {
     "name": "stdout",
     "output_type": "stream",
     "text": [
      "[82 63 30 17 59 30 72  8 66 20 69 63 31 91 86 30 47 75 90 46]\n",
      "[ 82 -63 -30  17 -59 -30 -72   8 -66  20 -69 -63 -31  91  86 -30 -47 -75\n",
      "  90 -46]\n"
     ]
    }
   ],
   "source": [
    "out= np.random.randint(1,100,size=20)\n",
    "print(out)\n",
    "MIN=20\n",
    "MAX=80\n",
    "\n",
    "out[(out>MIN) & (out<MAX)]*=-1\n",
    "print(out)\n"
   ]
  },
  {
   "cell_type": "markdown",
   "metadata": {},
   "source": [
    "# Ex. 10\n",
    "Write a generator function that returns the first N elements of the [Pell-Lucas sequence](https://en.wikipedia.org/wiki/Pell_number#Pell%E2%80%93Lucas_numbers) and use it as source data to create an array.\n",
    "\n",
    "## Hints\n",
    "- You can use `np.fromiter`"
   ]
  },
  {
   "cell_type": "code",
   "execution_count": 175,
   "metadata": {},
   "outputs": [
    {
     "name": "stdout",
     "output_type": "stream",
     "text": [
      "[       2        2        6       14       34       82      198      478\n",
      "     1154     2786     6726    16238    39202    94642   228486   551614\n",
      "  1331714  3215042  7761798 18738638]\n"
     ]
    }
   ],
   "source": [
    "\n",
    "def pell_Lucas():\n",
    "    n_1,n_2 = 2,2\n",
    "    yield n_2\n",
    "    yield n_1\n",
    "    while True:      \n",
    "        yield 2*n_1+n_2\n",
    "        n_1,n_2= 2*n_1+n_2,n_1\n",
    "\n",
    "gen=pell_Lucas()\n",
    "N=20\n",
    "out=np.fromiter(gen,dtype=int,count=N)\n",
    "\n",
    "print(out)"
   ]
  },
  {
   "cell_type": "markdown",
   "metadata": {},
   "source": [
    "# Ex. 11\n",
    "Consider a random 10x2 matrix representing cartesian coordinates, convert them to polar coordinates.\n",
    "\n",
    "## Hints\n",
    "- You may need to use `np.sqrt` and `np.arctan2`"
   ]
  },
  {
   "cell_type": "code",
   "execution_count": 213,
   "metadata": {},
   "outputs": [
    {
     "name": "stdout",
     "output_type": "stream",
     "text": [
      "[[ 7 96]\n",
      " [26  5]\n",
      " [39 71]\n",
      " [67 99]\n",
      " [27 50]\n",
      " [18 88]\n",
      " [64 76]\n",
      " [94 14]\n",
      " [67 37]\n",
      " [41 19]]\n",
      "[ 96.25487001  26.47640459  81.0061726  119.54078802  56.82429058\n",
      "  89.82204629  99.35793879  95.03683496  76.53757247  45.18849411]\n",
      "[1.49800848 0.18998829 1.06849395 0.97583328 1.07566306 1.36903398\n",
      " 0.87090346 0.14784937 0.50456044 0.43395337]\n"
     ]
    }
   ],
   "source": [
    "out =np.random.randint(1,100,size=(10,2))\n",
    "print(out)\n",
    "\n",
    "X,Y=out[:,0],out[:,1]\n",
    "\n",
    "#toPolar=\n",
    "\n",
    "x=np.sqrt(X**2 + Y**2)\n",
    "y=np.arctan2(Y,X)\n",
    "print(x)\n",
    "print(y)\n"
   ]
  },
  {
   "cell_type": "markdown",
   "metadata": {},
   "source": [
    "# Ex. 12\n",
    "Considering two arrays with shape (1,N) and (N,1). Compute their sum using an iterator.\n",
    "\n",
    "## Hints\n",
    "- You may use `np.nditer`"
   ]
  },
  {
   "cell_type": "code",
   "execution_count": 261,
   "metadata": {},
   "outputs": [
    {
     "name": "stdout",
     "output_type": "stream",
     "text": [
      "[[25 82 38 82 74]]\n",
      "[[74]\n",
      " [11]\n",
      " [ 1]\n",
      " [31]\n",
      " [36]]\n",
      "[[ 99 156 112 156 148]\n",
      " [ 36  93  49  93  85]\n",
      " [ 26  83  39  83  75]\n",
      " [ 56 113  69 113 105]\n",
      " [ 61 118  74 118 110]]\n"
     ]
    }
   ],
   "source": [
    "N=5\n",
    "a = np.random.randint(1,100,size=(1,N))\n",
    "b = np.random.randint(1,100,size=(N,1))\n",
    "\n",
    "print(a)\n",
    "print(b)\n",
    "\n",
    "it = np.nditer([a,b,None])\n",
    "\n",
    "for e1,e2,z in it:\n",
    "    z[...]=e1+e2\n",
    "\n",
    "print(it.operands[2])"
   ]
  }
 ],
 "metadata": {
  "colab": {
   "authorship_tag": "ABX9TyMv45JxdTcNX11z9S2k1woA",
   "name": "M4_Workbook_Basics.ipynb",
   "provenance": []
  },
  "interpreter": {
   "hash": "544ee7c543f0408712405a0d707d2c8ee85e48269dc9e203eb136c867a37bf91"
  },
  "kernelspec": {
   "display_name": "Python 3.9.6 64-bit",
   "language": "python",
   "name": "python3"
  },
  "language_info": {
   "codemirror_mode": {
    "name": "ipython",
    "version": 3
   },
   "file_extension": ".py",
   "mimetype": "text/x-python",
   "name": "python",
   "nbconvert_exporter": "python",
   "pygments_lexer": "ipython3",
   "version": "3.9.6"
  },
  "toc-autonumbering": false
 },
 "nbformat": 4,
 "nbformat_minor": 4
}
