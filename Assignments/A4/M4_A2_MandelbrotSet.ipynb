{
 "cells": [
  {
   "cell_type": "markdown",
   "id": "ac369d57-a8ba-4b6d-b9c9-25e674e9bffc",
   "metadata": {},
   "source": [
    "# Mandelbrot Set\n",
    "\n",
    "The [Mandelbrot set](https://en.wikipedia.org/wiki/Mandelbrot_set) is the set of complex numbers $c$  for which the function $ f_{c}(z)=z^{2}+c$ does not diverge to infinity when iterated from $z=0$, i.e., for which the sequence $f_{c}(0)$, $ f_{c}(f_{c}(0))$, $f_{c}(f_{c}(0))$, etc., remains bounded in absolute value. \n",
    "The Mandelbrot sequence is thus given by the following recursive formula:\n",
    "$$\n",
    "\\left\\{\\begin{matrix}\n",
    "z_0 &=& 0 \\\\\n",
    "z_{n+1} &=& z^2_n + c\n",
    "\\end{matrix}\\right.\n",
    "$$\n",
    "Informally, to identify complex numbers belonging to the Mandelbrot set, we must apply the above formula with a given complex value $c$. Such a number will remain constant for the whole process. The first element of the sequence is always equal to zero. The subsequent values are computed  squaring the previous element and adding the initial number $c$ in a feedback loop.\n",
    "Note that the sequence is infinite, so there must be a set maximum number of iteration to grant halting.\n",
    "If at a given step for a given $c$ the sequence diverges, i.e., it goes beyond a fixed *horizon*, the evaluation is also stopped.\n",
    "\n",
    "In order to represent the Mandelbrot set we have to apply the above formula to all the points in a subset of the complex plane, and keep track of the number of iterations we can perform for each point before divergence.\n",
    "\n",
    "> Conveniently, the Mandelbrot set fits in a circle with a radius of two on the complex plane. There is no need to explore further than that.\n",
    "\n",
    "You are required to write a pure Python implementation of a function to evaluate the Mandelbrot set, using iteration, and a vectorized function using NumPy and its arrays. You then must evaluate and compare the performance of the two approaches.\n",
    "\n",
    "You should also try to visualize the end result obtained via NumPy relying on `matplotlib` plotting functionalities.\n",
    "You should obtain something similiar to the following image.\n",
    "\n",
    "<center><img src=\"mandelbrot.png\" style=\"max-width:500px;\"/></center>"
   ]
  },
  {
   "cell_type": "code",
   "execution_count": null,
   "id": "79335610-78cb-494a-a529-3f00b8e71b6d",
   "metadata": {},
   "outputs": [],
   "source": []
  }
 ],
 "metadata": {
  "kernelspec": {
   "display_name": "Python 3 (ipykernel)",
   "language": "python",
   "name": "python3"
  },
  "language_info": {
   "codemirror_mode": {
    "name": "ipython",
    "version": 3
   },
   "file_extension": ".py",
   "mimetype": "text/x-python",
   "name": "python",
   "nbconvert_exporter": "python",
   "pygments_lexer": "ipython3",
   "version": "3.9.7"
  }
 },
 "nbformat": 4,
 "nbformat_minor": 5
}
